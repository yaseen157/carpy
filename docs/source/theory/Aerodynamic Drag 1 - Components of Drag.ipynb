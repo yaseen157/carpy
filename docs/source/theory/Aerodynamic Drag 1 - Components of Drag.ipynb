{
 "cells": [
  {
   "cell_type": "markdown",
   "id": "6a7798f0",
   "metadata": {},
   "source": [
    "# Aerodynamic Drag 1 - Components of Drag"
   ]
  },
  {
   "cell_type": "markdown",
   "id": "41f1e3da",
   "metadata": {},
   "source": [
    "This notebook explores how we can breakdown the complex process of drag estimation, into more manageable actions."
   ]
  },
  {
   "cell_type": "markdown",
   "id": "f0c9e326",
   "metadata": {},
   "source": [
    "## Modelling Formulation"
   ]
  },
  {
   "cell_type": "markdown",
   "id": "3f988c4b",
   "metadata": {},
   "source": [
    "The force of drag acting on an aircraft can be broken down into linear contributions from many sources"
   ]
  },
  {
   "cell_type": "markdown",
   "id": "79de1f85",
   "metadata": {},
   "source": [
    "$$D = \\Sigma_{j=0}^{N} D_j \\qquad \\text{with} \\qquad N >> 1$$"
   ]
  },
  {
   "cell_type": "markdown",
   "id": "4cb9ffc8",
   "metadata": {},
   "source": [
    "It's helpful to non-dimensionalise the drag force into a linear sum of coefficients of drag"
   ]
  },
  {
   "cell_type": "markdown",
   "id": "4e993eb1",
   "metadata": {},
   "source": [
    "$$D = \\frac{1}{2}\\rho V^2 S C_D \\qquad \\text{where} \\qquad C_D = \\Sigma_{j=0}^N C_{D_{j}}$$"
   ]
  },
  {
   "cell_type": "markdown",
   "id": "bd1cddd6",
   "metadata": {},
   "source": [
    "and now, we can break up this drag coefficient $C_D$ into one of the following categories"
   ]
  },
  {
   "cell_type": "markdown",
   "id": "cddcb0f4",
   "metadata": {},
   "source": [
    "\\begin{eqnarray}\n",
    "C_D &=& C_{D_0} &+& C_{D_i} &+& C_{D_w} \\\\\n",
    "\\uparrow && \\uparrow && \\uparrow && \\uparrow \\\\\n",
    "\\text{Total Drag} &=& \\text{Profile Drag} &+& \\text{Induced Drag} &+& \\text{Wave Drag}\n",
    "\\end{eqnarray}"
   ]
  },
  {
   "cell_type": "markdown",
   "id": "1ad6c9a9",
   "metadata": {},
   "source": [
    "We'll explore contributions to these categories momentarily, but it's important to understand that most contributions to these categories can themselves be broken into two subcategories for the purposes of effectual mathematical modelling:\n",
    "    \n",
    "1. **Drag due to Lift**:\n",
    "    These are components of drag that arise as a result of a vehicle needing to produce a lift force. If an aerodynamic body is not producing lift, the contributions from these components are negligible.\n",
    "\n",
    "1. **Zero-lift drag**:\n",
    "    What doesn't fall into the subcategory of lift-dependent drag are simply those drag subcomponents that are independent of lift. The magnitude of non-dimensional drag coefficients is non-zero and contribute to $C_{D}$ - even when the aerodynamic object is producing no lift."
   ]
  },
  {
   "cell_type": "markdown",
   "id": "f42c2c97",
   "metadata": {},
   "source": [
    "##### <span style=\"color:red\">IMPORTANT NOTE</span>:\n",
    "\n",
    "The below drag breakdown is my understanding of what's going on. I have tried to reconcile available information with what makes sense, but feel free to contest my assessment if you think I got this part wrong."
   ]
  },
  {
   "cell_type": "markdown",
   "id": "3827244e",
   "metadata": {},
   "source": [
    "In most introductory lessons to drag, you'll find a slightly different representations of the drag breakdown using similar symbology and scripting.\n",
    "We'll clarify two common portrayals below by first recapping what this means for the formulation above:"
   ]
  },
  {
   "cell_type": "markdown",
   "id": "2d8c273f",
   "metadata": {},
   "source": [
    "\\begin{eqnarray}\n",
    "\\text{Profile Drag } (C_{D_0}) &=& \\text{Zero-lift drag components} &+& \\text{(Lift-) Induced drag components}\\\\\n",
    "\\text{Induced Drag } (C_{D_i}) &=& 0 &+& \\text{(Lift-) Induced drag components}\\\\\n",
    "\\text{Wave Drag } (C_{D_w}) &=& \\text{Zero-lift drag components} &+& \\text{(Lift-) Induced drag components}\n",
    "\\end{eqnarray}"
   ]
  },
  {
   "cell_type": "markdown",
   "id": "6e8747f5",
   "metadata": {},
   "source": [
    "and in the second model, we sum all the *zero-lift* and *lift-induced* drag subcomponents across all the categories:"
   ]
  },
  {
   "cell_type": "markdown",
   "id": "0f5a5747",
   "metadata": {},
   "source": [
    "\\begin{eqnarray}\n",
    "\\text{Minimum Drag } (C_{D_{\\text{min}}}) &\\equiv& \\text{Zero-lift Drag } (C_{D_0}) &=& \\text{Zero-lift drag from} & \\text{[Profile + Wave]}\\\\\n",
    "&& \\text{Induced Drag } (C_{D_i}) &=& \\text{Induced drag from} & \\text{[Profile + Lift-Induced Drag + Wave]}\n",
    "\\end{eqnarray}"
   ]
  },
  {
   "cell_type": "markdown",
   "id": "98a7eac8",
   "metadata": {},
   "source": [
    "In both representations, you will often see $C_{D_0} = \\text{constant}$ and $C_{D_i} = f(C_L)$.\n",
    "In reality one should see that for constant $C_{D_0}$, the first model would have to neglect lift-induced contributions to profile drag, and the second model would neglect the zero-lift components from wave drag that only arise after the aerodynamic body encounters transonic and supersonic flow effects.\n",
    "\n",
    "This often makes the second representation more prevalent in that introductory drag modelling first considers simpler subsonic cases, and the lift-induced subcomponent of profile drag is absorbed into induced drag calculations (if it is even considered at all)."
   ]
  },
  {
   "cell_type": "markdown",
   "id": "46b25d9e",
   "metadata": {},
   "source": [
    "*So which representation should you care about for this library?*\n",
    "\n",
    "CARPy makes use of the first representation, because it's easier to discretise in the library's architecture (as I develop it).\n",
    "*Profile drag* estimation tends to be a 2D problem for 2D geometry, *Induced drag* can be estimated as part of the mapping from 2D aerofoils to 3D wings, and *Wave drag* only makes sense to compute after major 3D geometry of a vehicle has already been established."
   ]
  },
  {
   "cell_type": "markdown",
   "id": "b89cd5b1",
   "metadata": {},
   "source": [
    "## Profile Drag, $C_{D_0}$"
   ]
  },
  {
   "cell_type": "markdown",
   "id": "6102d90a",
   "metadata": {},
   "source": [
    "Profile drag can largely be thought of as the drag associated with the 2D profile of aerofoils.\n",
    "Profile drag is also sometimes known as *parasitic drag* (an ever present drag component sapping away at your aircraft's hard earned energy state).\n",
    "\n",
    "The proportion of profile drag made up of skin friction drag for aerodynamic shapes tends to vary between 80-100% of the total profile drag."
   ]
  },
  {
   "cell_type": "markdown",
   "id": "9c53e9fa",
   "metadata": {},
   "source": [
    "#### *Zero-lift* component"
   ]
  },
  {
   "cell_type": "markdown",
   "id": "8f2c888c",
   "metadata": {},
   "source": [
    "- Pressure drag, a.k.a Form drag\n",
    "\n",
    "Pressure (form) drag is the drag associated with the separation of flow from a surface.\n",
    "The resulting turbulence and eddy currents in the wake flow of an object are responsible for a suction-type drag effect.\n",
    "Form drag is a function of how slender or streamlined an object is.\n",
    "\n",
    "In addition to this, the mixing of dissimilar airflows causes *interference* drag.\n",
    "This is a type of form drag in which turbulence and eddy currents in the wake flow of an object, as you might've guessed by now, *also* create a suction-type drag effect.\n",
    "\n",
    "Air molecules do not care that they are moving around a weapons pylon, a wing, control surface, or nose gear - the molecules encounter \"*the vehicle*\" just the same - some flow separates around some geometries, and other flows mix poorly around others (both causing form drag)."
   ]
  },
  {
   "cell_type": "markdown",
   "id": "23f78d54",
   "metadata": {},
   "source": [
    "- Skin friction drag\n",
    "\n",
    "Thanks to the *no-slip boundary condition*, particles in viscous fluids closest to a solid boundary have no velocity relative to the boundary - i.e. the forces of adhesion to the wall are stronger than the forces of cohesion with other particles closer to the freestream.\n",
    "The size of the boundary layer, how laminar or turbulent it is, and the viscosity of the fluid all play important roles in being able to estimate the frictional drag force caused by the aerodynamically *wetted* skin of the object.\n",
    "\n",
    "Skin friction drag can be estimated by considering a coefficient of friction somehwere between empirically determined laminar and turbulent solutions.\n",
    "The position at which oncoming laminar flow transitions to turbulent flow is dictated by the flow Reynolds number, as well as the quality of the aerodynamic surface's finish."
   ]
  },
  {
   "cell_type": "markdown",
   "id": "8e30d35f",
   "metadata": {},
   "source": [
    "#### *Lift-induced* component"
   ]
  },
  {
   "cell_type": "markdown",
   "id": "7dedf9bd",
   "metadata": {},
   "source": [
    "- Skin friction drag\n",
    "\n",
    "In addition to the smoothness of the aerodynamic surface and Reynolds number, the transition point of a flow from laminar to turbulent is also given by the pressure gradient over an aerofoil (which changes with angle of attack).\n",
    "A favourable pressure gradient is that in which the pressure gradient is reducing (negative gradient) causing the flow to accelerate and stabilise the boundary layer, allowing for an extensive laminar regime.\n",
    "Giving the flow too short a distance to decelerate will cause flow separation and increased effective skin friction.\n",
    "Varying the sectional angle of attack will change the chordwise pressure distribution, impacting transition points on upper and lower surfaces."
   ]
  },
  {
   "cell_type": "markdown",
   "id": "0c927d7c",
   "metadata": {},
   "source": [
    "- Pressure drag\n",
    "\n",
    "The effect of flow separation is an undesirable pressure recovery on the low pressure (upper) surface of a lifting body.\n",
    "For a wing, this resulting reduction in pressure differential between upper and lower surfaces reduces the total lift force capacity of the wing."
   ]
  },
  {
   "cell_type": "markdown",
   "id": "678b3e62",
   "metadata": {},
   "source": [
    "## Induced Drag, $C_{D_i}$"
   ]
  },
  {
   "cell_type": "markdown",
   "id": "fc0e9e67",
   "metadata": {},
   "source": [
    "The nomenclature can be a little confusing.\n",
    "In this context, induced drag primarily refers to the drag produced explicitly due to lift-induced changes in the local angle of attack of a wing (thanks to variable pressure distributions along a wing's span).\n",
    "This term does not include lift-induced drag subcomponents of Profile or Wave drag.\n",
    "\n",
    "*By definition, this term has no zero-lift drag component.*"
   ]
  },
  {
   "cell_type": "markdown",
   "id": "11ab4588",
   "metadata": {},
   "source": [
    "#### *Lift-induced* component"
   ]
  },
  {
   "cell_type": "markdown",
   "id": "c945b8ec",
   "metadata": {},
   "source": [
    "- Pressure drag, a.k.a Vortex drag\n",
    "\n",
    "Induced drag is a purely 3D phenomena, in that it is caused by the lateral motion of air across a wing.\n",
    "The higher pressure surfaces below a wing spill pressure energy around the wing tips into the lower pressure zones above a wing.\n",
    "This causes a swirling vortex of air with an axis of rotation near the wing tips (hence they are called 'tip vortices'), where air below the wing moves outboard, and air above the wing moves inward.\n",
    "This movement of air is known as 'downwash', induced by the tip vortices.\n",
    "\n",
    "According to Prandtl's Lifting-line Theory (PLLT), lifting surfaces can be modelled as a continuous sheet of vortices and aptly models this circulatory flow.\n",
    "Considering for a moment a 2D section of the wing - the downwash induces a local, downward velocity component that reduces the \n",
    "section's effective angle of attack $\\alpha_{\\text{eff}}$ by the induced angle of attack $\\alpha_i$."
   ]
  },
  {
   "cell_type": "markdown",
   "id": "3283ebb9",
   "metadata": {},
   "source": [
    "$$\\alpha_{\\text{eff}} = \\alpha_{\\infty} - \\alpha_i$$"
   ]
  },
  {
   "cell_type": "markdown",
   "id": "be0e80e7",
   "metadata": {},
   "source": [
    "Despite freestream angle of attack $\\alpha_{\\infty}$ remaining unchanged, the local reduction in a section's angle of attack has the effect of tilting the lift vector backwards (towards the trailing edge) by $\\alpha_i$.\n",
    "This rotation of this local, sectional lift vector means less of it is contributing to the wing's lift force normal to the freestream direction we care about - and even worse, the remaining component of the vector now acts in a direction opposing motion of the wing (hence 'lift-induced' drag)."
   ]
  },
  {
   "cell_type": "markdown",
   "id": "4b89a9bc",
   "metadata": {},
   "source": [
    "## Wave Drag, $C_{D_w}$     [\\**Coming soon*\\*]"
   ]
  },
  {
   "cell_type": "markdown",
   "id": "b75a57ff",
   "metadata": {},
   "source": [
    "#### *Zero-lift* component"
   ]
  },
  {
   "cell_type": "markdown",
   "id": "e45ab375",
   "metadata": {},
   "source": [
    "- Wave drag due to volume"
   ]
  },
  {
   "cell_type": "markdown",
   "id": "0f6a1c25",
   "metadata": {},
   "source": [
    "#### *Lift-induced* component"
   ]
  },
  {
   "cell_type": "markdown",
   "id": "d7ae776f",
   "metadata": {},
   "source": [
    "- Wave drag due to lift"
   ]
  },
  {
   "cell_type": "markdown",
   "id": "f6ae4e98",
   "metadata": {},
   "source": []
  }
 ],
 "metadata": {
  "kernelspec": {
   "display_name": "Python 3 (ipykernel)",
   "language": "python",
   "name": "python3"
  },
  "language_info": {
   "codemirror_mode": {
    "name": "ipython",
    "version": 3
   },
   "file_extension": ".py",
   "mimetype": "text/x-python",
   "name": "python",
   "nbconvert_exporter": "python",
   "pygments_lexer": "ipython3",
   "version": "3.9.5"
  }
 },
 "nbformat": 4,
 "nbformat_minor": 5
}
