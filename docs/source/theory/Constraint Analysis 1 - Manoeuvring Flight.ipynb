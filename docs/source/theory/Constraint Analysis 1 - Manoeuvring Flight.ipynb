{
 "cells": [
  {
   "cell_type": "markdown",
   "id": "67931663",
   "metadata": {},
   "source": [
    "# Constraint Analysis 1 - Manoeuvring Flight"
   ]
  },
  {
   "cell_type": "markdown",
   "id": "92dcb44a",
   "metadata": {},
   "source": [
    "In this notebook, we derive the fundamental performance equation for constraining designs using energy theory."
   ]
  },
  {
   "cell_type": "markdown",
   "id": "3b5091ab",
   "metadata": {},
   "source": [
    "## Fundamental Performance Equation"
   ]
  },
  {
   "cell_type": "markdown",
   "id": "17610d23",
   "metadata": {},
   "source": [
    "Consider the total energy state of the aircraft, in terms of mechanical work to maintain position and velocity"
   ]
  },
  {
   "cell_type": "markdown",
   "id": "a83f2074",
   "metadata": {},
   "source": [
    "$$\n",
    "E = E_{\\text{G.P.}} + E_{\\text{K.E.}}\n",
    "$$"
   ]
  },
  {
   "cell_type": "markdown",
   "id": "ca49d820",
   "metadata": {},
   "source": [
    "where $E_{\\text{G.P.}}$ and $E_{\\text{K.E.}}$ refer to gravitational potential and kinetic energies, respectively.\n",
    "Each term is defined as follows"
   ]
  },
  {
   "cell_type": "markdown",
   "id": "75032f93",
   "metadata": {},
   "source": [
    "\\begin{eqnarray}\n",
    "E_{\\text{G.P.}} &=& mgz \\\\\n",
    "E_{\\text{K.E.}} &=& \\tfrac{1}{2} mV^2 \\\\\n",
    "\\end{eqnarray}"
   ]
  },
  {
   "cell_type": "markdown",
   "id": "8f414bb9",
   "metadata": {},
   "source": [
    "with mass $m$, acceleration due to local gravity $g$, geometric altitude $z$, and body velocity $V$."
   ]
  },
  {
   "cell_type": "markdown",
   "id": "be8878d0",
   "metadata": {},
   "source": [
    "#### Excess Power"
   ]
  },
  {
   "cell_type": "markdown",
   "id": "df967cb1",
   "metadata": {},
   "source": [
    "Taking local gravity to be approximately constant, the rate of change of system energy (power) is"
   ]
  },
  {
   "cell_type": "markdown",
   "id": "341e60e6",
   "metadata": {},
   "source": [
    "$$\n",
    "P =\\frac{dE}{dt}\n",
    "= \\left[ \\frac{dm}{dt}gz + mg \\frac{dz}{dt} \\right]\n",
    "+ \\left[ mV \\frac{dV}{dt} + \\frac{1}{2} \\frac{dm}{dt} V^2 \\right]\n",
    "$$"
   ]
  },
  {
   "cell_type": "markdown",
   "id": "e1dd4cde",
   "metadata": {},
   "source": [
    "Then, using the following change of variables and notation"
   ]
  },
  {
   "cell_type": "markdown",
   "id": "1881d45e",
   "metadata": {},
   "source": [
    "$$W = mg \\qquad \\frac{d}{dt} \\big( x(t) \\big) \\equiv \\dot x$$"
   ]
  },
  {
   "cell_type": "markdown",
   "id": "0e3b9e94",
   "metadata": {},
   "source": [
    "System power is now"
   ]
  },
  {
   "cell_type": "markdown",
   "id": "b9dfc3f8",
   "metadata": {},
   "source": [
    "$$\n",
    "P =\\frac{dE}{dt}\n",
    "= \\left[ \\frac{dW}{dt}z + \\frac{dz}{dt}W \\right]\n",
    "+ \\left[ \\frac{1}{g} \\left(\\frac{dV}{dt}VW + \\frac{1}{2} \\frac{dW}{dt} V^2 \\right) \\right]\n",
    "$$"
   ]
  },
  {
   "cell_type": "markdown",
   "id": "a3dae464",
   "metadata": {},
   "source": [
    "$$\n",
    "P\n",
    "= \\dot W \\times \\left( z + \\frac{V^2}{2g} \\right)\n",
    "+ W \\times \\left( \\dot z + \\frac{\\dot V}{g} V \\right)\n",
    "$$"
   ]
  },
  {
   "cell_type": "markdown",
   "id": "fddff3f8",
   "metadata": {},
   "source": [
    "where vehicle weight $W$ has been introduced.\n",
    "Each of the terms in brackets corresponds with rates of change in [`gravitational potential`] and [`kinetic`] energies:\n",
    "\n",
    "1. The first bracketed term represents the aircraft's depletion of mechanical energy with the consumption of onboard fuel stores.\n",
    "2. The second term represents the addition (or depletion) of mechanical energy from climbing (descending) or accelerating (decelerating).\n",
    "\n",
    "The significance of $P$ is that it is the rate of change of vehicle mechanical energy, or expenditure of energy to change the aircraft's position, velocity, and/or acceleration.\n",
    "When $P=0$ there is no excess of power from the aircraft powerplant (beyond the energy to maintain steady level flight), and so the vehicle must trade potential and kinetic energy stores to carry out manoeuvres."
   ]
  },
  {
   "cell_type": "markdown",
   "id": "debd7d64",
   "metadata": {},
   "source": [
    "$$\n",
    "\\begin{eqnarray}\n",
    "P_{\\text{powerplant}} - P_{\\text{levelflight}}\n",
    "&=& P_{\\text{(excess)}} \\\\ \\\\\n",
    "&=& \\dot W \\times \\left( z + \\frac{V^2}{2g} \\right)\n",
    "+ W \\times \\left( \\dot z + \\frac{\\dot V}{g} V \\right) \\\\\n",
    "\\end{eqnarray}\n",
    "$$"
   ]
  },
  {
   "cell_type": "markdown",
   "id": "f6e2fc57",
   "metadata": {},
   "source": [
    "If the powerplant of an aircraft produces more power than is necessary to fly ($P_{\\text{powerplant}} > P_{\\text{levelflight}}$), there is an excess of power ($P > 0$) - meaning the power budget can be spent in climb or accelerating.\n",
    "As fuel mass is burned off in flight ($\\dot W < 0$), it costs less of the excess power budget to climb and/or accelerate."
   ]
  },
  {
   "cell_type": "markdown",
   "id": "ac3ceafc",
   "metadata": {},
   "source": [
    "#### Specific Excess Power"
   ]
  },
  {
   "cell_type": "markdown",
   "id": "8c39cba8",
   "metadata": {},
   "source": [
    "Recall the expression of power required to make changes to flight conditions"
   ]
  },
  {
   "cell_type": "markdown",
   "id": "24804156",
   "metadata": {},
   "source": [
    "$$\n",
    "P\n",
    "= \\dot W \\times \\left(\n",
    "    z\n",
    "    + \\frac{V^2}{2g}\n",
    "\\right)\n",
    "+ W \\times \\left(\n",
    "    \\dot z\n",
    "    + \\frac{\\dot V}{g} V\n",
    "\\right)\n",
    "$$"
   ]
  },
  {
   "cell_type": "markdown",
   "id": "9fa4eaa7",
   "metadata": {},
   "source": [
    "Normalising by weight gives"
   ]
  },
  {
   "cell_type": "markdown",
   "id": "564c6151",
   "metadata": {},
   "source": [
    "$$\n",
    "P_{s}\n",
    "\\equiv \\frac{P}{W}\n",
    "= \\frac{\\dot W}{W} \\times \\left(\n",
    "    z\n",
    "    + \\frac{V^2}{2g}\n",
    "\\right)\n",
    "+ \\left(\n",
    "    \\dot z\n",
    "    + \\frac{\\dot V}{g} V\n",
    "\\right)\n",
    "$$"
   ]
  },
  {
   "cell_type": "markdown",
   "id": "199a2277",
   "metadata": {},
   "source": [
    "where $P_s$ is the specific excess power of the vehicle.\n",
    "\n",
    "An all-electric aircraft in steady level flight ($ [ \\dot W, \\dot z, \\dot V ] = 0$) has a specific energy of zero, i.e. there is no change in mechanical power (even if on-board electrical power is being consumed)."
   ]
  },
  {
   "cell_type": "markdown",
   "id": "2e237a90",
   "metadata": {},
   "source": [
    "## Force Balance"
   ]
  },
  {
   "cell_type": "markdown",
   "id": "10070090",
   "metadata": {},
   "source": [
    "<img src=\"./images/Free-body-diagram.png\" width=\"50%\" align=\"left\">\n",
    "\n",
    "Consider the 2D forces in a free-body diagram, acting on an <font style=\"color:orange;\">aircraft</font>. It's not uncommon to see simplifications in analysis that treat the thrust vector of an aircraft directly opposing the drag force, however this is not always the case. We can gather a more insightful representation of the force balance where:\n",
    "\n",
    "$\\hspace{1cm}$<font style=\"color:red;\">$\\varepsilon$</font> = Thrust setting angle (versus aircraft chordline)\n",
    "\n",
    "$\\hspace{1cm}$<font style=\"color:orange;\">$\\alpha$</font> = Freestream angle of attack (with respect to aircraft body)\n",
    "\n",
    "$\\hspace{1cm}$<font style=\"color:green;\">$\\theta$</font> = Aircraft pitch angle (aircraft chordline versus horizon)\n",
    "\n",
    "$\\hspace{1cm}$<font style=\"color:blue;\">$\\gamma$</font> = Flight path angle (instantaneous trajectory)\n",
    "\n",
    "$\\hspace{1cm}$<font style=\"color:purple;\">$V$</font> = Freestream (with respect to aircraft body)\n",
    "<br>\n",
    "<br>\n",
    "Resolving forces in the direction parallel to the flight path trajectory (freestream), we find (with vehicle weight $W$):\n",
    "\n",
    "$\\hspace{1cm} T\\cos($<font style=\"color:orange;\">$\\alpha$</font> $+$ <font style=\"color:red;\">$\\varepsilon$</font>$)$\n",
    "$- D - W \\sin($<font style=\"color:blue;\">$\\gamma$</font>$)\\hspace{3pt} = F_{\\text{resultant}}$"
   ]
  },
  {
   "cell_type": "markdown",
   "id": "05fa344c",
   "metadata": {},
   "source": [
    "#### Streamwise Acceleration"
   ]
  },
  {
   "cell_type": "markdown",
   "id": "ac28a88e",
   "metadata": {},
   "source": [
    "Using Newton's second law, we can rewrite this in terms of vehicle weight and streamwise acceleration $\\dot V$"
   ]
  },
  {
   "cell_type": "markdown",
   "id": "876aa837",
   "metadata": {},
   "source": [
    "$$\\text{Force} = \\text{mass} \\times \\text{acceleration}$$"
   ]
  },
  {
   "cell_type": "markdown",
   "id": "86d4b12c",
   "metadata": {},
   "source": [
    "$$\n",
    "T \\cos \\left( \\alpha + \\varepsilon \\right)\n",
    "- D\n",
    "- W \\sin \\left( \\gamma \\right)\n",
    "= \\frac{\\dot V}{g} \\times W\n",
    "$$"
   ]
  },
  {
   "cell_type": "markdown",
   "id": "8158a90e",
   "metadata": {},
   "source": [
    "#### Streamnormal Acceleration in 2D"
   ]
  },
  {
   "cell_type": "markdown",
   "id": "21600592",
   "metadata": {},
   "source": [
    "Resolving forces in the streamnormal direction provides the following balance, with streamnormal acceleration $\\dot V_n$"
   ]
  },
  {
   "cell_type": "markdown",
   "id": "0a6e636b",
   "metadata": {},
   "source": [
    "$$\n",
    "L\n",
    "+ T \\sin \\left( \\alpha + \\varepsilon \\right)\n",
    "- W \\cos \\left( \\gamma \\right)\n",
    "= \\frac{\\dot V_n}{g} \\times W\n",
    "$$"
   ]
  },
  {
   "cell_type": "markdown",
   "id": "e3f541cc",
   "metadata": {},
   "source": [
    "Note how in the first case lift acts perpendicular to the freestream and therefore makes no contribution to streamwise acceleration, and drag acts parallel to the freestream and therefore makes no contribution to streamnormal acceleration."
   ]
  },
  {
   "cell_type": "markdown",
   "id": "141a90b2",
   "metadata": {},
   "source": [
    "#### Streamnormal Acceleration in 3D"
   ]
  },
  {
   "cell_type": "markdown",
   "id": "e05b9729",
   "metadata": {},
   "source": [
    "Now introducing a roll angle using the Tait-Bryan angle conventions, there exists a component of lift and thrust that acts against the weight of the vehicle.\n",
    "The addition of a 3rd dimension requires according changes to our current force balance considerations"
   ]
  },
  {
   "cell_type": "markdown",
   "id": "68bb8671",
   "metadata": {},
   "source": [
    "$$\n",
    "\\big\\{ L + T \\sin \\left( \\alpha + \\varepsilon \\right) \\big\\} \\times \\cos \\left( \\phi \\right)\n",
    "- W  \\cos \\left( \\gamma \\right)\n",
    "= \\frac{ \\textbf{a}_{xz} }{g} \\times W\n",
    "$$"
   ]
  },
  {
   "cell_type": "markdown",
   "id": "f9f187eb",
   "metadata": {},
   "source": [
    "$$\n",
    "\\text{with} \\quad\n",
    "\\ddot z ={\\textbf{a}_{xz}} \\cos \\left( \\gamma \\right) +  \\dot V \\sin \\left( \\gamma \\right)\n",
    "\\qquad \\text{or} \\qquad\n",
    "\\textbf{a}_{xz} = \\frac{{\\ddot z} -\\dot V \\sin \\left( \\gamma \\right)}{\\cos \\left( \\gamma \\right)}\n",
    "$$"
   ]
  },
  {
   "cell_type": "markdown",
   "id": "93bfe379",
   "metadata": {},
   "source": [
    "where the bank angle is given by $\\phi$, $\\textbf{a}_{xz}$ is the acceleration component (due to lift force) in the x-z plane, and $\\ddot z$ is the vertical acceleration of the vehicle.\n",
    "The remaining component of lift and thrust forces provides the centripetal acceleration necessary for circular motion in a turn"
   ]
  },
  {
   "cell_type": "markdown",
   "id": "c9742e23",
   "metadata": {},
   "source": [
    "$$\n",
    "\\big\\{ L + T \\sin \\left( \\alpha + \\varepsilon \\right) \\big\\} \\times \\sin \\left( \\phi \\right)\n",
    "= \\frac{\\dot V_n}{g} \\times W\n",
    "$$"
   ]
  },
  {
   "cell_type": "markdown",
   "id": "accbff83",
   "metadata": {},
   "source": [
    "where the streamnormal is necessarily aligned with the radial vector of the turning circle."
   ]
  },
  {
   "cell_type": "markdown",
   "id": "e3ae30f9",
   "metadata": {},
   "source": [
    "Centripetal acceleration can be given in the following ways"
   ]
  },
  {
   "cell_type": "markdown",
   "id": "dc38a769",
   "metadata": {},
   "source": [
    "$$\\begin{eqnarray}\n",
    "\\dot V_n &=& \\frac{V^2}{R_{\\text{turn}}} &=& \\omega^2 R_{\\text{turn}}\\\\ \\\\\n",
    "V &=& \\frac{2 \\pi}{t}R_{\\text{turn}} &=& \\omega R_{\\text{turn}}\n",
    "\\end{eqnarray}$$"
   ]
  },
  {
   "cell_type": "markdown",
   "id": "5cd515be",
   "metadata": {},
   "source": [
    "where the radius of the turn is given by $R_{\\text{turn}}$, angular velocity of circular motion is $\\omega$, and the period of the turn is $t$.\n",
    "Using the trigonometric identity $\\cos^2 + \\sin^2 = 1$, we can combine the above force balances for streamnormal forces into an expression that is notably indepedent of the bank angle"
   ]
  },
  {
   "cell_type": "markdown",
   "id": "49a0a610",
   "metadata": {},
   "source": [
    "$$\n",
    "L + T \\sin \\left( \\alpha + \\varepsilon \\right)\n",
    "= W \\times \\sqrt{\n",
    "    \\left( \\frac{ \\textbf{a}_{xz} }{g} + \\cos \\left( \\gamma \\right) \\right)^2\n",
    "    + \\left( \\frac{\\dot V_n}{g} \\right)^2\n",
    "    }\n",
    "$$"
   ]
  },
  {
   "cell_type": "markdown",
   "id": "6740bc06",
   "metadata": {},
   "source": [
    "$$\n",
    "L + T \\sin \\left( \\alpha + \\varepsilon \\right)\n",
    "= W \\times \\sqrt{\n",
    "    \\left( \\frac{{\\ddot z} -\\dot V \\sin \\left( \\gamma \\right)}{g \\cos \\left( \\gamma \\right)} + \\cos \\left( \\gamma \\right) \\right)^2\n",
    "    + \\left( \\frac{\\dot V_n}{g} \\right)^2\n",
    "    }\n",
    "$$"
   ]
  },
  {
   "cell_type": "markdown",
   "id": "e9519cb4",
   "metadata": {},
   "source": [
    "Note that for a small flight-path angle $\\gamma \\rightarrow 0$ or negligible acceleration $\\dot V \\rightarrow 0$ - i.e. the assumptions that might hold for a sustained turn at constant altitude, $\\textbf{a}_{xz} \\approx \\ddot z$."
   ]
  },
  {
   "cell_type": "markdown",
   "id": "ab60e8d4",
   "metadata": {},
   "source": [
    "## Thrust-to-Weight Objective Function"
   ]
  },
  {
   "cell_type": "markdown",
   "id": "e419a634",
   "metadata": {},
   "source": [
    "Making $T/W$ the objective of the force balances as a function of wing loading allows us to both make apt comparisons against aircraft fulfilling similar missions, and size the vehicle concept's propulsion system.\n",
    "In this stage of a conceptual design, mission performance requirements for different flight phases can all be given their own thrust-to-weight requirement curves.\n",
    "Plotting all the curves together can help to identify optimal design points."
   ]
  },
  {
   "cell_type": "markdown",
   "id": "a3813cb0",
   "metadata": {},
   "source": [
    "Using the non-dimensionalisations of lift and drag equations:"
   ]
  },
  {
   "cell_type": "markdown",
   "id": "332d041a",
   "metadata": {},
   "source": [
    "$$\n",
    "L = qS \\cdot \\text{C}_L \\implies \\left( L / W \\right) = \\frac{q}{\\left(W / S \\right)} \\cdot \\text{C}_L \\\\\n",
    "D = qS \\cdot \\text{C}_D \\implies \\left( D / W \\right) = \\frac{q}{\\left(W / S \\right)} \\cdot \\text{C}_D \\\\\n",
    "$$"
   ]
  },
  {
   "cell_type": "markdown",
   "id": "b60c82f0",
   "metadata": {},
   "source": [
    "where $q$ is the flight dynamic pressure, $S$ is the reference wing area, and $\\text{C}_L$ and $\\text{C}_D$ are the vehicle's coefficients of lift and drag. We can find $T/W$ in terms of streamwise and streamnormal force balances"
   ]
  },
  {
   "cell_type": "markdown",
   "id": "607a09a0",
   "metadata": {},
   "source": [
    "Streamwise:"
   ]
  },
  {
   "cell_type": "markdown",
   "id": "752d01b2",
   "metadata": {},
   "source": [
    "$$\n",
    "\\begin{eqnarray}\n",
    "\\frac{T}{W}\n",
    "&=& \\frac{\n",
    "    \\frac{q}{(W/S)} \\cdot \\text{C}_D\n",
    "    + \\frac{\\dot V}{g}\n",
    "    + \\sin \\left( \\gamma \\right)\n",
    "    }{\n",
    "    \\cos(\\alpha + \\varepsilon)\n",
    "    }\n",
    "    \\qquad \\text{with} \\qquad\n",
    "V \\sin \\left( \\gamma \\right) \\implies \\sin \\left( \\gamma \\right) = \\frac{\\dot z}{V}\n",
    "    \\\\ \\\\\n",
    "&=& \\frac{\n",
    "    \\frac{q}{(W/S)} \\cdot \\text{C}_D\n",
    "    + \\frac{\\dot V}{g}\n",
    "    + \\frac{\\dot z}{V}\n",
    "    }{\n",
    "    \\cos(\\alpha + \\varepsilon)\n",
    "    }\n",
    "\\end{eqnarray}\n",
    "$$"
   ]
  },
  {
   "cell_type": "markdown",
   "id": "67ad7e26",
   "metadata": {},
   "source": [
    "Streamnormal:"
   ]
  },
  {
   "cell_type": "markdown",
   "id": "4f6f151e",
   "metadata": {},
   "source": [
    "$$\n",
    "\\begin{eqnarray}\n",
    "\\frac{T}{W}\n",
    "&=& \\frac{\n",
    "    \\sqrt{\n",
    "        \\left(\n",
    "            \\frac{{\\ddot z} -\\dot V \\sin \\left( \\gamma \\right)}{g \\cos \\left( \\gamma \\right)}\n",
    "            + \\cos \\left( \\gamma \\right)\n",
    "        \\right)^2\n",
    "        + \\left( \\frac{\\dot V_n}{g} \\right)^2\n",
    "    }\n",
    "    - \\frac{q}{(W/S)} \\cdot \\text{C}_L\n",
    "    }\n",
    "    {\n",
    "        \\sin \\left( \\alpha + \\varepsilon \\right)\n",
    "    }\n",
    "\\qquad \\text{with} \\qquad\n",
    "V \\sin \\left( \\gamma \\right)\n",
    "\\implies \\cos \\left( \\gamma \\right) = \\sqrt{1 - \\left( \\frac{\\dot z}{V} \\right)^2} \\\\\n",
    "\\end{eqnarray}\n",
    "$$"
   ]
  },
  {
   "cell_type": "markdown",
   "id": "5b5201af",
   "metadata": {},
   "source": [
    "Since we've distilled orthogonal accelerations into thrust force requirements (which are applied along the same axis by the propulsion system);\n",
    "the total thrust-to-weight requirement at prescribed flight conditions is a linear combination of $T/W$ components"
   ]
  },
  {
   "cell_type": "markdown",
   "id": "b75c9b73",
   "metadata": {},
   "source": [
    "$$\n",
    "\\bigg[\\frac{T}{W} \\bigg]_{Total} = \\bigg[\\frac{T}{W} \\bigg]_{Streamwise} + \\bigg[\\frac{T}{W} \\bigg]_{Streamnormal}\n",
    "$$"
   ]
  },
  {
   "cell_type": "markdown",
   "id": "3b2dfb89",
   "metadata": {},
   "source": [
    "#### Finding Solutions"
   ]
  },
  {
   "cell_type": "markdown",
   "id": "01dd2282",
   "metadata": {},
   "source": [
    "Let's consider the variables of the $T/W$ expressions:"
   ]
  },
  {
   "cell_type": "markdown",
   "id": "273109df",
   "metadata": {},
   "source": [
    "* We'll take $T/W = f(W/S, \\cdots)$, i.e. $T/W$ is a variable dependent on the independent design variable $W/S$.\n",
    "* The parameters $g, q, V, \\dot V, \\dot V_n, \\dot z, \\text{ and } \\ddot z$ represent control variables obtained from the mission profile (performance of the aircraft and conditions of the flight environment).\n",
    "* Unless thrust vectoring is supported, the fuselage is probably optimised for cruise, so $\\varepsilon = 0 ^\\circ$ by design."
   ]
  },
  {
   "cell_type": "markdown",
   "id": "3e7ed91e",
   "metadata": {},
   "source": [
    "We are left with unknown $\\alpha, \\text{C}_L, \\text{ and } \\text{C}_D$.\n",
    "Fortunately, we can estimate $\\text{C}_L \\text{ and } \\text{C}_D$ from the $\\alpha$ in normal flight using lift curve slopes and lift polars: "
   ]
  },
  {
   "cell_type": "markdown",
   "id": "a7278eaa",
   "metadata": {},
   "source": [
    "$$\n",
    "\\text{C}_D = f(\\alpha), \\quad \\text{C}_L = f(\\alpha) \\quad \\implies \\quad T/W = f(W/S, \\alpha)\n",
    "$$"
   ]
  },
  {
   "cell_type": "markdown",
   "id": "257f29e9",
   "metadata": {},
   "source": [
    "Therefore, the family of wingloading solutions $W/S$ at a given point in the mission have corresponding $T/W$ demands."
   ]
  },
  {
   "cell_type": "markdown",
   "id": "b96502a8",
   "metadata": {},
   "source": [
    "## Excess Power-to-Weight Objective Function"
   ]
  },
  {
   "cell_type": "markdown",
   "id": "c0b17737",
   "metadata": {},
   "source": [
    "Using the relationship $P = F \\times V$ we find that the flight power requirement is related to the acceleration and velocity of the vehicle.\n",
    "Recalling that $V \\sin \\left( \\gamma \\right) \\equiv \\dot z$, we collect terms that relate to performance of the aircraft on the LHS and the mechanical energy state on the RHS"
   ]
  },
  {
   "cell_type": "markdown",
   "id": "0ce78371",
   "metadata": {},
   "source": [
    "Streamwise:"
   ]
  },
  {
   "cell_type": "markdown",
   "id": "b176b1f3",
   "metadata": {},
   "source": [
    "$$\n",
    "T \\cos \\left( \\alpha + \\varepsilon \\right)\n",
    "- D\n",
    "- W \\sin \\left( \\gamma \\right)\n",
    "= \\frac{\\dot V}{g} \\times W\n",
    "\\qquad \\longrightarrow \\qquad\n",
    "\\left(\n",
    "    \\frac{T}{W} \\cos \\left( \\alpha + \\varepsilon \\right)\n",
    "    - \\frac{D}{W}\n",
    "\\right) \\times V\n",
    "= \\dot z\n",
    "+ \\frac{\\dot V}{g} V\n",
    "$$"
   ]
  },
  {
   "cell_type": "markdown",
   "id": "5d8366bc",
   "metadata": {},
   "source": [
    "It can be seen that the $P/W$ required for streamwise acceleration can also conveniently substitute into the original expression of $P_s$"
   ]
  },
  {
   "cell_type": "markdown",
   "id": "56bf0167",
   "metadata": {},
   "source": [
    "$$\n",
    "\\begin{eqnarray}\n",
    "P_{s}\n",
    "\\equiv \\frac{P}{W}\n",
    "&=& \\frac{\\dot W}{W} \\times \\left(\n",
    "    z\n",
    "    + \\frac{V^2}{2g}\n",
    "\\right)\n",
    "+ \\left(\n",
    "    \\dot z\n",
    "    + \\frac{\\dot V}{g} V\n",
    "\\right) \\\\ \\\\\n",
    "&=& \\frac{\\dot W}{W} \\times \\left( z + \\frac{V^2}{2g} \\right)\n",
    "+ \\left(\n",
    "    \\frac{T}{W} \\cos \\left( \\alpha + \\varepsilon \\right)\n",
    "    - \\frac{D}{W}\n",
    "\\right) \\times V\n",
    "\\end{eqnarray}\n",
    "$$"
   ]
  },
  {
   "cell_type": "markdown",
   "id": "c1ffc56f",
   "metadata": {},
   "source": [
    "Although for conceptual design, desirable $D/W$ is not yet easily estimated - so the original form of $P_s$ is preferred.\n",
    "\n",
    "The new form however, does leave us with a lingering question - if specific excess power is a function of the streamwise force-balance result, might the streamnormal equation substitute in the same way?"
   ]
  },
  {
   "cell_type": "markdown",
   "id": "42bf4a62",
   "metadata": {},
   "source": [
    "Streamnormal:"
   ]
  },
  {
   "cell_type": "markdown",
   "id": "9761fd97",
   "metadata": {},
   "source": [
    "$$\n",
    "\\begin{eqnarray}\n",
    "L + T \\sin \\left( \\alpha + \\varepsilon \\right)\n",
    "&=& W \\times \\sqrt{\n",
    "        \\left(\n",
    "            \\frac{{\\ddot z} -\\dot V \\sin \\left( \\gamma \\right)}{g \\cos \\left( \\gamma \\right)}\n",
    "            + \\cos \\left( \\gamma \\right)\n",
    "        \\right)^2\n",
    "        + \\left( \\frac{\\dot V_n}{g} \\right)^2\n",
    "    } \\\\\n",
    "\\end{eqnarray}\n",
    "$$"
   ]
  },
  {
   "cell_type": "markdown",
   "id": "b0c90185",
   "metadata": {},
   "source": [
    "$$\n",
    "\\left(\n",
    "\\frac{L}{W} + \\frac{T}{W} \\sin \\left( \\alpha + \\varepsilon \\right)\n",
    "\\right) \\times V\n",
    "= V \\times \\sqrt{\n",
    "        \\left(\n",
    "            \\frac{{\\ddot z} -\\dot V \\sin \\left( \\gamma \\right)}{g \\cos \\left( \\gamma \\right)}\n",
    "            + \\cos \\left( \\gamma \\right)\n",
    "        \\right)^2\n",
    "        + \\left( \\frac{\\dot V_n}{g} \\right)^2\n",
    "    }\n",
    "$$"
   ]
  },
  {
   "cell_type": "markdown",
   "id": "b54dda35",
   "metadata": {},
   "source": [
    "This does not appear to substitute anywhere, so what gives? Our fundamental performance equation originally assumed a kinetic energy based on a body velocity $V$.\n",
    "When the direction of the stream is fixed, for convenience, $V$ had been considered a scalar quantity that could undergo 1D acceleration.\n",
    "Only when we considered the force balance in 3D did we entertain the idea that $V$ is a 3D vector that may accelerate in direction orthogonal to the stream - thus using power to change direction (and not magnitude) of $V$."
   ]
  },
  {
   "cell_type": "markdown",
   "id": "84c1b4a1",
   "metadata": {},
   "source": [
    "Let's assume from intuition that streamnormal power to weight would substitute into the specific excess power expression, in a similar way that the streamwise definition did."
   ]
  },
  {
   "cell_type": "markdown",
   "id": "4ae98f3b",
   "metadata": {},
   "source": [
    "Specific Excess Power in 3D (substitute both streamwise and streamnormal into original $P_s$ expression):"
   ]
  },
  {
   "cell_type": "markdown",
   "id": "7cc97c74",
   "metadata": {},
   "source": [
    "$$\n",
    "P_{s}\n",
    "= \\frac{\\dot W}{W} \\times \\left( z + \\frac{V^2}{2g} \\right)\n",
    "+ \\left(\n",
    "    \\frac{\\dot z}{V}\n",
    "    + \\frac{\\dot V}{g}\n",
    "    + \\sqrt{\n",
    "        \\left(\n",
    "            \\frac{{\\ddot z} -\\dot V \\sin \\left( \\gamma \\right)}{g \\cos \\left( \\gamma \\right)}\n",
    "            + \\cos \\left( \\gamma \\right)\n",
    "        \\right)^2\n",
    "        + \\left( \\frac{\\dot V_n}{g} \\right)^2\n",
    "    }\n",
    "\\right) \\times V\n",
    "$$"
   ]
  },
  {
   "cell_type": "markdown",
   "id": "0698bca5",
   "metadata": {},
   "source": [
    "$$\\text{or}$$"
   ]
  },
  {
   "cell_type": "markdown",
   "id": "6495b2b9",
   "metadata": {},
   "source": [
    "$$\n",
    "P_{s}\n",
    "= \\frac{\\dot W}{W} \\times \\left( z + \\frac{V^2}{2g} \\right)\n",
    "+ \\left(\n",
    "    \\frac{T}{W} \\cos \\left(\\alpha + \\varepsilon - \\frac{\\pi}{4} \\right)\n",
    "    - \\frac{D}{W}\n",
    "    + \\frac{L}{W}\n",
    "\\right) \\times V\n",
    "\\qquad \\text{using} \\qquad\n",
    "\\cos \\left( x - \\frac{\\pi}{4} \\right) \\equiv \\sin(x) + \\cos(x)\n",
    "$$"
   ]
  },
  {
   "cell_type": "markdown",
   "id": "1d3ba919",
   "metadata": {},
   "source": [
    "Our original intuition for the second bracketed term was that it described the excess power to weight (specific excess power) that could be used for climb and/or changing flight speed - it now also accounts for changing flight direction."
   ]
  },
  {
   "cell_type": "code",
   "execution_count": null,
   "id": "2985b5c5",
   "metadata": {},
   "outputs": [],
   "source": []
  }
 ],
 "metadata": {
  "kernelspec": {
   "display_name": "Python 3 (ipykernel)",
   "language": "python",
   "name": "python3"
  },
  "language_info": {
   "codemirror_mode": {
    "name": "ipython",
    "version": 3
   },
   "file_extension": ".py",
   "mimetype": "text/x-python",
   "name": "python",
   "nbconvert_exporter": "python",
   "pygments_lexer": "ipython3",
   "version": "3.9.5"
  }
 },
 "nbformat": 4,
 "nbformat_minor": 5
}
