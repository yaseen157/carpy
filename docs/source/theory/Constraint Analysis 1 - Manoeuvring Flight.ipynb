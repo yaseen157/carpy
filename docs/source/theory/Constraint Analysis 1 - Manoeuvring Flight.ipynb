{
 "cells": [
  {
   "cell_type": "markdown",
   "id": "67931663",
   "metadata": {},
   "source": [
    "# Constraint Analysis 1 - Manoeuvring Flight"
   ]
  },
  {
   "cell_type": "markdown",
   "id": "92dcb44a",
   "metadata": {},
   "source": [
    "In this notebook, we derive the fundamental performance equation for constraining designs using energy theory."
   ]
  },
  {
   "cell_type": "markdown",
   "id": "3b5091ab",
   "metadata": {},
   "source": [
    "## Fundamental Performance Equation"
   ]
  },
  {
   "cell_type": "markdown",
   "id": "17610d23",
   "metadata": {},
   "source": [
    "Consider the total energy state of the aircraft"
   ]
  },
  {
   "cell_type": "markdown",
   "id": "a83f2074",
   "metadata": {},
   "source": [
    "$$\n",
    "E = E_{\\text{G.P.}} + E_{\\text{K.E.}} + E_{\\text{C.P.}}\n",
    "$$"
   ]
  },
  {
   "cell_type": "markdown",
   "id": "ca49d820",
   "metadata": {},
   "source": [
    "where $E_{\\text{G.P.}}$, $E_{\\text{K.E.}}$, and $E_{\\text{C.P.}}$ refer to gravitational potential, kinetic, and chemical potential energies, respectively.\n",
    "Each term is defined as follows"
   ]
  },
  {
   "cell_type": "markdown",
   "id": "75032f93",
   "metadata": {},
   "source": [
    "\\begin{eqnarray}\n",
    "E_{\\text{G.P.}} &=& mgz \\\\\n",
    "E_{\\text{K.E.}} &=& \\tfrac{1}{2} mV^2 \\\\\n",
    "E_{\\text{C.P.}} &=& m_f \\cdot \\text{LCV} \\times \\eta_o\n",
    "\\end{eqnarray}"
   ]
  },
  {
   "cell_type": "markdown",
   "id": "8f414bb9",
   "metadata": {},
   "source": [
    "with mass $m$, acceleration due to gravity $g$, geometric altitude $z$, body velocity $V$, fuel mass $m_f$, lower calorific value of fuel $\\text{LCV}$, and overall propulsion system efficiency $\\eta_o$."
   ]
  },
  {
   "cell_type": "markdown",
   "id": "be8878d0",
   "metadata": {},
   "source": [
    "#### Excess Power"
   ]
  },
  {
   "cell_type": "markdown",
   "id": "df967cb1",
   "metadata": {},
   "source": [
    "The rate of change of system energy (power) is"
   ]
  },
  {
   "cell_type": "markdown",
   "id": "341e60e6",
   "metadata": {},
   "source": [
    "\\begin{eqnarray}\n",
    "P =\\frac{dE}{dt}\n",
    "&=& \\left[ \\frac{dm}{dt}gz + mg \\frac{dz}{dt} \\right] + \\\\\n",
    "&& \\left[ mV \\frac{dV}{dt} + \\frac{1}{2} \\frac{dm}{dt} V^2 \\right] + \\\\\n",
    "&& \\left[ m_f \\cdot \\text{LCV} \\times \\frac{d\\eta_o}{dt} + \\frac{dm_f}{dt} \\cdot \\text{LCV} \\times \\eta_o \\right]\n",
    "\\end{eqnarray}"
   ]
  },
  {
   "cell_type": "markdown",
   "id": "e1dd4cde",
   "metadata": {},
   "source": [
    "Then, using the following change of variables"
   ]
  },
  {
   "cell_type": "markdown",
   "id": "1881d45e",
   "metadata": {},
   "source": [
    "$$W = mg \\qquad \\frac{1}{g}\\frac{dW}{dt} = -\\frac{dm_f}{dt} \\qquad \\frac{d}{dt} \\big( x(t) \\big) \\equiv \\dot x$$"
   ]
  },
  {
   "cell_type": "markdown",
   "id": "0e3b9e94",
   "metadata": {},
   "source": [
    "System power is now"
   ]
  },
  {
   "cell_type": "markdown",
   "id": "b9dfc3f8",
   "metadata": {},
   "source": [
    "\\begin{eqnarray}\n",
    "P =\\frac{dE}{dt}\n",
    "&=& \\left[ \\frac{dW}{dt}z + \\frac{dz}{dt}W \\right] + \\\\\n",
    "&& \\left[ \\frac{1}{g} \\left(\\frac{dV}{dt}VW + \\frac{1}{2} \\frac{dW}{dt} V^2 \\right) \\right] + \\\\\n",
    "&& \\left[ m_f \\cdot \\text{LCV} \\times \\frac{d\\eta_o}{dt} - \\frac{1}{g} \\frac{dW}{dt} \\cdot \\text{LCV} \\times \\eta_o \\right]\n",
    "\\end{eqnarray}"
   ]
  },
  {
   "cell_type": "markdown",
   "id": "a3dae464",
   "metadata": {},
   "source": [
    "$$\n",
    "P\n",
    "= \\dot W \\times \\left(\n",
    "    z\n",
    "    + \\frac{V^2}{2g}\n",
    "    - \\frac{\\text{LCV}}{g} \\times \\eta_o\n",
    "\\right)\n",
    "+ W \\times \\left(\n",
    "    \\dot z\n",
    "    + \\frac{\\dot V}{g} V\n",
    "    + \\frac{W_{\\text{f}}}{W} \\cdot \\frac{\\text{LCV}}{g} \\times \\dot \\eta_o\n",
    "\\right)\n",
    "$$"
   ]
  },
  {
   "cell_type": "markdown",
   "id": "9a6186d1",
   "metadata": {},
   "source": [
    "where vehicle weight $W$ has been introduced. Each of the terms in brackets corresponds with rates of change in [`gravitational potential`], [`kinetic`], and [`chemical potential`] energies.\n",
    "An aircraft operating under optimal, sustainable flight regimes has no excess (or deficit) power.\n",
    "We'll explore in greater detail the contributions of terms in the following section."
   ]
  },
  {
   "cell_type": "markdown",
   "id": "ac3ceafc",
   "metadata": {},
   "source": [
    "#### Specific Excess Power"
   ]
  },
  {
   "cell_type": "markdown",
   "id": "8c39cba8",
   "metadata": {},
   "source": [
    "Recall the expression of power required to make changes to flight conditions"
   ]
  },
  {
   "cell_type": "markdown",
   "id": "24804156",
   "metadata": {},
   "source": [
    "$$\n",
    "P\n",
    "= \\dot W \\times \\left(\n",
    "    z\n",
    "    + \\frac{V^2}{2g}\n",
    "    - \\frac{\\text{LCV}}{g} \\times \\eta_o\n",
    "\\right)\n",
    "+ W \\times \\left(\n",
    "    \\dot z\n",
    "    + \\frac{\\dot V}{g} V\n",
    "    + \\frac{W_{\\text{f}}}{W} \\cdot \\frac{\\text{LCV}}{g} \\times \\dot \\eta_o\n",
    "\\right)\n",
    "$$"
   ]
  },
  {
   "cell_type": "markdown",
   "id": "9fa4eaa7",
   "metadata": {},
   "source": [
    "Normalising by weight gives"
   ]
  },
  {
   "cell_type": "markdown",
   "id": "564c6151",
   "metadata": {},
   "source": [
    "$$\n",
    "P_{s}\n",
    "\\equiv \\frac{P}{W}\n",
    "= \\frac{\\dot W}{W} \\times \\left(\n",
    "    z\n",
    "    + \\frac{V^2}{2g}\n",
    "    - \\frac{\\text{LCV}}{g} \\times \\eta_o\n",
    "\\right)\n",
    "+ \\left(\n",
    "    \\dot z\n",
    "    + \\frac{\\dot V}{g} V\n",
    "    + \\frac{W_{\\text{f}}}{W} \\cdot \\frac{\\text{LCV}}{g} \\times \\dot \\eta_o\n",
    "\\right)\n",
    "$$"
   ]
  },
  {
   "cell_type": "markdown",
   "id": "e01e7d5c",
   "metadata": {},
   "source": [
    "where $P_s$ is the specific excess power of the vehicle, and can be thought of as an abundance $P_s < 0$ (or deficit $P_s > 0$) of specific power after the propulsion system has overcome losses due to vehicle drag in steady level flight.\n",
    "An aircraft concept operating at peak performance for the available flight conditions has zero (specific) excess power."
   ]
  },
  {
   "cell_type": "markdown",
   "id": "c585b336",
   "metadata": {},
   "source": [
    "For the first bracketed terms $\\dot W < 0$ shows that gravitational potential and kinetic energy, both of which depend on mass, are reclaimed in fuel burning aircraft as the vehicle mass decreases.\n",
    "The term $\\tfrac{\\text{LCV}}{g}$ indicates available chemical potential of the propulsion system, and the opposite sign suggests this is consumed over the duration of the flight.\n",
    "\n",
    "The second set of brackets show that descent, and deceleration can also recover flight power.\n",
    "A little counterintuitively, the final term seems to suggest that greater fuel fractions reduce available specific power for a propulsion system tending towards a design operating point.\n",
    "This is because a more efficient propulsion system retains greater quantities of fuel for longer, and so more flight power must be expended lugging this fuel around for an increased period."
   ]
  },
  {
   "cell_type": "markdown",
   "id": "2e237a90",
   "metadata": {},
   "source": [
    "## Force Balance"
   ]
  },
  {
   "cell_type": "markdown",
   "id": "10070090",
   "metadata": {},
   "source": [
    "<img src=\"./images/Free-body-diagram.png\" width=\"50%\" align=\"left\">\n",
    "\n",
    "Consider the 2D forces in a free-body diagram, acting on an <font style=\"color:orange;\">aircraft</font>. It's not uncommon to see simplifications in analysis that treat the thrust vector of an aircraft directly opposing the drag force, however this is not always the case. We can gather a more insightful representation of the force balance where:\n",
    "\n",
    "$\\hspace{1cm}$<font style=\"color:red;\">$\\varepsilon$</font> = Thrust setting angle (versus aircraft chordline)\n",
    "\n",
    "$\\hspace{1cm}$<font style=\"color:orange;\">$\\alpha$</font> = Freestream angle of attack (with respect to aircraft body)\n",
    "\n",
    "$\\hspace{1cm}$<font style=\"color:green;\">$\\theta$</font> = Aircraft pitch angle (aircraft chordline versus horizon)\n",
    "\n",
    "$\\hspace{1cm}$<font style=\"color:blue;\">$\\gamma$</font> = Flight path angle (instantaneous trajectory)\n",
    "\n",
    "$\\hspace{1cm}$<font style=\"color:purple;\">$V$</font> = Freestream (with respect to aircraft body)\n",
    "<br>\n",
    "<br>\n",
    "Resolving forces in the direction parallel to the flight path trajectory (freestream), we find (with vehicle weight $W$):\n",
    "\n",
    "$\\hspace{1cm} T\\cos($<font style=\"color:orange;\">$\\alpha$</font> $+$ <font style=\"color:red;\">$\\varepsilon$</font>$)$\n",
    "$- D - W \\sin($<font style=\"color:blue;\">$\\gamma$</font>$)\\hspace{3pt} = F_{\\text{resultant}}$"
   ]
  },
  {
   "cell_type": "markdown",
   "id": "05fa344c",
   "metadata": {},
   "source": [
    "#### Streamwise Acceleration"
   ]
  },
  {
   "cell_type": "markdown",
   "id": "ac28a88e",
   "metadata": {},
   "source": [
    "Using Newton's second law, we can rewrite this in terms of vehicle weight and streamwise acceleration $\\dot V$"
   ]
  },
  {
   "cell_type": "markdown",
   "id": "86d4b12c",
   "metadata": {},
   "source": [
    "$$\n",
    "T \\cos \\left( \\alpha + \\varepsilon \\right)\n",
    "- D\n",
    "- W \\sin \\left( \\gamma \\right)\n",
    "= \\frac{\\dot V}{g} \\times W\n",
    "$$"
   ]
  },
  {
   "cell_type": "markdown",
   "id": "8158a90e",
   "metadata": {},
   "source": [
    "#### Streamnormal Acceleration"
   ]
  },
  {
   "cell_type": "markdown",
   "id": "21600592",
   "metadata": {},
   "source": [
    "Resolving forces in the streamnormal direction provides the following balance, with streamnormal acceleration $\\dot V_n$"
   ]
  },
  {
   "cell_type": "markdown",
   "id": "0a6e636b",
   "metadata": {},
   "source": [
    "$$\n",
    "L\n",
    "+ T \\sin \\left( \\alpha + \\varepsilon \\right)\n",
    "- W \\cos \\left( \\gamma \\right)\n",
    "= \\frac{\\dot V_n}{g} \\times W\n",
    "$$"
   ]
  },
  {
   "cell_type": "markdown",
   "id": "e3f541cc",
   "metadata": {},
   "source": [
    "Note how in the first case lift acts perpendicular to the freestream and therefore makes no contribution to streamwise acceleration, and drag acts parallel to the freestream and therefore makes no contribution to streamnormal acceleration."
   ]
  },
  {
   "cell_type": "markdown",
   "id": "141a90b2",
   "metadata": {},
   "source": [
    "#### Streamnormal Acceleration in 3D"
   ]
  },
  {
   "cell_type": "markdown",
   "id": "e05b9729",
   "metadata": {},
   "source": [
    "Now introducing a roll angle using the Tait-Bryan angle conventions, there exists a component of lift and thrust that acts against the weight of the vehicle.\n",
    "The addition of a 3rd dimension requires according changes to our current force balance considerations"
   ]
  },
  {
   "cell_type": "markdown",
   "id": "68bb8671",
   "metadata": {},
   "source": [
    "$$\n",
    "\\big\\{ L + T \\sin \\left( \\alpha + \\varepsilon \\right) \\big\\} \\times \\cos \\left( \\phi \\right)\n",
    "- W \\cos \\left( \\gamma \\right)\n",
    "= \\frac{\\ddot z}{g} \\times W\n",
    "$$"
   ]
  },
  {
   "cell_type": "markdown",
   "id": "93bfe379",
   "metadata": {},
   "source": [
    "where the bank angle is given by $\\phi$, and the rate of change of vertical speed (vertical acceleration) is $\\ddot z$.\n",
    "Correspondingly, the remaining component of lift and thrust forces provides the centripetal acceleration necessary for circular motion"
   ]
  },
  {
   "cell_type": "markdown",
   "id": "c9742e23",
   "metadata": {},
   "source": [
    "$$\n",
    "\\big\\{ L + T \\sin \\left( \\alpha + \\varepsilon \\right) \\big\\} \\times \\sin \\left( \\phi \\right)\n",
    "= \\frac{\\dot V_n}{g} \\times W\n",
    "$$"
   ]
  },
  {
   "cell_type": "markdown",
   "id": "accbff83",
   "metadata": {},
   "source": [
    "where the streamnormal is necessarily aligned with the radial vector of the turning circle."
   ]
  },
  {
   "cell_type": "markdown",
   "id": "e3ae30f9",
   "metadata": {},
   "source": [
    "Centripetal acceleration can be given in the following ways"
   ]
  },
  {
   "cell_type": "markdown",
   "id": "dc38a769",
   "metadata": {},
   "source": [
    "$$\\begin{eqnarray}\n",
    "\\dot V_n &=& \\frac{V^2}{R_{\\text{turn}}} &=& \\omega^2 R_{\\text{turn}}\\\\ \\\\\n",
    "V &=& \\frac{2 \\pi}{T}R_{\\text{turn}} &=& \\omega R_{\\text{turn}}\n",
    "\\end{eqnarray}$$"
   ]
  },
  {
   "cell_type": "markdown",
   "id": "5cd515be",
   "metadata": {},
   "source": [
    "where the radius of the turn is given by $R_{\\text{turn}}$, angular velocity of circular motion is $\\omega$, and the period of the turn is $T$.\n",
    "Using the trigonometric identity $\\cos^2 + \\sin^2 = 1$, we can combine the above force balances for streamnormal forces into an expression that is notably indepedent of the bank angle"
   ]
  },
  {
   "cell_type": "markdown",
   "id": "49a0a610",
   "metadata": {},
   "source": [
    "$$\n",
    "L + T \\sin \\left( \\alpha + \\varepsilon \\right)\n",
    "= W \\times \\sqrt{\n",
    "    \\left(\\frac{\\ddot z}{g} + \\cos \\gamma \\right)^2\n",
    "    + \\left( \\frac{\\dot V_n}{g} \\right)^2\n",
    "    }\n",
    "$$"
   ]
  },
  {
   "cell_type": "markdown",
   "id": "ab60e8d4",
   "metadata": {},
   "source": [
    "## Thrust-to-Weight Objective Functions"
   ]
  },
  {
   "cell_type": "markdown",
   "id": "e419a634",
   "metadata": {},
   "source": [
    "Making $T/W$ the objective of the force balances as a function of wing loading allows us to both make apt comparisons against aircraft fulfilling similar missions, and size the vehicle concept's propulsion system.\n",
    "In this stage of a conceptual design, mission performance requirements for different flight phases can all be given their own thrust-to-weight requirement curves.\n",
    "Plotting all the curves together can help to identify optimal design points."
   ]
  },
  {
   "cell_type": "markdown",
   "id": "a3813cb0",
   "metadata": {},
   "source": [
    "Using the non-dimensionalisations of lift and drag equations:"
   ]
  },
  {
   "cell_type": "markdown",
   "id": "332d041a",
   "metadata": {},
   "source": [
    "$$\n",
    "L = qS \\cdot \\text{C}_L \\implies \\left( L / W \\right) = \\frac{q}{\\left(W / S \\right)} \\cdot \\text{C}_L \\\\\n",
    "D = qS \\cdot \\text{C}_D \\implies \\left( D / W \\right) = \\frac{q}{\\left(W / S \\right)} \\cdot \\text{C}_D \\\\\n",
    "$$"
   ]
  },
  {
   "cell_type": "markdown",
   "id": "b60c82f0",
   "metadata": {},
   "source": [
    "where $q$ is the flight dynamic pressure, $S$ is the reference wing area, and $\\text{C}_L$ and $\\text{C}_D$ are the vehicle's coefficients of lift and drag, we can find $T/W$ in terms of streamwise and streamnormal force balances"
   ]
  },
  {
   "cell_type": "markdown",
   "id": "607a09a0",
   "metadata": {},
   "source": [
    "Streamwise:"
   ]
  },
  {
   "cell_type": "markdown",
   "id": "752d01b2",
   "metadata": {},
   "source": [
    "$$\n",
    "\\frac{T}{W}\n",
    "= \\frac{\n",
    "    \\frac{q}{(W/S)} \\cdot \\text{C}_D\n",
    "    + \\frac{\\dot V}{g}\n",
    "    + \\frac{\\dot z}{V}\n",
    "    }{\n",
    "    \\cos(\\alpha + \\varepsilon)\n",
    "    }\n",
    "= \\frac{\n",
    "    \\frac{q}{(W/S)} \\cdot \\text{C}_D\n",
    "    + \\frac{\\dot V}{g}\n",
    "    + \\sin \\gamma\n",
    "    }{\n",
    "    \\cos(\\alpha + \\varepsilon)\n",
    "    }\n",
    "$$"
   ]
  },
  {
   "cell_type": "markdown",
   "id": "67ad7e26",
   "metadata": {},
   "source": [
    "Streamnormal:"
   ]
  },
  {
   "cell_type": "markdown",
   "id": "0eb4f60f",
   "metadata": {},
   "source": [
    "$$\n",
    "\\frac{T}{W}\n",
    "= \\frac{\n",
    "    \\sqrt{\n",
    "        \\left(\\frac{\\ddot z}{g} + \\cos \\gamma \\right)^2\n",
    "        + \\left( \\frac{\\dot V_n}{g} \\right)^2\n",
    "        }\n",
    "    - \\frac{q}{(W/S)} \\cdot \\text{C}_L\n",
    "}\n",
    "{\n",
    "    \\sin \\left( \\alpha + \\varepsilon \\right)\n",
    "}\n",
    "$$"
   ]
  },
  {
   "cell_type": "markdown",
   "id": "3b2dfb89",
   "metadata": {},
   "source": [
    "#### Finding Solutions"
   ]
  },
  {
   "cell_type": "markdown",
   "id": "01dd2282",
   "metadata": {},
   "source": [
    "Let's consider the variables of the $T/W$ expressions:"
   ]
  },
  {
   "cell_type": "markdown",
   "id": "273109df",
   "metadata": {},
   "source": [
    "* We'll take $T/W = f(W/S, \\cdots)$, i.e. $T/W$ is a variable dependent on the independent design variable $W/S$.\n",
    "* The parameters $g, q, V, \\dot V, \\dot V_n, \\dot z, \\ddot z, \\text{ and }\\gamma$ represent control variables, given by the mission profile (performance of the aircraft and conditions of the flight environment).\n",
    "* Unless thrust vectoring is supported, the fuselage is probably optimised for cruise at $\\alpha = 0 ^\\circ$, and so $\\varepsilon = 0 ^\\circ$ by design."
   ]
  },
  {
   "cell_type": "markdown",
   "id": "3e7ed91e",
   "metadata": {},
   "source": [
    "We are left with unknown $\\alpha, \\text{C}_L, \\text{ and } \\text{C}_D$.\n",
    "Fortunately, we can estimate $\\alpha \\text{ and } \\text{C}_D$ from the $\\text{C}_L$ in normal flight using lift curve slopes and lift polars: "
   ]
  },
  {
   "cell_type": "markdown",
   "id": "a7278eaa",
   "metadata": {},
   "source": [
    "$$\n",
    "\\text{C}_D = f(\\text{C}_L), \\quad \\alpha = f(\\text{C}_L) \\quad \\implies \\quad T/W = f(W/S, \\text{C}_L)\n",
    "$$"
   ]
  },
  {
   "cell_type": "markdown",
   "id": "257f29e9",
   "metadata": {},
   "source": [
    "Therefore, the family of wingloading solutions $W/S$ at a given point in the mission have corresponding $\\text{C}_L$ demands."
   ]
  },
  {
   "cell_type": "markdown",
   "id": "4ae98f3b",
   "metadata": {},
   "source": [
    "#### Alternative Form of Specific Excess Power"
   ]
  },
  {
   "cell_type": "markdown",
   "id": "c0b17737",
   "metadata": {},
   "source": [
    "Using the relationship $P = F \\times V$ we find that the flight power requirement is related to the acceleration and velocity of the vehicle.\n",
    "By definition $V_n = 0$, and so the streamwise force balance can be substituted into the expression for power after recognising that $V \\sin \\left( \\gamma \\right) \\equiv \\dot z$"
   ]
  },
  {
   "cell_type": "markdown",
   "id": "b176b1f3",
   "metadata": {},
   "source": [
    "$$\n",
    "T \\cos \\left( \\alpha + \\varepsilon \\right)\n",
    "- D\n",
    "- W \\sin \\left( \\gamma \\right)\n",
    "= \\frac{\\dot V}{g} \\times W\n",
    "\\qquad \\longrightarrow \\qquad\n",
    "\\left(\n",
    "    \\frac{T}{W} \\cos \\left( \\alpha + \\varepsilon \\right)\n",
    "    - \\frac{D}{W}\n",
    "\\right) \\times V\n",
    "= \\dot z\n",
    "+ \\frac{\\dot V}{g} V\n",
    "$$"
   ]
  },
  {
   "cell_type": "markdown",
   "id": "c1ffc56f",
   "metadata": {},
   "source": [
    "Giving the alternative expression"
   ]
  },
  {
   "cell_type": "markdown",
   "id": "4811f1a1",
   "metadata": {},
   "source": [
    "$$\n",
    "P_{s}\n",
    "= \\frac{\\dot W}{W} \\times \\left(\n",
    "    z\n",
    "    + \\frac{V^2}{2g}\n",
    "    - \\frac{\\text{LCV}}{g} \\times \\eta_o\n",
    "\\right)\n",
    "+ \\left(\n",
    "    \\frac{T}{W} \\cos \\left( \\alpha + \\varepsilon \\right)\n",
    "    - \\frac{D}{W}\n",
    "\\right) \\times V\n",
    "+ \\frac{W_{\\text{f}}}{W} \\cdot \\frac{\\text{LCV}}{g} \\times \\dot \\eta_o\n",
    "$$"
   ]
  },
  {
   "cell_type": "code",
   "execution_count": null,
   "id": "206d8a82",
   "metadata": {},
   "outputs": [],
   "source": []
  }
 ],
 "metadata": {
  "kernelspec": {
   "display_name": "Python 3 (ipykernel)",
   "language": "python",
   "name": "python3"
  },
  "language_info": {
   "codemirror_mode": {
    "name": "ipython",
    "version": 3
   },
   "file_extension": ".py",
   "mimetype": "text/x-python",
   "name": "python",
   "nbconvert_exporter": "python",
   "pygments_lexer": "ipython3",
   "version": "3.9.5"
  }
 },
 "nbformat": 4,
 "nbformat_minor": 5
}
