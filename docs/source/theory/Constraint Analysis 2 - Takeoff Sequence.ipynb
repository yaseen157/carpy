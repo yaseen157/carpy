{
 "cells": [
  {
   "cell_type": "markdown",
   "id": "68f3b82f",
   "metadata": {},
   "source": [
    "# Constraint Analysis 2 - Takeoff Sequence"
   ]
  },
  {
   "cell_type": "markdown",
   "id": "8f3c3037",
   "metadata": {},
   "source": [
    "In this notebook, we revisit approaches to constraint analysis based on energy theory for the unique case of takeoff.\n",
    "Readers are referred to the previous notebook for more details on the steps taken during derivation."
   ]
  },
  {
   "cell_type": "markdown",
   "id": "2e237a90",
   "metadata": {},
   "source": [
    "## Force Balance"
   ]
  },
  {
   "cell_type": "markdown",
   "id": "10070090",
   "metadata": {},
   "source": [
    "<img src=\"./images/Free-body-diagram-runway.png\" width=\"50%\" align=\"left\">\n",
    "\n",
    "Consider the 2D forces in a free-body diagram, acting on an <font style=\"color:orange;\">aircraft</font>. It's not uncommon to see simplifications in analysis that treat the thrust vector of an aircraft directly opposing the drag force, however this is not always the case. We can gather a more insightful representation of the force balance where:\n",
    "\n",
    "$\\hspace{1cm}$<font style=\"color:red;\">$\\varepsilon$</font> = Thrust setting angle (versus aircraft chordline)\n",
    "\n",
    "$\\hspace{1cm}$<font style=\"color:orange;\">$\\alpha$</font> = Freestream angle of attack (with respect to aircraft body)\n",
    "\n",
    "$\\hspace{1cm}$<font style=\"color:green;\">$\\theta$</font> = Aircraft pitch angle (aircraft chordline versus horizon)\n",
    "\n",
    "$\\hspace{1cm}$<font style=\"color:blue;\">$\\gamma$</font> = Flight path angle (instantaneous trajectory)\n",
    "\n",
    "$\\hspace{1cm}$<font style=\"color:purple;\">$V$</font> = Freestream (with respect to aircraft body)\n",
    "<br>\n",
    "<br>\n",
    "Resolving forces in the direction parallel to the flight path trajectory (freestream), we find (with vehicle weight $W$):\n",
    "\n",
    "$\\hspace{1cm} T\\cos($<font style=\"color:orange;\">$\\alpha$</font> $+$ <font style=\"color:red;\">$\\varepsilon$</font>$)$\n",
    "$- D - W \\sin($<font style=\"color:blue;\">$\\gamma$</font>$)\\hspace{3pt} - \\mu R \\cos($<font style=\"color:orange;\">$\\alpha$</font>$) = F_{\\text{resultant}}$"
   ]
  },
  {
   "cell_type": "markdown",
   "id": "c1156f76",
   "metadata": {},
   "source": [
    "where the friction (rolling resistance) force is the product of the coefficient of friction $\\mu$ and reaction force $R$ with the runway surface.\n",
    "The reaction force is given by balancing thrust, lift, drag, and weight in a direction normal to the runway surface"
   ]
  },
  {
   "cell_type": "markdown",
   "id": "07798807",
   "metadata": {},
   "source": [
    "$$\n",
    "R\n",
    "= W \\cos (\\theta)\n",
    "- \\big\\{\n",
    "    L \\cos (\\alpha) + T \\sin(\\alpha + \\varepsilon) + D \\sin (\\alpha)\n",
    "\\big\\}\n",
    "$$"
   ]
  },
  {
   "cell_type": "markdown",
   "id": "4dcb5106",
   "metadata": {},
   "source": [
    "#### Streamwise Acceleration"
   ]
  },
  {
   "cell_type": "markdown",
   "id": "fef858d7",
   "metadata": {},
   "source": [
    "Substituting this expression for reaction force into the original force balance yields"
   ]
  },
  {
   "cell_type": "markdown",
   "id": "456f8cef",
   "metadata": {},
   "source": [
    "$$\n",
    "T \\cos (\\alpha + \\varepsilon) - D - W \\sin(\\gamma)\n",
    "- \\mu \\cdot \\big\\{ W \\cos (\\theta) - L \\cos(\\alpha) - T \\sin(\\alpha + \\varepsilon) - D \\sin(\\alpha) \\big\\} \\cdot \\cos(\\alpha)\n",
    "= F_{\\text{resultant}}\n",
    "$$"
   ]
  },
  {
   "cell_type": "markdown",
   "id": "271debcf",
   "metadata": {},
   "source": [
    "Newton's second law tells us that the resultant force is the product of vehicle mass and streamwise acceleration $\\dot V$"
   ]
  },
  {
   "cell_type": "markdown",
   "id": "83d89f28",
   "metadata": {},
   "source": [
    "\\begin{eqnarray}\n",
    "\\frac{\\dot V}{g} \\times W\n",
    "= &T& \\times \\big[ &\\cos(\\alpha + \\varepsilon) &+& \\mu \\cos(\\alpha) \\sin (\\alpha + \\varepsilon) &\\big] + \\\\\n",
    "&D& \\times \\big[ &-1 &+& \\mu \\cos(\\alpha) \\sin(\\alpha) &\\big] + \\\\\n",
    "&L& \\times \\big[ &0 &+& \\mu \\cos(\\alpha) \\cos(\\alpha) &\\big] + \\\\\n",
    "&W& \\times \\big[ &-\\sin(\\gamma) &-& \\mu \\cos(\\alpha) \\cos(\\theta) &\\big]\n",
    "\\end{eqnarray}"
   ]
  },
  {
   "cell_type": "markdown",
   "id": "7161356b",
   "metadata": {},
   "source": [
    "#### Streamnormal Acceleration"
   ]
  },
  {
   "cell_type": "markdown",
   "id": "8518c88c",
   "metadata": {},
   "source": [
    "For the most part, ground rolls occur with minimally curved trajectories.\n",
    "This is up until the takeoff point where the aircraft centre of mass either follows a sharply curved trajectory (e.g. ski-jump), or until the aircraft is generating sufficient lift for rotation/lift-off."
   ]
  },
  {
   "cell_type": "markdown",
   "id": "b4220d2e",
   "metadata": {},
   "source": [
    "Resolving forces in the streamnormal direction for the associated streamnormal acceleration $\\dot V_n$"
   ]
  },
  {
   "cell_type": "markdown",
   "id": "cc896f5f",
   "metadata": {},
   "source": [
    "$$\n",
    "L\n",
    "+ T \\sin (\\alpha + \\varepsilon)\n",
    "- W \\cos (\\gamma)\n",
    "- \\mu \\cdot \\big\\{ W \\cos (\\theta) - L \\cos(\\alpha) - T \\sin(\\alpha + \\varepsilon) - D \\sin(\\alpha) \\big\\} \\cdot \\sin(\\alpha)\n",
    "= \\frac{\\dot V_n}{g} \\times W\n",
    "$$"
   ]
  },
  {
   "cell_type": "markdown",
   "id": "78ecb81a",
   "metadata": {},
   "source": [
    "\\begin{eqnarray}\n",
    "\\frac{\\dot V_n}{g} \\times W\n",
    "= &T& \\times \\big[ &\\sin(\\alpha + \\varepsilon) &+& \\mu \\sin(\\alpha) \\sin (\\alpha + \\varepsilon) &\\big] + \\\\\n",
    "&D& \\times \\big[ &0 &+& \\mu \\sin(\\alpha) \\sin(\\alpha) &\\big] + \\\\\n",
    "&L& \\times \\big[ &1 &+& \\mu \\sin(\\alpha) \\cos(\\alpha) &\\big] + \\\\\n",
    "&W& \\times \\big[ &-\\cos(\\gamma) &-& \\mu \\sin(\\alpha) \\cos(\\theta) &\\big]\n",
    "\\end{eqnarray}"
   ]
  },
  {
   "cell_type": "markdown",
   "id": "1061e902",
   "metadata": {},
   "source": [
    "## Thrust-to-Weight Objective Functions"
   ]
  },
  {
   "cell_type": "markdown",
   "id": "b8c0b2d4",
   "metadata": {},
   "source": [
    "Streamwise:"
   ]
  },
  {
   "cell_type": "markdown",
   "id": "9d351a7b",
   "metadata": {},
   "source": [
    "$$\n",
    "\\frac{T}{W}\n",
    "= \\frac{\n",
    "\\frac{\\dot V}{g}\n",
    "- \\frac{q}{(W/S)} \\times \\left\\{\n",
    "    \\text{C}_L \\cdot \\mu \\cos^2(\\alpha)\n",
    "    + \\text{C}_D \\cdot \\big(\\frac{\\mu}{2} \\cdot \\sin(2\\alpha) - 1 \\big)\n",
    "\\right\\}\n",
    "+ \\big[ \\frac{\\dot z}{V} + \\mu \\cos(\\alpha) \\cos(\\theta) \\big]\n",
    "}{\n",
    "\\cos(\\alpha + \\varepsilon) \\times \\big\\{ 1 + \\mu \\cos(\\alpha) \\cdot \\tan (\\alpha + \\varepsilon) \\big\\}\n",
    "}\n",
    "$$"
   ]
  },
  {
   "cell_type": "markdown",
   "id": "85437d9f",
   "metadata": {},
   "source": [
    "Streamnormal:"
   ]
  },
  {
   "cell_type": "markdown",
   "id": "8b9e7c6c",
   "metadata": {},
   "source": [
    "$$\n",
    "\\frac{T}{W}\n",
    "= \\frac{\n",
    "\\frac{\\dot V_n}{g}\n",
    "- \\frac{q}{(W/S)} \\times \\left\\{\n",
    "    \\text{C}_L \\cdot \\big(\\frac{\\mu}{2} \\cdot \\sin(2\\alpha) + 1 \\big)\n",
    "    + \\text{C}_D \\cdot \\mu \\sin^2(\\alpha)\n",
    "\\right\\}\n",
    "+ \\big[ \\sqrt{1-\\left(\\frac{\\dot z}{V}\\right)^2} + \\mu \\cos(\\alpha) \\cos(\\theta) \\big]\n",
    "}{\n",
    "\\sin(\\alpha + \\varepsilon) \\times \\big\\{1 + \\mu \\sin(\\alpha) \\big\\}\n",
    "}\n",
    "$$"
   ]
  },
  {
   "cell_type": "markdown",
   "id": "5fa8e333",
   "metadata": {},
   "source": [
    "Notice that in both cases, setting $\\mu=0$ effectively recovers the 2D case in manoeuvring flight.\n",
    "In this analysis, we will not consider the impact of non-zero bank angle/banked runways."
   ]
  },
  {
   "cell_type": "markdown",
   "id": "a2cd4353",
   "metadata": {},
   "source": [
    "Just as before, we have just boiled down accelerations in orthogonal axes into thrust requirements of the propulsion system for each axis; the total thrust to weight requirement of prescribed flying conditions and loading is a simple, linear combination of the thrusts to weight ratios"
   ]
  },
  {
   "cell_type": "markdown",
   "id": "5aa1b35f",
   "metadata": {},
   "source": [
    "$$\n",
    "\\bigg[\\frac{T}{W} \\bigg]_{Total} = \\bigg[\\frac{T}{W} \\bigg]_{Streamwise} + \\bigg[\\frac{T}{W} \\bigg]_{Streamnormal}\n",
    "$$"
   ]
  },
  {
   "cell_type": "markdown",
   "id": "3b2dfb89",
   "metadata": {},
   "source": [
    "#### Finding Solutions"
   ]
  },
  {
   "cell_type": "markdown",
   "id": "01dd2282",
   "metadata": {},
   "source": [
    "Just as before, we'll consider the variables of the $T/W$ expressions:"
   ]
  },
  {
   "cell_type": "markdown",
   "id": "273109df",
   "metadata": {},
   "source": [
    "* We'll take $T/W = f(W/S, \\cdots)$, i.e. $T/W$ is a variable dependent on the independent design variable $W/S$.\n",
    "* The parameters $g, q, V, \\dot V, \\dot V_n, \\dot z, \\gamma, \\theta, \\text{ and }\\mu$ represent control variables, given by the mission profile (performance of the aircraft and conditions of the flight environment).\n",
    "* Unless thrust vectoring is supported, the fuselage is probably optimised for cruise at $\\alpha = 0 ^\\circ$, and so $\\varepsilon = 0 ^\\circ$ by design."
   ]
  },
  {
   "cell_type": "markdown",
   "id": "3e7ed91e",
   "metadata": {},
   "source": [
    "We are left with unknown $\\alpha, \\text{C}_L, \\text{ and } \\text{C}_D$.\n",
    "Fortunately, we can estimate $\\alpha \\text{ and } \\text{C}_D$ from the $\\text{C}_L$ in normal flight using lift curve slopes and lift polars: "
   ]
  },
  {
   "cell_type": "markdown",
   "id": "a7278eaa",
   "metadata": {},
   "source": [
    "$$\n",
    "\\text{C}_D = f(\\text{C}_L), \\quad \\alpha = f(\\text{C}_L) \\quad \\implies \\quad T/W = f(W/S, \\text{C}_L)\n",
    "$$"
   ]
  },
  {
   "cell_type": "markdown",
   "id": "257f29e9",
   "metadata": {},
   "source": [
    "Therefore, the family of wingloading solutions $W/S$ at a given point in the mission have corresponding $\\text{C}_L$ demands."
   ]
  },
  {
   "cell_type": "code",
   "execution_count": null,
   "id": "3d509a35",
   "metadata": {},
   "outputs": [],
   "source": []
  }
 ],
 "metadata": {
  "kernelspec": {
   "display_name": "Python 3 (ipykernel)",
   "language": "python",
   "name": "python3"
  },
  "language_info": {
   "codemirror_mode": {
    "name": "ipython",
    "version": 3
   },
   "file_extension": ".py",
   "mimetype": "text/x-python",
   "name": "python",
   "nbconvert_exporter": "python",
   "pygments_lexer": "ipython3",
   "version": "3.9.5"
  }
 },
 "nbformat": 4,
 "nbformat_minor": 5
}
