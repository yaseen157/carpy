{
 "cells": [
  {
   "cell_type": "markdown",
   "id": "6a6df029",
   "metadata": {},
   "source": [
    "# Predicting Wing Lift and Drag"
   ]
  },
  {
   "cell_type": "code",
   "execution_count": 1,
   "id": "33b19aab",
   "metadata": {},
   "outputs": [],
   "source": [
    "# Add path to src/CARPy, in case notebook is running locally\n",
    "import os, sys, warnings\n",
    "sys.path.append(os.path.abspath(os.path.join(os.getcwd(), \"..\\\\..\\\\..\\\\src\")))\n",
    "warnings.simplefilter(\"ignore\")  # <-- Suppress warnings"
   ]
  },
  {
   "cell_type": "markdown",
   "id": "d0e89434",
   "metadata": {},
   "source": [
    "***\n",
    "## Introduction"
   ]
  },
  {
   "cell_type": "markdown",
   "id": "c3d89448",
   "metadata": {},
   "source": [
    "*As a pre-requisite to this notebook, it is recommended readers first familiarise themselves with the available material on modelling aerofoils in CARPy.*\n",
    "\n",
    "With the selection of candidate aerofoils, the performance of a 3D lifting geometry can now be estimated with CARPy.\n",
    "This mapping of 2D aerofoil sections to 3D wing geometry requires:\n",
    "\n",
    "1. WingSection, an object that dimensionalises the chord length and thickness of non-dimensional aerofoil geometries.\n",
    "2. WingSections, a dictionary-like object that permits the definition of wing dihedral, sweep, and twist.\n",
    "\n",
    "Much like the aerofoil performance prediction methods, wing performance is captured through a variety of methods in:\n",
    "\n",
    "3. WingSolution, an object capturing basic performance coefficients of the wing.\n",
    "4. CDfGudmundsson, an object that tries to estimate drag due to skin friction effects.\n",
    "\n",
    "Inverse design methods are not supported at this time."
   ]
  },
  {
   "cell_type": "markdown",
   "id": "560fb070",
   "metadata": {},
   "source": [
    "***\n",
    "## 1) `WingSection` objects"
   ]
  },
  {
   "cell_type": "markdown",
   "id": "96a18d1c",
   "metadata": {},
   "source": [
    "Start with relevant imports"
   ]
  },
  {
   "cell_type": "code",
   "execution_count": 2,
   "id": "8b9e6e2b",
   "metadata": {},
   "outputs": [],
   "source": [
    "from carpy.aerodynamics.aerofoil import NewAerofoil\n",
    "from carpy.aerodynamics.wing import WingSection"
   ]
  },
  {
   "cell_type": "markdown",
   "id": "bc8b009f",
   "metadata": {},
   "source": [
    "There are several angles or reference planes along which a wing can be sliced to produce sections or aerofoils.\n",
    "CARPy wing sections are currently defined in a vertical plane parallel to the aircraft's buttock line:"
   ]
  },
  {
   "cell_type": "code",
   "execution_count": 3,
   "id": "71ae8b9f",
   "metadata": {},
   "outputs": [],
   "source": [
    "# Instantiate geometry that will define the wing shape\n",
    "naca0012 = NewAerofoil.from_method.NACA(\"0012\")\n",
    "naca2412 = NewAerofoil.from_method.NACA(\"2412\")\n",
    "naca2418 = NewAerofoil.from_method.NACA(\"2418\")\n",
    "\n",
    "# Defining the starboard wing section geometries\n",
    "wbl_0012 = WingSection(naca0012)\n",
    "wbl_2412 = WingSection(naca2412)\n",
    "wbl_2418 = WingSection(naca2418)"
   ]
  },
  {
   "cell_type": "markdown",
   "id": "26f1f1f4",
   "metadata": {},
   "source": [
    "WingSection objects are not designed for users to be able to interact with the attributes of directly, and therefore attributes should be treated as read-only.\n",
    "The original aerofoil section can be recovered:"
   ]
  },
  {
   "cell_type": "code",
   "execution_count": 4,
   "id": "50e18131",
   "metadata": {},
   "outputs": [
    {
     "data": {
      "image/png": "[encoded data removed]",
      "text/plain": [
       "<Figure size 896x672 with 1 Axes>"
      ]
     },
     "metadata": {},
     "output_type": "display_data"
    }
   ],
   "source": [
    "wbl_0012.aerofoil.show()"
   ]
  },
  {
   "cell_type": "markdown",
   "id": "0de6a9fd",
   "metadata": {},
   "source": [
    "But it is recommended that properties of a `WingSection` are set via the `WingSections` dictionary-like object."
   ]
  },
  {
   "cell_type": "markdown",
   "id": "2087d6e8",
   "metadata": {},
   "source": [
    "***\n",
    "## 2) `WingSections` objects"
   ]
  },
  {
   "cell_type": "markdown",
   "id": "18c067a1",
   "metadata": {},
   "source": [
    "`WingSections` objects can be thought of as a dictionary of aerofoils, created by the user, that define the 3D geometry of the wing.\n",
    "Users familiar with dictionaries should be comfortable with the concept that a dictionary can have a key-value pair designated with the following syntax:\n",
    "    \n",
    "    >>> my_dictionary[some_key] = some_value\n",
    "    \n",
    "    >>> print(my_dictionary)\n",
    "    {some_key: some_value}\n",
    "\n",
    "The difference in implementation between a regular dictionary is three-fold:\n",
    "\n",
    "1. Only integers and floats are valid keys, such that all keys lie on a one-dimensional line of real numbers.\n",
    "2. The hypothetical value for a key \"C\" that lies between two other keys \"A\" and \"B\" is obtained by linearly interpolating between keys \"A\" and \"B\".\n",
    "3. The hypothetical value for a key \"D\" must be extrapolated from a single neighbour \"B\", which actually just makes the value of \"D\" identical to the value at \"B\".\n",
    "\n",
    "We'll demonstrate this more concretely with an example. Begin with the relevant import:"
   ]
  },
  {
   "cell_type": "code",
   "execution_count": 5,
   "id": "ae95e7c2",
   "metadata": {},
   "outputs": [],
   "source": [
    "from carpy.aerodynamics.wing import WingSections\n",
    "\n",
    "# Define the wing geometry at arbitrary buttock-line stations 0 and 10\n",
    "conceptwing = WingSections()\n",
    "conceptwing[0] = wbl_2418\n",
    "conceptwing[10] = wbl_2412"
   ]
  },
  {
   "cell_type": "markdown",
   "id": "064cd370",
   "metadata": {},
   "source": [
    "Notice that each wing section defining the 3D geometry is identifiable through its location in memory (beginning with `0x`):"
   ]
  },
  {
   "cell_type": "code",
   "execution_count": 6,
   "id": "1492042b",
   "metadata": {},
   "outputs": [
    {
     "name": "stdout",
     "output_type": "stream",
     "text": [
      "The defined wing sections are:\n",
      "conceptwing={0.0: <carpy.aerodynamics.wing._wingplanes.WingSection object at 0x00000268BE30D8B0>, 10.0: <carpy.aerodynamics.wing._wingplanes.WingSection object at 0x000002689AA3BD90>}\n"
     ]
    }
   ],
   "source": [
    "print(f\"The defined wing sections are:\\n{conceptwing=}\")"
   ]
  },
  {
   "cell_type": "markdown",
   "id": "c1bc1c0f",
   "metadata": {},
   "source": [
    "##### A quick detour:\n",
    "\n",
    "To prove points 2 and 3, we'll show that users can access aerofoil geometry between two defined aerofoils (aerofoil C), and an aerofoil extrapolated from a single bounding aerofoil (aerofoil D is identical to aerofoil B):"
   ]
  },
  {
   "cell_type": "code",
   "execution_count": 7,
   "id": "befad1e9",
   "metadata": {},
   "outputs": [
    {
     "name": "stdout",
     "output_type": "stream",
     "text": [
      "* Here's the memory locations of each wing section object successfully evaluated:\n",
      "\n",
      "A:0 aerofoil --> <carpy.aerodynamics.wing._wingplanes.WingSection object at 0x00000268BE30D8B0>\n",
      "C:5 aerofoil --> <carpy.aerodynamics.wing._wingplanes.WingSection object at 0x00000268BE447BB0>\n",
      "B:10 aerofoil --> <carpy.aerodynamics.wing._wingplanes.WingSection object at 0x000002689AA3BD90>\n",
      "D:14 aerofoil --> <carpy.aerodynamics.wing._wingplanes.WingSection object at 0x000002689AA3BD90>\n",
      "\n",
      "* Here's proof that the average of two adjacent sections [0] and [10] is the same as just taking [5]:\n"
     ]
    },
    {
     "data": {
      "image/png": "[encoded data removed]",
      "text/plain": [
       "<Figure size 896x672 with 1 Axes>"
      ]
     },
     "metadata": {},
     "output_type": "display_data"
    },
    {
     "data": {
      "image/png": "[encoded data removed]",
      "text/plain": [
       "<Figure size 896x672 with 1 Axes>"
      ]
     },
     "metadata": {},
     "output_type": "display_data"
    },
    {
     "name": "stdout",
     "output_type": "stream",
     "text": [
      "\n",
      "* Here's proof that section[B] and section[D] are the same section (same memory location):\n",
      "\n",
      "(conceptwing[section_dict['B']] is conceptwing[section_dict['D']])=True\n"
     ]
    }
   ],
   "source": [
    "# To align with the explanation above, use the following keys\n",
    "section_dict = {\"A\":0, \"C\":5, \"B\":10, \"D\":14}\n",
    "\n",
    "print(\"* Here's the memory locations of each wing section object successfully evaluated:\\n\")\n",
    "for (key, value) in section_dict.items():\n",
    "    print(f\"{key}:{value} aerofoil --> {conceptwing[value]}\")\n",
    "else:\n",
    "    print(\"\")\n",
    "\n",
    "print(\"* Here's proof that the average of two adjacent sections [0] and [10] is the same as just taking [5]:\")\n",
    "aerofoil_interp_manual = (0.5 * conceptwing[0].aerofoil + 0.5 * conceptwing[10].aerofoil)  # averaging geometry\n",
    "aerofoil_interp_auto = conceptwing[5].aerofoil  # interpolating geometry automatically behind the scenes\n",
    "\n",
    "aerofoil_interp_manual.show()\n",
    "aerofoil_interp_auto.show()\n",
    "print(\"\")\n",
    "\n",
    "print(\"* Here's proof that section[B] and section[D] are the same section (same memory location):\\n\")\n",
    "print(f\"{(conceptwing[section_dict['B']] is conceptwing[section_dict['D']])=}\")"
   ]
  },
  {
   "cell_type": "markdown",
   "id": "7a8a947b",
   "metadata": {},
   "source": [
    "##### End of detour, back to the notebook lesson at hand\n",
    "\n",
    "it is necessary to specify angles of dihedral, twist, and sweep for 3D wing geometries.\n",
    "Wing taper can also be optionally adjusted."
   ]
  },
  {
   "cell_type": "code",
   "execution_count": 8,
   "id": "0be97c2d",
   "metadata": {},
   "outputs": [],
   "source": [
    "import numpy as np\n",
    "\n",
    "# Define another section of the wing at another arbitrary station (in proportion to the original station definitions)\n",
    "conceptwing[14] = wbl_0012\n",
    "\n",
    "# Adjust the SI chord lengths of the wing (changing taper ratio, optional)\n",
    "conceptwing[:].chord = 2.0  # Use [:] slicing to define the chord length at all stations currently defined\n",
    "conceptwing[14].chord = 0.8  # The station defined at position [14] should have a custom chord length\n",
    "\n",
    "# The dihedral angle, leading edge sweep angle, and geometric station twist angles are now specified\n",
    "conceptwing[:].dihedral = np.radians(2)  # Upward dihedral on the whole wing for roll stability\n",
    "conceptwing[:].sweep = np.radians(0)  # Define leading edge sweep everywhere\n",
    "conceptwing[10:].sweep = np.radians(2)  # Update leading edge sweep for any stations starting at and including 10\n",
    "conceptwing[14].twist = np.radians(1)  # Increased wing tip incidence, a.k.a wash-in"
   ]
  },
  {
   "cell_type": "markdown",
   "id": "0874d3b2",
   "metadata": {},
   "source": [
    "It doesn't look like much right now, but that's it!\n",
    "You've defined a wing of arbitrary span, but definite chord length, twist, sweep, dihedral, and profile."
   ]
  },
  {
   "cell_type": "markdown",
   "id": "bed60b7f",
   "metadata": {},
   "source": [
    "***\n",
    "## 3) `WingSolution` objects"
   ]
  },
  {
   "cell_type": "markdown",
   "id": "f550b5f1",
   "metadata": {},
   "source": [
    "It is possible to carry out a rudimentary analysis of aerofoil performance in CARPy, returing `AerofoilSolution` objects.\n",
    "These can be obtained through:"
   ]
  },
  {
   "cell_type": "code",
   "execution_count": 9,
   "id": "fecc2110",
   "metadata": {},
   "outputs": [],
   "source": [
    "from carpy.aerodynamics.wing import PLLT  # Prandtl's lifting line theory for unswept wings\n",
    "from carpy.aerodynamics.wing import HorseshoeVortex  # Span-wise horseshoe vortex method"
   ]
  },
  {
   "cell_type": "markdown",
   "id": "b2e9a64e",
   "metadata": {},
   "source": [
    "All derivative methods of `WingSolution` have similar instantiation structures."
   ]
  },
  {
   "cell_type": "markdown",
   "id": "f369f608",
   "metadata": {},
   "source": [
    "#### `PLLT`"
   ]
  },
  {
   "cell_type": "markdown",
   "id": "9a859e8b",
   "metadata": {},
   "source": [
    "PLLT is limited in analysis to unswept wings, full details in the docstring."
   ]
  },
  {
   "cell_type": "code",
   "execution_count": 10,
   "id": "879dff26",
   "metadata": {},
   "outputs": [
    {
     "name": "stdout",
     "output_type": "stream",
     "text": [
      "public_methods=['AR', 'CL', 'CLalpha', 'Sref', 'b', 'delta', 'e', 'tau']\n",
      "\n",
      "      AR = 6.569024954863637\n",
      "      CL = 0.9977305340620781\n",
      " CLalpha = 4.820032635394306\n",
      "    Sref = 21.9210615 m²\n",
      "       b = 12. m\n",
      "   delta = 0.012246573803284333\n",
      "       e = 0.9879015902644445\n",
      "     tau = -0.0029645916550281744\n"
     ]
    }
   ],
   "source": [
    "# Apply PLLT to a symmetrical wing of 12 metre span\n",
    "soln0 = PLLT(sections=conceptwing, span=12, alpha=np.radians(10))\n",
    "\n",
    "public_methods = [x for x in dir(soln0) if not x.startswith(\"_\")]\n",
    "print(f\"{public_methods=}\\n\")\n",
    "\n",
    "for method_name in public_methods:\n",
    "    print(f\"{method_name:>8} = {getattr(soln0, method_name)}\")"
   ]
  },
  {
   "cell_type": "markdown",
   "id": "becf806d",
   "metadata": {},
   "source": [
    "Automatic extraction of the section-wise contributions of aerofoils to the lift coefficient is not yet part of CARPy.\n",
    "Also, methods for computing `WingSolution.tau` require verification and are currently considered unreliable."
   ]
  },
  {
   "cell_type": "markdown",
   "id": "0e67272e",
   "metadata": {},
   "source": [
    "#### `HorseshoeVortex`"
   ]
  },
  {
   "cell_type": "markdown",
   "id": "10eedcab",
   "metadata": {},
   "source": [
    "Horseshoe Vortex methods applied to the same wing take longer, but permit the analysis of asymmetric wings, section-wise lift coefficients, and even centre of pressure.\n",
    "\n",
    "*Users are asked to note that currently, this method assumes the centre of pressure for each vortex element sweeps by the same amount the leading edge does. This requires a fix in future, but for now, defining a leading edge sweep of 0 actually returns the performance of a wing where the section-wise centre of pressure has a sweep of 0 besides the dihedral direction (i.e. leading edge sweep varies unexpectedly).*"
   ]
  },
  {
   "cell_type": "code",
   "execution_count": 11,
   "id": "fca1ef5a",
   "metadata": {
    "scrolled": true
   },
   "outputs": [
    {
     "name": "stdout",
     "output_type": "stream",
     "text": [
      "public_methods=['AR', 'CL', 'CLalpha', 'Cl', 'Sref', 'b', 'delta', 'e', 'tau', 'xyz_cp']\n",
      "\n",
      "      AR = 6.569070920320918\n",
      "      CL = 0.8672908540941726\n",
      " CLalpha = NotImplemented\n",
      "      Cl = [0.00799766 0.01173675 0.01448953 0.01673368 0.01861502 0.02015819\n",
      " 0.02138878 0.02235173 0.02310062 0.02370702 0.02420357 0.02461206\n",
      " 0.02494807 0.02522302 0.02544532 0.02562086 0.02575224 0.02583076\n",
      " 0.02567867 0.02631195 0.02466663 0.02536285 0.02579098 0.02585407\n",
      " 0.02580505 0.02567664 0.02547732 0.02520688 0.02485996 0.02442671\n",
      " 0.0238921  0.02323381 0.02241642 0.02134748 0.02006851 0.018535\n",
      " 0.01666772 0.01443988 0.01169748 0.00795987]\n",
      "    Sref = 21.92090811 m²\n",
      "       b = 12. m\n",
      "   delta = 0.11989621342083234\n",
      "       e = 0.8929398885503883\n",
      "     tau = NotImplemented\n",
      "  xyz_cp = [[-5.69122580e-02 -5.77821814e+00 -1.91432140e-01]\n",
      " [-4.65645747e-02 -5.48189926e+00 -1.81084457e-01]\n",
      " [-3.62168914e-02 -5.18558038e+00 -1.70736774e-01]\n",
      " [-2.58692082e-02 -4.88926150e+00 -1.60389091e-01]\n",
      " [-1.55215249e-02 -4.59294262e+00 -1.50041407e-01]\n",
      " [-5.17384163e-03 -4.29662375e+00 -1.39693724e-01]\n",
      " [ 0.00000000e+00 -4.00030487e+00 -1.29346041e-01]\n",
      " [ 0.00000000e+00 -3.70398599e+00 -1.18998358e-01]\n",
      " [ 0.00000000e+00 -3.40766711e+00 -1.08650674e-01]\n",
      " [ 0.00000000e+00 -3.11134823e+00 -9.83029911e-02]\n",
      " [ 0.00000000e+00 -2.81502935e+00 -8.79553078e-02]\n",
      " [ 0.00000000e+00 -2.51871047e+00 -7.76076245e-02]\n",
      " [ 0.00000000e+00 -2.22239159e+00 -6.72599413e-02]\n",
      " [ 0.00000000e+00 -1.92607271e+00 -5.69122580e-02]\n",
      " [ 0.00000000e+00 -1.62975383e+00 -4.65645747e-02]\n",
      " [ 0.00000000e+00 -1.33343496e+00 -3.62168914e-02]\n",
      " [ 0.00000000e+00 -1.03711608e+00 -2.58692082e-02]\n",
      " [ 0.00000000e+00 -7.40797197e-01 -1.55215249e-02]\n",
      " [ 0.00000000e+00 -4.44478318e-01 -5.17384163e-03]\n",
      " [ 0.00000000e+00 -1.48159439e-01  0.00000000e+00]\n",
      " [ 0.00000000e+00  1.48159439e-01  0.00000000e+00]\n",
      " [ 0.00000000e+00  4.44478318e-01 -5.17384163e-03]\n",
      " [ 0.00000000e+00  7.40797197e-01 -1.55215249e-02]\n",
      " [ 0.00000000e+00  1.03711608e+00 -2.58692082e-02]\n",
      " [ 0.00000000e+00  1.33343496e+00 -3.62168914e-02]\n",
      " [ 0.00000000e+00  1.62975383e+00 -4.65645747e-02]\n",
      " [ 0.00000000e+00  1.92607271e+00 -5.69122580e-02]\n",
      " [ 0.00000000e+00  2.22239159e+00 -6.72599413e-02]\n",
      " [ 0.00000000e+00  2.51871047e+00 -7.76076245e-02]\n",
      " [ 0.00000000e+00  2.81502935e+00 -8.79553078e-02]\n",
      " [ 0.00000000e+00  3.11134823e+00 -9.83029911e-02]\n",
      " [ 0.00000000e+00  3.40766711e+00 -1.08650674e-01]\n",
      " [ 0.00000000e+00  3.70398599e+00 -1.18998358e-01]\n",
      " [ 0.00000000e+00  4.00030487e+00 -1.29346041e-01]\n",
      " [-5.17384163e-03  4.29662375e+00 -1.39693724e-01]\n",
      " [-1.55215249e-02  4.59294262e+00 -1.50041407e-01]\n",
      " [-2.58692082e-02  4.88926150e+00 -1.60389091e-01]\n",
      " [-3.62168914e-02  5.18558038e+00 -1.70736774e-01]\n",
      " [-4.65645747e-02  5.48189926e+00 -1.81084457e-01]\n",
      " [-5.69122580e-02  5.77821814e+00 -1.91432140e-01]]\n"
     ]
    }
   ],
   "source": [
    "# Apply Horseshoe Vortex to a symmetrical wing of 12 metre span\n",
    "soln1 = HorseshoeVortex(sections=conceptwing, span=12, alpha=np.radians(10))\n",
    "\n",
    "public_methods = [x for x in dir(soln1) if not x.startswith(\"_\")]\n",
    "print(f\"{public_methods=}\\n\")\n",
    "\n",
    "for method_name in public_methods:\n",
    "    print(f\"{method_name:>8} = {getattr(soln1, method_name)}\")"
   ]
  },
  {
   "cell_type": "markdown",
   "id": "6487fec5",
   "metadata": {},
   "source": [
    "Because `Solution` (singular) objects only evaluate at one angle of attack, the `HorseshoeVortex` method cannot by itself determine the lift slope of the wing."
   ]
  },
  {
   "cell_type": "markdown",
   "id": "333e7286",
   "metadata": {},
   "source": [
    "***\n",
    "## 4) `CDfGudmundsson` objects"
   ]
  },
  {
   "cell_type": "markdown",
   "id": "2ee8a026",
   "metadata": {},
   "source": [
    "CARPy provides means of estimating skin friction drag for a generic wing with surface quality comparable to that of carefully applied matte paint (see CARPy's material constants for more information).\n",
    "\n",
    "The component of drag due to skin friction can be estimated from definitions of geometry and the relevant flight conditions:"
   ]
  },
  {
   "cell_type": "code",
   "execution_count": 12,
   "id": "041d18d2",
   "metadata": {},
   "outputs": [],
   "source": [
    "from carpy.aerodynamics.wing import CDfGudmundsson\n",
    "from carpy.utility import Quantity\n",
    "\n",
    "# Make a drag prediction\n",
    "drag_prediction = CDfGudmundsson(\n",
    "    sections=conceptwing, span=Quantity(38.3, \"ft\"),  # <-- Geometry\n",
    "    altitude=0, TAS=Quantity(185, \"kt\")  # <-- Flight conditions\n",
    ")"
   ]
  },
  {
   "cell_type": "code",
   "execution_count": 13,
   "id": "49b7dc3f",
   "metadata": {},
   "outputs": [
    {
     "name": "stdout",
     "output_type": "stream",
     "text": [
      "A CDf of 0.0036277644702073903 is predicted for the concept wing.\n"
     ]
    }
   ],
   "source": [
    "print(f\"A CDf of {drag_prediction.CDf} is predicted for the concept wing.\")"
   ]
  },
  {
   "cell_type": "markdown",
   "id": "e4074939",
   "metadata": {},
   "source": [
    "***\n",
    "## `*future*` objects"
   ]
  },
  {
   "cell_type": "markdown",
   "id": "592a14c4",
   "metadata": {},
   "source": [
    "The plan is to eventually supercede `WingSolution` (singular) with `WingSolutions` (plural) objects that, for given flight conditions, conveniently interpolate lift, drag, centre of pressure, and other metrics of wing performance as a function of the wing's angle of attack.\n",
    "\n",
    "For now, the burden is upon CARPy's users (sorry!)."
   ]
  },
  {
   "cell_type": "code",
   "execution_count": null,
   "id": "04745c1d",
   "metadata": {},
   "outputs": [],
   "source": []
  }
 ],
 "metadata": {
  "kernelspec": {
   "display_name": "Python 3 (ipykernel)",
   "language": "python",
   "name": "python3"
  },
  "language_info": {
   "codemirror_mode": {
    "name": "ipython",
    "version": 3
   },
   "file_extension": ".py",
   "mimetype": "text/x-python",
   "name": "python",
   "nbconvert_exporter": "python",
   "pygments_lexer": "ipython3",
   "version": "3.9.5"
  }
 },
 "nbformat": 4,
 "nbformat_minor": 5
}
