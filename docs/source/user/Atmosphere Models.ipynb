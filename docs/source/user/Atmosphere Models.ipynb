{
 "cells": [
  {
   "cell_type": "markdown",
   "id": "6a6df029",
   "metadata": {},
   "source": [
    "# Atmosphere Models"
   ]
  },
  {
   "cell_type": "code",
   "execution_count": 1,
   "id": "33b19aab",
   "metadata": {},
   "outputs": [],
   "source": [
    "# Add path to src/CARPy, in case notebook is running locally\n",
    "import os, sys, warnings\n",
    "sys.path.append(os.path.abspath(os.path.join(os.getcwd(), \"..\\\\..\\\\..\\\\src\")))\n",
    "warnings.simplefilter(\"ignore\")  # <-- Suppress warnings"
   ]
  },
  {
   "cell_type": "markdown",
   "id": "d0e89434",
   "metadata": {},
   "source": [
    "***\n",
    "## Introduction"
   ]
  },
  {
   "cell_type": "markdown",
   "id": "f760d91c",
   "metadata": {},
   "source": [
    "To support conceptual design of aircraft, several models of the Earth's atmosphere are accessible through CARPy.\n",
    "Models include:\n",
    "\n",
    "1. ISA1975, the International Standard Atmosphere as described in ISO 2533:1975.\n",
    "2. MILHDBK310, a resource from the U.S. DoD describing several atmospheres in which conditions deviate unusually far from standard day conditions.\n",
    "3. US1976, **not yet implemented**.\n",
    "4. ObsAtmospherePerfect, for user-specified atmospheric profiles.\n",
    "\n",
    "Atmospheric models are built in a manner that allows users to hotswap for other models - and provided that relevant methods are fully defined - produce drop-in replacements for ease of evaluation."
   ]
  },
  {
   "cell_type": "markdown",
   "id": "560fb070",
   "metadata": {},
   "source": [
    "***\n",
    "## 1) `ISA1975` objects"
   ]
  },
  {
   "cell_type": "markdown",
   "id": "96a18d1c",
   "metadata": {},
   "source": [
    "Start with relevant imports"
   ]
  },
  {
   "cell_type": "code",
   "execution_count": 2,
   "id": "5517710d",
   "metadata": {},
   "outputs": [
    {
     "name": "stdout",
     "output_type": "stream",
     "text": [
      "ISA1975(+0°C)\n"
     ]
    }
   ],
   "source": [
    "from carpy.environment import ISA1975\n",
    "\n",
    "# Create an atmosphere object\n",
    "myatmosphere = ISA1975()\n",
    "\n",
    "print(myatmosphere)"
   ]
  },
  {
   "cell_type": "markdown",
   "id": "5871ee0a",
   "metadata": {},
   "source": [
    "As can be seen above, we've instantiated an ISA atmosphere with a temperature offset of zero from standard day conditions at sea level."
   ]
  },
  {
   "cell_type": "markdown",
   "id": "6e253e84",
   "metadata": {},
   "source": [
    "The temperature offset can be set during instantiation time or in-situ:"
   ]
  },
  {
   "cell_type": "code",
   "execution_count": 3,
   "id": "e3b03830",
   "metadata": {},
   "outputs": [
    {
     "name": "stdout",
     "output_type": "stream",
     "text": [
      "Atmosphere (modified)....... ISA1975(+3°C)\n",
      "Atmosphere (new instance)... ISA1975(-2°C)\n"
     ]
    }
   ],
   "source": [
    "myatmosphere.T_offset = 3\n",
    "\n",
    "print(\"Atmosphere (modified).......\", myatmosphere)\n",
    "print(\"Atmosphere (new instance)...\", ISA1975(T_offset=-2))"
   ]
  },
  {
   "cell_type": "markdown",
   "id": "22370bc8",
   "metadata": {},
   "source": [
    "Let's find out what the temperature, pressure, and density conditions are like at sea level:"
   ]
  },
  {
   "cell_type": "code",
   "execution_count": 4,
   "id": "9301a424",
   "metadata": {},
   "outputs": [
    {
     "name": "stdout",
     "output_type": "stream",
     "text": [
      "ISA1975(+3°C):\n",
      ">  SL temperature... 18.0 [degC]\n",
      ">  SL pressure...... 1.0 [atm]\n",
      ">  SL air density... 1.2249789893021357 [kg m^{-3}]\n"
     ]
    }
   ],
   "source": [
    "print(f\"{myatmosphere}:\")\n",
    "print(\">  SL temperature...\", myatmosphere.T(0).to(\"degC\"), \"[degC]\")\n",
    "print(\">  SL pressure......\", myatmosphere.p(0).to(\"atm\"), \"[atm]\")\n",
    "print(\">  SL air density...\", myatmosphere.rho(0).to(\"kg m^{-3}\"), \"[kg m^{-3}]\")"
   ]
  },
  {
   "cell_type": "markdown",
   "id": "8b2e4242",
   "metadata": {},
   "source": [
    "If a pilot reads 140 m/s on instruments at 10,000 metres above mean sea level, the Mach number is:"
   ]
  },
  {
   "cell_type": "code",
   "execution_count": 5,
   "id": "537b6e22",
   "metadata": {},
   "outputs": [
    {
     "name": "stdout",
     "output_type": "stream",
     "text": [
      "272.138 KCAS at 10,000 m altitude is equivalent to:\n",
      ">  EAS.... 259.1000497895158 [kt]\n",
      ">  TAS.... 446.39063214115174 [kt]\n",
      ">  Mach... [0.76174619]\n"
     ]
    }
   ],
   "source": [
    "cas, eas, tas, mach = myatmosphere.airspeeds(altitude=10_000, CAS=140)\n",
    "print(f\"{cas.to('kt'):.3f} KCAS at 10,000 m altitude is equivalent to:\")\n",
    "print(\">  EAS....\", eas.to('kt'), \"[kt]\")\n",
    "print(\">  TAS....\", tas.to('kt'), \"[kt]\")\n",
    "print(\">  Mach...\", mach)"
   ]
  },
  {
   "cell_type": "code",
   "execution_count": null,
   "id": "46953b73",
   "metadata": {},
   "outputs": [],
   "source": []
  }
 ],
 "metadata": {
  "kernelspec": {
   "display_name": "Python 3 (ipykernel)",
   "language": "python",
   "name": "python3"
  },
  "language_info": {
   "codemirror_mode": {
    "name": "ipython",
    "version": 3
   },
   "file_extension": ".py",
   "mimetype": "text/x-python",
   "name": "python",
   "nbconvert_exporter": "python",
   "pygments_lexer": "ipython3",
   "version": "3.9.5"
  }
 },
 "nbformat": 4,
 "nbformat_minor": 5
}
