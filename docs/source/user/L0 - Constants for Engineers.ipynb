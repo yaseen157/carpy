{
 "cells": [
  {
   "cell_type": "markdown",
   "id": "6a6df029",
   "metadata": {},
   "source": [
    "# Constants for Engineers"
   ]
  },
  {
   "cell_type": "code",
   "execution_count": 1,
   "id": "33b19aab",
   "metadata": {},
   "outputs": [],
   "source": [
    "# Add path to src/CARPy, in case notebook is running locally\n",
    "import os, sys, warnings\n",
    "sys.path.append(os.path.abspath(os.path.join(os.getcwd(), \"..\\\\..\\\\..\\\\src\")))\n",
    "warnings.simplefilter(\"ignore\")  # <-- Suppress warnings"
   ]
  },
  {
   "cell_type": "markdown",
   "id": "d0e89434",
   "metadata": {},
   "source": [
    "***\n",
    "## Introduction"
   ]
  },
  {
   "cell_type": "markdown",
   "id": "7ba6ed1b",
   "metadata": {},
   "source": [
    "CARPy provides users with a built-in library of frequently accessed and/or inconvenient to recall physical constants.\n",
    "The library does not support users with mathematical constants such as $\\pi$ or Euler's number $e$, but with universal constant's like Planck's $h$ or elementary charge $e$, and representative properties of materials.\n",
    "These are accessed through:\n",
    "\n",
    "1. `MATERIAL`: constants that characterise material performance in a given metric.\n",
    "2. `PHYSICAL`: constants of the Universe.\n",
    "3. `STANDARD`: constants relating to those established in scientific/world consensus.\n",
    "\n",
    "What makes these constants different from those contained in other libraries is the use of CARPy's `Quantity` objects to maintain consistent units between operations."
   ]
  },
  {
   "cell_type": "markdown",
   "id": "560fb070",
   "metadata": {},
   "source": [
    "***\n",
    "## 1) `Material` class"
   ]
  },
  {
   "cell_type": "markdown",
   "id": "96a18d1c",
   "metadata": {},
   "source": [
    "Start with relevant imports"
   ]
  },
  {
   "cell_type": "code",
   "execution_count": 2,
   "id": "5517710d",
   "metadata": {},
   "outputs": [],
   "source": [
    "from carpy.utility import constants"
   ]
  },
  {
   "cell_type": "markdown",
   "id": "dd06e044",
   "metadata": {},
   "source": [
    "Calling `help()` on the `constants.MATERIAL` class displays the following"
   ]
  },
  {
   "cell_type": "code",
   "execution_count": 3,
   "id": "05dd77b7",
   "metadata": {},
   "outputs": [
    {
     "name": "stdout",
     "output_type": "stream",
     "text": [
      "Help on Material in module carpy.utility._constants object:\n",
      "\n",
      "class Material(builtins.object)\n",
      " |  Library of aeronautical material references\n",
      " |  \n",
      " |  Readonly properties defined here:\n",
      " |  \n",
      " |  roughness_Ks\n",
      " |      Returns a dictionary of representative values for hydrodynamic\n",
      " |      surface roughness (equivalent sand-grain roughness, Ks).\n",
      " |  \n",
      " |  ----------------------------------------------------------------------\n",
      " |  Data descriptors defined here:\n",
      " |  \n",
      " |  __dict__\n",
      " |      dictionary for instance variables (if defined)\n",
      " |  \n",
      " |  __weakref__\n",
      " |      list of weak references to the object (if defined)\n",
      "\n"
     ]
    }
   ],
   "source": [
    "help(constants.MATERIAL)"
   ]
  },
  {
   "cell_type": "markdown",
   "id": "ad5497c0",
   "metadata": {},
   "source": [
    "Let's take a look at an example set of material parameters"
   ]
  },
  {
   "cell_type": "code",
   "execution_count": 4,
   "id": "e7d78eae",
   "metadata": {},
   "outputs": [
    {
     "name": "stdout",
     "output_type": "stream",
     "text": [
      "Equivalent sand grain roughness, Ks:\n",
      ">  composite_molded....: 5.18e-07 m\n",
      ">  concrete............: [0.0003 0.003 ] m\n",
      ">  glass_smooth........: 0.0 m\n",
      ">  iron_cast...........: 0.000254 m\n",
      ">  iron_cast_asphalted.: 0.00012 m\n",
      ">  iron_galvanised.....: 0.00015 m\n",
      ">  iron_wrought........: 4.6e-05 m\n",
      ">  metal_galvanised....: 0.0001524 m\n",
      ">  metal_smooth........: [5.080e-07 2.032e-06] m\n",
      ">  paint_camo..........: 3.048e-05 m\n",
      ">  paint_camo_smooth...: 1.016e-05 m\n",
      ">  paint_matte_smooth..: 6.349999999999999e-06 m\n",
      ">  plastic_smooth......: 0.0 m\n",
      ">  sheetmetal..........: 4.0639999999999995e-06 m\n",
      ">  sheetmetal_smooth...: 1.524e-06 m\n",
      ">  steel_riveted.......: [0.0009 0.009 ] m\n",
      ">  steel_wrought.......: 4.6e-05 m\n",
      ">  wood_smooth.........: [5.080e-07 2.032e-06] m\n"
     ]
    }
   ],
   "source": [
    "finishtypes = [attr for attr in dir(constants.MATERIAL.roughness_Ks) if not attr.startswith(\"_\")]\n",
    "\n",
    "print(\"Equivalent sand grain roughness, Ks:\")\n",
    "for finishtype in finishtypes:\n",
    "    print(f\">  {finishtype:.<20s}: {getattr(constants.MATERIAL.roughness_Ks, finishtype)}\")"
   ]
  },
  {
   "cell_type": "markdown",
   "id": "3e8b8074",
   "metadata": {},
   "source": [
    "Some material properties contain a range of values, therefore to avoid unexpected behaviour, it is recommended that one appends `.max()`, `.min()`, or `.mean()` to the returned `Quantity` object."
   ]
  },
  {
   "cell_type": "markdown",
   "id": "a13dc912",
   "metadata": {},
   "source": [
    "***\n",
    "## 2) `Physical` class"
   ]
  },
  {
   "cell_type": "markdown",
   "id": "6678581c",
   "metadata": {},
   "source": [
    "Physical constants of the Universe are stored in `constants.PHYSICAL` class.\n",
    "Calling the `help` function on this class displays the available constants to the user:"
   ]
  },
  {
   "cell_type": "code",
   "execution_count": 5,
   "id": "f852df0f",
   "metadata": {
    "scrolled": true
   },
   "outputs": [
    {
     "name": "stdout",
     "output_type": "stream",
     "text": [
      "Help on Physical in module carpy.utility._constants object:\n",
      "\n",
      "class Physical(builtins.object)\n",
      " |  Assorted physical constants. Return types of this class use the Quantity\n",
      " |  object to describe the appropriate units for the constant's value.\n",
      " |  \n",
      " |  Sourced from Wikipedia's list of physical constants.\n",
      " |  \n",
      " |  Readonly properties defined here:\n",
      " |  \n",
      " |  E_h\n",
      " |      Hartree energy\n",
      " |  \n",
      " |  F\n",
      " |      Faraday constant\n",
      " |  \n",
      " |  G\n",
      " |      Newtonian constant of gravitation\n",
      " |  \n",
      " |  G_0\n",
      " |      Conductance quantum\n",
      " |  \n",
      " |  K_J\n",
      " |      Josephson constant\n",
      " |  \n",
      " |  M_12C\n",
      " |      Molar mass of carbon-12\n",
      " |  \n",
      " |  M_u\n",
      " |      Molar mass constant, one-twelfth the molar mass of carbon-12\n",
      " |  \n",
      " |  N_A\n",
      " |      Avogadro constant\n",
      " |  \n",
      " |  Phi_0\n",
      " |      Magnetic flux quantum\n",
      " |  \n",
      " |  R\n",
      " |      Molar gas constant\n",
      " |  \n",
      " |  R_K\n",
      " |      von Klitzing constant\n",
      " |  \n",
      " |  R_infty\n",
      " |      Rydberg constant\n",
      " |  \n",
      " |  Ry\n",
      " |      Rydberg unit of energy\n",
      " |  \n",
      " |  Z_0\n",
      " |      Characteristic impedance of vacuum\n",
      " |  \n",
      " |  a_0\n",
      " |      Bohr radius\n",
      " |  \n",
      " |  alpha\n",
      " |      Fine-structure constant\n",
      " |  \n",
      " |  b\n",
      " |      Wien wavelength displacement law constant\n",
      " |  \n",
      " |  b_entropy\n",
      " |      Wien entropy displacement law constant\n",
      " |  \n",
      " |  bprime\n",
      " |      Wien frequency displacement law constant\n",
      " |  \n",
      " |  c\n",
      " |      Speed of light in vacuum\n",
      " |  \n",
      " |  e\n",
      " |      Elementary charge\n",
      " |  \n",
      " |  eps_0\n",
      " |      Vacuum electric permittivity\n",
      " |  \n",
      " |  g_e\n",
      " |      Electron g-factor\n",
      " |  \n",
      " |  g_mu\n",
      " |      Muon g-factor\n",
      " |  \n",
      " |  g_p\n",
      " |      Proton g-factor\n",
      " |  \n",
      " |  h\n",
      " |      Planck constant\n",
      " |  \n",
      " |  hbar\n",
      " |      Reduced Planck constant\n",
      " |  \n",
      " |  k_B\n",
      " |      Boltzmann constant\n",
      " |  \n",
      " |  k_e\n",
      " |      Coulomb constant\n",
      " |  \n",
      " |  m_12C\n",
      " |      Atomic mass of carbon-12\n",
      " |  \n",
      " |  m_e\n",
      " |      Electron, proton, and neutron mass\n",
      " |  \n",
      " |  m_mu\n",
      " |      Muon mass\n",
      " |  \n",
      " |  m_n\n",
      " |      Electron, proton, and neutron mass\n",
      " |  \n",
      " |  m_p\n",
      " |      Electron, proton, and neutron mass\n",
      " |  \n",
      " |  m_t\n",
      " |      Top quark mass\n",
      " |  \n",
      " |  m_tau\n",
      " |      Tau particle mass\n",
      " |  \n",
      " |  m_u\n",
      " |      Atomic mass constant, one-twelfth the mass of carbon-12\n",
      " |  \n",
      " |  mu_0\n",
      " |      Vacuum magnetic permeability\n",
      " |  \n",
      " |  mu_B\n",
      " |      Bohr magneton\n",
      " |  \n",
      " |  mu_N\n",
      " |      Nuclear magneton\n",
      " |  \n",
      " |  r_e\n",
      " |      Classical electron radius\n",
      " |  \n",
      " |  sigma\n",
      " |      Stefan-Boltzmann constant\n",
      " |  \n",
      " |  sigma_e\n",
      " |      Thomson cross section\n",
      " |  \n",
      " |  ----------------------------------------------------------------------\n",
      " |  Data descriptors defined here:\n",
      " |  \n",
      " |  __dict__\n",
      " |      dictionary for instance variables (if defined)\n",
      " |  \n",
      " |  __weakref__\n",
      " |      list of weak references to the object (if defined)\n",
      "\n"
     ]
    }
   ],
   "source": [
    "help(constants.PHYSICAL)"
   ]
  },
  {
   "cell_type": "markdown",
   "id": "3ee5b8b5",
   "metadata": {},
   "source": [
    "The speed of light in vacuum, if we ever wanted to access it, is retrieved as follows"
   ]
  },
  {
   "cell_type": "code",
   "execution_count": 6,
   "id": "5c1d75d6",
   "metadata": {},
   "outputs": [
    {
     "name": "stdout",
     "output_type": "stream",
     "text": [
      "2.99792458e+08 m s⁻¹\n"
     ]
    }
   ],
   "source": [
    "print(constants.PHYSICAL.c)"
   ]
  },
  {
   "cell_type": "markdown",
   "id": "7e09214c",
   "metadata": {},
   "source": [
    "Users can leverage these representations of physical constants to all the usual advantages `Quantity` objects provide.\n",
    "How much energy is released if a single neutron is completely obliterated and turned into pure light energy?\n",
    "Let's ask Einstein:"
   ]
  },
  {
   "cell_type": "code",
   "execution_count": 7,
   "id": "ba760f97",
   "metadata": {},
   "outputs": [
    {
     "name": "stdout",
     "output_type": "stream",
     "text": [
      "1.50534976e-10 kg m² s⁻²\n"
     ]
    }
   ],
   "source": [
    "# E = m * c^2\n",
    "energy_released = constants.PHYSICAL.m_n * constants.PHYSICAL.c ** 2\n",
    "print(energy_released)"
   ]
  },
  {
   "cell_type": "markdown",
   "id": "84091298",
   "metadata": {},
   "source": [
    "***\n",
    "## 3) `Standard` class"
   ]
  },
  {
   "cell_type": "markdown",
   "id": "495c645b",
   "metadata": {},
   "source": [
    "The following standards have a subset of their contained constants and/or reference values implemented in CARPy through `constants.STANDARD`:"
   ]
  },
  {
   "cell_type": "code",
   "execution_count": 8,
   "id": "5744df32",
   "metadata": {},
   "outputs": [
    {
     "name": "stdout",
     "output_type": "stream",
     "text": [
      "['AA21_K', 'ISO_2533', 'SL', 'WGS84']\n"
     ]
    }
   ],
   "source": [
    "publicstandards = [x for x in dir(constants.STANDARD) if not x.startswith(\"_\")]\n",
    "print(publicstandards)"
   ]
  },
  {
   "cell_type": "markdown",
   "id": "2baf58ab",
   "metadata": {},
   "source": [
    "In this case, we'll try accessing the definition of the international standard atmosphere's relative molar composition as described by the ISO2533:1975 standard:"
   ]
  },
  {
   "cell_type": "code",
   "execution_count": 9,
   "id": "48f42599",
   "metadata": {},
   "outputs": [
    {
     "name": "stdout",
     "output_type": "stream",
     "text": [
      "{'N2': 78.084, 'O2': 20.9476, 'Ar': 0.934, 'CO2': 0.0314, 'Ne': 0.001818, 'He': 0.000524, 'Kr': 0.000114, 'Xe': 8.7e-06, 'H2': 5e-05, 'N2O': 5e-05, 'CH4': 0.0002}\n"
     ]
    }
   ],
   "source": [
    "print(constants.STANDARD.ISO_2533.X)"
   ]
  },
  {
   "cell_type": "code",
   "execution_count": null,
   "id": "805fb76f",
   "metadata": {},
   "outputs": [],
   "source": []
  }
 ],
 "metadata": {
  "kernelspec": {
   "display_name": "Python 3 (ipykernel)",
   "language": "python",
   "name": "python3"
  },
  "language_info": {
   "codemirror_mode": {
    "name": "ipython",
    "version": 3
   },
   "file_extension": ".py",
   "mimetype": "text/x-python",
   "name": "python",
   "nbconvert_exporter": "python",
   "pygments_lexer": "ipython3",
   "version": "3.9.5"
  }
 },
 "nbformat": 4,
 "nbformat_minor": 5
}
