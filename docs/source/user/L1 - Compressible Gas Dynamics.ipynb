{
 "cells": [
  {
   "cell_type": "markdown",
   "id": "6a6df029",
   "metadata": {},
   "source": [
    "# Compressible Gas Dynamics"
   ]
  },
  {
   "cell_type": "code",
   "execution_count": 1,
   "id": "33b19aab",
   "metadata": {},
   "outputs": [],
   "source": [
    "# Add path to src/CARPy, in case notebook is running locally\n",
    "import os, sys, warnings\n",
    "sys.path.append(os.path.abspath(os.path.join(os.getcwd(), \"..\\\\..\\\\..\\\\src\")))\n",
    "warnings.simplefilter(\"ignore\")  # <-- Suppress warnings"
   ]
  },
  {
   "cell_type": "markdown",
   "id": "d0e89434",
   "metadata": {},
   "source": [
    "***\n",
    "## Introduction"
   ]
  },
  {
   "cell_type": "markdown",
   "id": "f760d91c",
   "metadata": {},
   "source": [
    "Frequently encountered in aeronautical engineering is the need to account for compressible gas effects.\n",
    "CARPy supports designers by providing several gas dynamic calculators, including methods for:\n",
    "\n",
    "1. Isentropic Flow, when changes in flow are small and gradual.\n",
    "2. Normal Shock (relations), when shocks form with wave fronts normal to the freestream flow.\n",
    "3. Oblique Shock (relations), when shocks form with wave fronts are inclined with respect to the freestream flow.\n",
    "4. Expansion Fans, when supersonic flow encounters convex geometry.\n",
    "5. Rayleigh Flow, describing frictionless, non-adiabatic flow through a constant area duct where effects of heat addition or rejection are considered.\n",
    "6. Fanno Flow, describing adiabatic, non-frictionless flow through a constant area duct.\n",
    "\n",
    "CARPy does not yet include unit tests to validate the outputs of any compressible gas dynamics methods."
   ]
  },
  {
   "cell_type": "markdown",
   "id": "560fb070",
   "metadata": {},
   "source": [
    "***\n",
    "## 1) `IsentropicFlow` methods"
   ]
  },
  {
   "cell_type": "markdown",
   "id": "96a18d1c",
   "metadata": {},
   "source": [
    "Start with relevant imports"
   ]
  },
  {
   "cell_type": "code",
   "execution_count": 2,
   "id": "5517710d",
   "metadata": {},
   "outputs": [
    {
     "name": "stdout",
     "output_type": "stream",
     "text": [
      "['A_Astar', 'M', 'T_T0', 'T_Tstar', 'mdot', 'mu', 'nu', 'p_p0', 'p_pstar', 'rho_rho0', 'rho_rhostar']\n"
     ]
    }
   ],
   "source": [
    "from carpy.gaskinetics import IsentropicFlow as IF\n",
    "\n",
    "publicmethods = [x for x in dir(IF) if not x.startswith(\"__\")]\n",
    "print(publicmethods)"
   ]
  },
  {
   "cell_type": "markdown",
   "id": "8e62f9d9",
   "metadata": {},
   "source": [
    "Any method written as `X_X0` indicates that the method will return the ratio of static to stagnation quantities (e.g. $T / T_0$):"
   ]
  },
  {
   "cell_type": "code",
   "execution_count": 3,
   "id": "4938fff6",
   "metadata": {},
   "outputs": [
    {
     "name": "stdout",
     "output_type": "stream",
     "text": [
      "T/T_0 @ Mach2 = [0.55555556]\n"
     ]
    }
   ],
   "source": [
    "# Static to stagnation temperature ratio at Mach 2\n",
    "print(\"T/T_0 @ Mach2 =\", IF.T_T0(M=2))"
   ]
  },
  {
   "cell_type": "markdown",
   "id": "9ed7cdd9",
   "metadata": {},
   "source": [
    "Also available to users are static to sonic quantity ratios (e.g. $T/T^*$):"
   ]
  },
  {
   "cell_type": "code",
   "execution_count": 4,
   "id": "df05b9dd",
   "metadata": {
    "scrolled": false
   },
   "outputs": [
    {
     "name": "stdout",
     "output_type": "stream",
     "text": [
      "T/T_0 @ Mach2 = [0.78571429]\n"
     ]
    }
   ],
   "source": [
    "# Static to stagnation temperature ratio at Mach 2, gamma=1.2\n",
    "print(\"T/T_0 @ Mach2 =\", IF.T_Tstar(M=2, gamma=1.2))"
   ]
  },
  {
   "cell_type": "markdown",
   "id": "06b1fd79",
   "metadata": {},
   "source": [
    "***\n",
    "## 2) `NormalShock` methods"
   ]
  },
  {
   "cell_type": "markdown",
   "id": "f0384c20",
   "metadata": {},
   "source": [
    "Start with relevant imports"
   ]
  },
  {
   "cell_type": "code",
   "execution_count": 5,
   "id": "838a6289",
   "metadata": {},
   "outputs": [
    {
     "name": "stdout",
     "output_type": "stream",
     "text": [
      "['M2', 'T02_T01', 'T2_T1', 'V2_V1', 'p02_p01', 'p2_p1', 'rho2_rho1']\n"
     ]
    }
   ],
   "source": [
    "from carpy.gaskinetics import NormalShock as NS\n",
    "\n",
    "publicmethods = [x for x in dir(NS) if not x.startswith(\"__\")]\n",
    "print(publicmethods)"
   ]
  },
  {
   "cell_type": "markdown",
   "id": "730df364",
   "metadata": {},
   "source": [
    "Given upstream conditions, it is trivial for users to evaluate conditions downstream of a normal shock:"
   ]
  },
  {
   "cell_type": "code",
   "execution_count": 6,
   "id": "f64f7122",
   "metadata": {},
   "outputs": [
    {
     "name": "stdout",
     "output_type": "stream",
     "text": [
      "M1 (upstream)...... 2.0\n",
      "gamma (upstream)... 1.3\n",
      "--------------------\n",
      "M2 ................ [0.56287804]\n",
      "p2/p1 ............. [4.39130435]\n",
      "T2/T1 ............. [1.52741021]\n"
     ]
    }
   ],
   "source": [
    "# Set upstream conditions\n",
    "M1 = 2\n",
    "gamma = 1.3\n",
    "conditions = {\"M1\":M1, \"gamma\": gamma}\n",
    "\n",
    "print(f\"M1 (upstream)...... {M1:.1f}\")\n",
    "print(f\"gamma (upstream)... {gamma:.1f}\")\n",
    "print(\"-\"*20)\n",
    "print(f\"M2 ................ {NS.M2(**conditions)}\")\n",
    "print(f\"p2/p1 ............. {NS.p2_p1(**conditions)}\")\n",
    "print(f\"T2/T1 ............. {NS.T2_T1(**conditions)}\")"
   ]
  },
  {
   "cell_type": "markdown",
   "id": "72284585",
   "metadata": {},
   "source": [
    "***\n",
    "## 3) `ObliqueShock` methods"
   ]
  },
  {
   "cell_type": "markdown",
   "id": "b528475c",
   "metadata": {},
   "source": [
    "Start with relevant imports"
   ]
  },
  {
   "cell_type": "code",
   "execution_count": 7,
   "id": "5daa34f6",
   "metadata": {},
   "outputs": [
    {
     "name": "stdout",
     "output_type": "stream",
     "text": [
      "['M2', 'T02_T01', 'T2_T1', 'beta', 'p02_p01', 'p2_p1', 'rho2_rho1', 'theta']\n"
     ]
    }
   ],
   "source": [
    "import numpy as np\n",
    "\n",
    "from carpy.gaskinetics import ObliqueShock as OS\n",
    "\n",
    "publicmethods = [x for x in dir(OS) if not x.startswith(\"__\")]\n",
    "print(publicmethods)"
   ]
  },
  {
   "cell_type": "markdown",
   "id": "11d69717",
   "metadata": {},
   "source": [
    "`ObliqueShock` methods are very similar to those contained in `NormalShock`, with the exception that a flow deflection parameter `theta` is introduced:"
   ]
  },
  {
   "cell_type": "code",
   "execution_count": 8,
   "id": "32cae453",
   "metadata": {},
   "outputs": [
    {
     "name": "stdout",
     "output_type": "stream",
     "text": [
      "M1 (upstream)...... 2.0\n",
      "gamma (upstream)... 1.3\n",
      "theta (upstream)... 6.000 [deg]\n",
      "--------------------\n",
      "M2 ................ (array([1.80781852]), array([0.57089155]))\n",
      "p02/p01 ........... (array([0.99679791]), array([0.7022005]))\n",
      "T2/T1 ............. (array([1.07365893]), array([1.52542564]))\n"
     ]
    }
   ],
   "source": [
    "# Set upstream conditions\n",
    "M1 = 2\n",
    "gamma = 1.3\n",
    "theta = np.radians(6)\n",
    "conditions = {\"M1\":M1, \"gamma\": gamma, \"theta\":theta}\n",
    "\n",
    "print(f\"M1 (upstream)...... {M1:.1f}\")\n",
    "print(f\"gamma (upstream)... {gamma:.1f}\")\n",
    "print(f\"theta (upstream)... {np.degrees(theta):.3f} [deg]\")\n",
    "print(\"-\"*20)\n",
    "print(f\"M2 ................ {OS.M2(**conditions)}\")\n",
    "print(f\"p02/p01 ........... {OS.p02_p01(**conditions)}\")\n",
    "print(f\"T2/T1 ............. {OS.T2_T1(**conditions)}\")"
   ]
  },
  {
   "cell_type": "markdown",
   "id": "c1cb5f27",
   "metadata": {},
   "source": [
    "Help!\n",
    "Why does the calculator give me two solutions for one set of upstream conditions?\n",
    "The answer is quite simply that the `ObliqueShock` calculator provides both weak and strong shock solutions, respectively (note how M2 has a supersonic solution with a weak shock, and subsonic solution in strong shock cases).\n",
    "\n",
    "Notice that the downstream stagnation pressure $p_{02}$ is much closer to that of $p_{01}$ in a weak shock case; meaning that well-designed supersonic engine inlets recover pressure far better through weak shocks than strong shocks - and with a lesser temperature penalty!"
   ]
  },
  {
   "cell_type": "markdown",
   "id": "fa17c7c8",
   "metadata": {},
   "source": [
    "For all flows exists a maximum flow deflection angle, beyond which the oblique shock detaches from the corner and is replaced with a detached bow shock.\n",
    "This is apparent when the shock angle solutions return 'not a number' answers."
   ]
  },
  {
   "cell_type": "code",
   "execution_count": 9,
   "id": "61e5683c",
   "metadata": {},
   "outputs": [
    {
     "data": {
      "text/plain": [
       "(array([nan]), array([nan]))"
      ]
     },
     "execution_count": 9,
     "metadata": {},
     "output_type": "execute_result"
    }
   ],
   "source": [
    "OS.beta(M1=M1, gamma=gamma, theta=np.radians(25))"
   ]
  },
  {
   "cell_type": "markdown",
   "id": "11044d5c",
   "metadata": {},
   "source": [
    "***\n",
    "## 4) `ExpansionFan` objects"
   ]
  },
  {
   "cell_type": "markdown",
   "id": "f84fe0c5",
   "metadata": {},
   "source": [
    "Start with relevant imports"
   ]
  },
  {
   "cell_type": "code",
   "execution_count": 10,
   "id": "2917633a",
   "metadata": {},
   "outputs": [
    {
     "name": "stdout",
     "output_type": "stream",
     "text": [
      "['M1', 'M2', 'T2_T1', 'gamma', 'p2_p1', 'rho2_rho1', 'theta']\n"
     ]
    }
   ],
   "source": [
    "from carpy.gaskinetics import ExpansionFan as EF\n",
    "\n",
    "publicmethods = [x for x in dir(EF) if not x.startswith(\"__\")]\n",
    "print(publicmethods)"
   ]
  },
  {
   "cell_type": "markdown",
   "id": "5c7a8776",
   "metadata": {},
   "source": [
    "`ExpansionFan` methods are unique in that unlike other classes in this module, many attributes of `ExpansionFan` depend on computationally costly root-finding methods.\n",
    "For this reason, `ExpansionFan` is made an instantiable object - encouraging efficient use of broadcasted inputs that are then cached to eliminate recompute time.\n",
    "\n",
    "The alternative to instantiating would've been to use class methods like the other classes, however, it was far more convenient to use persistent fan objects."
   ]
  },
  {
   "cell_type": "code",
   "execution_count": 11,
   "id": "5e498b8d",
   "metadata": {},
   "outputs": [
    {
     "name": "stdout",
     "output_type": "stream",
     "text": [
      "M1 (upstream)...... [2, 3, 3]\n",
      "gamma (upstream)... [1.3, 1.3, 1.2]\n",
      "theta (upstream)... 6.0 [deg]\n",
      "--------------------\n",
      "M2 ................ [2.19788692 3.27345585 3.21746633]\n",
      "p2/p1 ............. [0.72254298 0.63745115 0.6620146 ]\n",
      "T2/T1 ............. [0.92774812 0.90130621 0.93356507]\n"
     ]
    }
   ],
   "source": [
    "# Set upstream conditions\n",
    "M1 = [2, 3, 3]\n",
    "gamma = [1.3, 1.3, 1.2]\n",
    "theta = np.radians(6)\n",
    "conditions = {\"M1\":M1, \"gamma\": gamma, \"theta\":theta}\n",
    "\n",
    "# Compute downstream (fan) conditions\n",
    "fan = EF(**conditions)\n",
    "\n",
    "print(f\"M1 (upstream)...... {M1}\")\n",
    "print(f\"gamma (upstream)... {gamma}\")\n",
    "print(f\"theta (upstream)... {np.degrees(theta):.1f} [deg]\")\n",
    "print(\"-\"*20)\n",
    "print(f\"M2 ................ {fan.M2}\")\n",
    "print(f\"p2/p1 ............. {fan.p2_p1}\")\n",
    "print(f\"T2/T1 ............. {fan.T2_T1}\")"
   ]
  },
  {
   "cell_type": "markdown",
   "id": "53ac5278",
   "metadata": {},
   "source": [
    "Notice how the results have been broadcasted to deal with only one `theta` value."
   ]
  },
  {
   "cell_type": "markdown",
   "id": "82f4151b",
   "metadata": {},
   "source": [
    "***\n",
    "## 5) `RayleighFlow` methods"
   ]
  },
  {
   "cell_type": "markdown",
   "id": "caee694c",
   "metadata": {},
   "source": [
    "Start with relevant imports"
   ]
  },
  {
   "cell_type": "code",
   "execution_count": 12,
   "id": "228a3d1a",
   "metadata": {
    "scrolled": true
   },
   "outputs": [
    {
     "name": "stdout",
     "output_type": "stream",
     "text": [
      "['DeltaS', 'H', 'T0_T0star', 'T_Tstar', 'V_Vstar', 'p0_p0star', 'p_pstar', 'rho_rhostar']\n"
     ]
    }
   ],
   "source": [
    "from carpy.gaskinetics import RayleighFlow as RF\n",
    "\n",
    "publicmethods = [x for x in dir(RF) if not x.startswith(\"__\")]\n",
    "print(publicmethods)"
   ]
  },
  {
   "cell_type": "code",
   "execution_count": 13,
   "id": "b1b070e0",
   "metadata": {},
   "outputs": [
    {
     "name": "stdout",
     "output_type": "stream",
     "text": [
      "M (upstream)....... 2.0\n",
      "gamma (upstream)... 1.3\n",
      "--------------------\n",
      "DeltaS ............ [-0.36814594]\n",
      "p/p* .............. [0.37096774]\n",
      "T/T* .............. [0.55046826]\n"
     ]
    }
   ],
   "source": [
    "# Set upstream conditions\n",
    "M = 2.0\n",
    "gamma = 1.3\n",
    "conditions = {\"M\":M, \"gamma\": gamma}\n",
    "\n",
    "print(f\"M (upstream)....... {M:.1f}\")\n",
    "print(f\"gamma (upstream)... {gamma:.1f}\")\n",
    "print(\"-\"*20)\n",
    "print(f\"DeltaS ............ {RF.DeltaS(**conditions)}\")\n",
    "print(f\"p/p* .............. {RF.p_pstar(**conditions)}\")\n",
    "print(f\"T/T* .............. {RF.T_Tstar(**conditions)}\")"
   ]
  },
  {
   "cell_type": "markdown",
   "id": "ca106213",
   "metadata": {},
   "source": [
    "***\n",
    "## 6) `FannoFlow` methods"
   ]
  },
  {
   "cell_type": "markdown",
   "id": "9eb79dcc",
   "metadata": {},
   "source": [
    "Start with relevant imports"
   ]
  },
  {
   "cell_type": "code",
   "execution_count": 14,
   "id": "80e3e27a",
   "metadata": {},
   "outputs": [
    {
     "name": "stdout",
     "output_type": "stream",
     "text": [
      "['DeltaS', 'H', 'T0_T0star', 'T_Tstar', 'V_Vstar', 'p0_p0star', 'p_pstar', 'rho0_rho0star', 'rho_rhostar']\n"
     ]
    }
   ],
   "source": [
    "from carpy.gaskinetics import FannoFlow as FF\n",
    "\n",
    "publicmethods = [x for x in dir(FF) if not x.startswith(\"__\")]\n",
    "print(publicmethods)"
   ]
  },
  {
   "cell_type": "code",
   "execution_count": 15,
   "id": "d65b2628",
   "metadata": {},
   "outputs": [
    {
     "name": "stdout",
     "output_type": "stream",
     "text": [
      "M (upstream)....... 2.0\n",
      "gamma (upstream)... 1.3\n",
      "--------------------\n",
      "DeltaS ............ [-0.13217984]\n",
      "p/p* .............. [0.42389562]\n",
      "T/T* .............. [0.71875]\n"
     ]
    }
   ],
   "source": [
    "# Set upstream conditions\n",
    "M = 2\n",
    "gamma = 1.3\n",
    "conditions = {\"M\":M, \"gamma\": gamma}\n",
    "\n",
    "print(f\"M (upstream)....... {M:.1f}\")\n",
    "print(f\"gamma (upstream)... {gamma:.1f}\")\n",
    "print(\"-\"*20)\n",
    "print(f\"DeltaS ............ {FF.DeltaS(**conditions)}\")\n",
    "print(f\"p/p* .............. {FF.p_pstar(**conditions)}\")\n",
    "print(f\"T/T* .............. {FF.T_Tstar(**conditions)}\")"
   ]
  },
  {
   "cell_type": "code",
   "execution_count": null,
   "id": "f41304be",
   "metadata": {},
   "outputs": [],
   "source": []
  }
 ],
 "metadata": {
  "kernelspec": {
   "display_name": "Python 3 (ipykernel)",
   "language": "python",
   "name": "python3"
  },
  "language_info": {
   "codemirror_mode": {
    "name": "ipython",
    "version": 3
   },
   "file_extension": ".py",
   "mimetype": "text/x-python",
   "name": "python",
   "nbconvert_exporter": "python",
   "pygments_lexer": "ipython3",
   "version": "3.9.5"
  }
 },
 "nbformat": 4,
 "nbformat_minor": 5
}
