{
 "cells": [
  {
   "cell_type": "markdown",
   "id": "6a6df029",
   "metadata": {},
   "source": [
    "# Predicting Wing Lift and Drag"
   ]
  },
  {
   "cell_type": "code",
   "execution_count": 1,
   "id": "33b19aab",
   "metadata": {},
   "outputs": [],
   "source": [
    "# Add path to src/CARPy, in case notebook is running locally\n",
    "import os, sys, warnings\n",
    "sys.path.append(os.path.abspath(os.path.join(os.getcwd(), \"..\\\\..\\\\..\\\\src\")))\n",
    "warnings.simplefilter(\"ignore\")  # <-- Suppress warnings"
   ]
  },
  {
   "cell_type": "markdown",
   "id": "d0e89434",
   "metadata": {},
   "source": [
    "***\n",
    "## Introduction"
   ]
  },
  {
   "cell_type": "markdown",
   "id": "c3d89448",
   "metadata": {},
   "source": [
    "*As a pre-requisite to this notebook, it is recommended readers first familiarise themselves with the available material on modelling aerofoils in CARPy.*\n",
    "\n",
    "With the selection of candidate aerofoils, the performance of a 3D lifting geometry can now be estimated with CARPy.\n",
    "This mapping of 2D aerofoil sections to 3D wing geometry requires:\n",
    "\n",
    "1. `WingSection`: an object that dimensionalises the chord length and thickness of non-dimensional aerofoil geometries.\n",
    "2. `WingSections`: a dictionary-like object that permits the definition of wing dihedral, sweep, and twist.\n",
    "\n",
    "Much like the aerofoil performance prediction methods, wing performance is captured through a variety of methods in:\n",
    "\n",
    "3. `WingSolution`: an object capturing basic performance coefficients of the wing.\n",
    "\n",
    "Inverse design methods are not supported at this time."
   ]
  },
  {
   "cell_type": "markdown",
   "id": "560fb070",
   "metadata": {},
   "source": [
    "***\n",
    "## 1) `WingSection` objects"
   ]
  },
  {
   "cell_type": "markdown",
   "id": "96a18d1c",
   "metadata": {},
   "source": [
    "Start with relevant imports"
   ]
  },
  {
   "cell_type": "code",
   "execution_count": 2,
   "id": "8b9e6e2b",
   "metadata": {},
   "outputs": [],
   "source": [
    "from carpy.aerodynamics.aerofoil import NewAerofoil\n",
    "from carpy.aerodynamics.wing import WingSection"
   ]
  },
  {
   "cell_type": "markdown",
   "id": "bc8b009f",
   "metadata": {},
   "source": [
    "There are several angles or reference planes along which a wing can be sliced to produce sections or aerofoils.\n",
    "CARPy wing sections are currently defined in a vertical plane parallel to the aircraft's buttock line (unless they have been given dihedral angle, in which case the section rotates about its chord line):"
   ]
  },
  {
   "cell_type": "code",
   "execution_count": 3,
   "id": "71ae8b9f",
   "metadata": {},
   "outputs": [],
   "source": [
    "# Instantiate geometry that will define the wing shape\n",
    "naca0012 = NewAerofoil.from_method.NACA(\"0012\")\n",
    "naca2412 = NewAerofoil.from_method.NACA(\"2412\")\n",
    "naca2418 = NewAerofoil.from_method.NACA(\"2418\")\n",
    "\n",
    "# Defining the starboard wing section geometries\n",
    "wbl_0012 = WingSection(naca0012)\n",
    "wbl_2412 = WingSection(naca2412)\n",
    "wbl_2418 = WingSection(naca2418)"
   ]
  },
  {
   "cell_type": "markdown",
   "id": "26f1f1f4",
   "metadata": {},
   "source": [
    "WingSection objects are not designed for users to be able to interact with the attributes of directly, and therefore attributes should be treated as read-only.\n",
    "The original aerofoil section can be recovered:"
   ]
  },
  {
   "cell_type": "code",
   "execution_count": 4,
   "id": "50e18131",
   "metadata": {},
   "outputs": [
    {
     "data": {
      "image/png": "[encoded data removed]",
      "text/plain": [
       "<Figure size 896x672 with 1 Axes>"
      ]
     },
     "metadata": {},
     "output_type": "display_data"
    }
   ],
   "source": [
    "wbl_0012.aerofoil.show()"
   ]
  },
  {
   "cell_type": "markdown",
   "id": "0de6a9fd",
   "metadata": {},
   "source": [
    "But it is recommended that properties of a `WingSection` are set via the `WingSections` dictionary-like object."
   ]
  },
  {
   "cell_type": "markdown",
   "id": "2087d6e8",
   "metadata": {},
   "source": [
    "***\n",
    "## 2) `WingSections` objects"
   ]
  },
  {
   "cell_type": "markdown",
   "id": "90eae209",
   "metadata": {},
   "source": [
    "`WingSections` (plural) objects can be thought of as a dictionary of `WingSection` (singular) objects, created by the user, that define the 3D geometry of the wing.\n",
    "Users familiar with dictionaries should be comfortable with the concept that a dictionary can have a key-value pair designated with the following syntax:\n",
    "    \n",
    "    >>> my_dictionary[some_key] = some_value\n",
    "    \n",
    "    >>> print(my_dictionary)\n",
    "    {some_key: some_value}"
   ]
  },
  {
   "cell_type": "markdown",
   "id": "77f5bf89",
   "metadata": {},
   "source": [
    "There are some key differences in how one uses `WingSections` objects versus regular dictionaries:\n",
    "\n",
    "1. All keys are numeric.\n",
    "2. Values can be interpolated, for keys that do not yet exist.\n",
    "3. The only valid values of `WingSections` dictionaries are `WingSection` or `Aerofoil` objects.\n",
    "4. Existing values from `WingSections` objects can be accessed with slices and arrays."
   ]
  },
  {
   "cell_type": "markdown",
   "id": "ed5f4ec0",
   "metadata": {},
   "source": [
    "    >>> wing_sections_object[numeric_station] = wing_section_or_aerofoil_object\n",
    "    \n",
    "    >>> print(wing_sections_object)\n",
    "    {numeric_station: wing_section_or_aerofoil_object}"
   ]
  },
  {
   "cell_type": "markdown",
   "id": "6427e71e",
   "metadata": {},
   "source": [
    "We'll demonstrate these concepts more concretely with an example. Begin with the relevant import:"
   ]
  },
  {
   "cell_type": "code",
   "execution_count": 5,
   "id": "11470dfc",
   "metadata": {},
   "outputs": [],
   "source": [
    "from carpy.aerodynamics.wing import WingSections"
   ]
  },
  {
   "cell_type": "markdown",
   "id": "3256c73b",
   "metadata": {},
   "source": [
    "By default, the `WingSections` object is instantiated as \"mirrored\", so that users only need to define the aerofoil sections and geometry for half the wing - the other half of the wing is mirrored around the station with the smallest index."
   ]
  },
  {
   "cell_type": "code",
   "execution_count": 6,
   "id": "22ad9b57",
   "metadata": {},
   "outputs": [],
   "source": [
    "# Define a mirrored wing geometry with a span of 10.6 metres\n",
    "conceptwing = WingSections(b=10.6, mirrored=True)\n",
    "\n",
    "# Prescribe geometry at a number of stations along the wing\n",
    "conceptwing[-2] = naca2418  # <-- Centreline station, about which wing is mirrored\n",
    "conceptwing[10] = naca2412\n",
    "conceptwing[11.5] = naca0012"
   ]
  },
  {
   "cell_type": "markdown",
   "id": "9d73555c",
   "metadata": {},
   "source": [
    "The important thing to remember about station numbers is that they are in proportion to each other's position along the span.\n",
    "*You cannot prescribe a station 0 at position 0, station 10 at position 10, and then station 20 at position 100!*\n",
    "\n",
    "Say we would like to prescribe a change in chord length at what would be the aerofoil at station 0."
   ]
  },
  {
   "cell_type": "code",
   "execution_count": 7,
   "id": "d468543c",
   "metadata": {},
   "outputs": [
    {
     "name": "stdout",
     "output_type": "stream",
     "text": [
      "dict_items([(-2.0, <carpy WingSection at 0x1e7317b8a30>), (0.0, <carpy WingSection at 0x1e754d3efd0>), (10.0, <carpy WingSection at 0x1e7317933d0>), (11.5, <carpy WingSection at 0x1e75444e7f0>)])\n"
     ]
    }
   ],
   "source": [
    "# Take advantage of interpolation to make a copy of what a station 0 geometry currently looks like\n",
    "station2modify = conceptwing[0]  # <-- This line produces a NEW WingSection object!\n",
    "\n",
    "# Make a change to our fictitious station of the wing\n",
    "station2modify.chord = 1.1\n",
    "\n",
    "# Make the change a reality, by defining station 0 (which does not yet exist) in the concept wing\n",
    "conceptwing[0] = station2modify  # <-- Instead of assigning an Aerofoil object, we're assigning a WingSection\n",
    "\n",
    "print(conceptwing.items())  # <-- Now, we have a brand new station #0"
   ]
  },
  {
   "cell_type": "markdown",
   "id": "5d089eb5",
   "metadata": {},
   "source": [
    "One thing to be careful of is that if you request the value of a `WingSections` object at a station that is already defined, you will receive exactly the `WingSection` object that has been prescribed at that station - and therefore you can modify the `WingSections` object without actually having to reassign that wing section to the 3D wing geometry."
   ]
  },
  {
   "cell_type": "code",
   "execution_count": 8,
   "id": "63070e43",
   "metadata": {},
   "outputs": [
    {
     "name": "stdout",
     "output_type": "stream",
     "text": [
      "Existing station '-2.0' has a chord length of 1.0 m.\n",
      "\n",
      "Modified station '-2.0' has a chord length of 1.2 m (despite not explicitly reassigning the station)\n"
     ]
    }
   ],
   "source": [
    "# Take the station with the lowest index\n",
    "existing_section_number = list(conceptwing)[0]\n",
    "existing_section = conceptwing[existing_section_number]\n",
    "\n",
    "print(f\"Existing station '{existing_section_number}' has a chord length of {existing_section.chord}.\\n\")\n",
    "\n",
    "# Modify that station's chord\n",
    "existing_section.chord = 1.2\n",
    "\n",
    "# The concept wing has already updated its geometry\n",
    "print(f\"Modified station '{existing_section_number}' has a chord length of \"\n",
    "      f\"{conceptwing[existing_section_number].chord} (despite not explicitly reassigning the station)\")"
   ]
  },
  {
   "cell_type": "markdown",
   "id": "1ed963f8",
   "metadata": {},
   "source": [
    "To quickly modify parameters of a number of defined stations at once, say, to prescribe dihedral we can access many sections at once using Python slicing"
   ]
  },
  {
   "cell_type": "code",
   "execution_count": 9,
   "id": "0e3f3999",
   "metadata": {},
   "outputs": [
    {
     "data": {
      "text/plain": [
       "array([ True,  True,  True,  True])"
      ]
     },
     "execution_count": 9,
     "metadata": {},
     "output_type": "execute_result"
    }
   ],
   "source": [
    "import numpy as np\n",
    "\n",
    "# Show to a reader that all defined WingSection objects can simply be taken with the slice [:]\n",
    "np.array(list(conceptwing.values())) == conceptwing[:]"
   ]
  },
  {
   "cell_type": "code",
   "execution_count": 10,
   "id": "2a857308",
   "metadata": {},
   "outputs": [
    {
     "name": "stdout",
     "output_type": "stream",
     "text": [
      "conceptwing[:].twist=[0.0, 0.0, -0.05235987755982989, -0.05235987755982989]\n",
      "\n",
      "conceptwing[:].dihedral=[0.03490658503988659, 0.03490658503988659, 0.03490658503988659, 0.03490658503988659]\n",
      "\n",
      "conceptwing[:].sweep=[0.0, 0.0, 0.017453292519943295, 0.017453292519943295]\n"
     ]
    }
   ],
   "source": [
    "# Add geometric twist station 10 and outwards\n",
    "conceptwing[10:].twist = np.radians(-3)  # Wash out stations 10 and after by 3 degrees\n",
    "print(f\"{conceptwing[:].twist=}\\n\")\n",
    "\n",
    "# Define a dihedral angle for the whole wing\n",
    "conceptwing[:].dihedral = np.radians(2)  # Up dihedral for all stations, 2 degrees\n",
    "print(f\"{conceptwing[:].dihedral=}\\n\")\n",
    "\n",
    "# Sweep the outboard two stations\n",
    "conceptwing[10:].sweep = np.radians(1)  # Sweep stations after 10 by 1 degree\n",
    "print(f\"{conceptwing[:].sweep=}\")"
   ]
  },
  {
   "cell_type": "markdown",
   "id": "ccfb90d1",
   "metadata": {},
   "source": [
    "Section twist is a 2D parameter of a section, and is easy to determine by finding the angle in the X-Z plane between the section's chordline and the wing root chord.\n",
    "Wings do not suddenly twist, and so segments of wing between two stations geometric twist linearly interpolate the twist."
   ]
  },
  {
   "cell_type": "code",
   "execution_count": 11,
   "id": "0f06c954",
   "metadata": {},
   "outputs": [
    {
     "name": "stdout",
     "output_type": "stream",
     "text": [
      "-0.031415926535897934\n"
     ]
    }
   ],
   "source": [
    "# Twist linearly interpolates between stations\n",
    "print(conceptwing[6].twist)"
   ]
  },
  {
   "cell_type": "markdown",
   "id": "9fa8ecf8",
   "metadata": {},
   "source": [
    "Dihedral of a wing can also apply section-wise, however, it is unclear at a station coincident with the kink of a compound dihedral wing if the value of the dihedral is equal to the dihedral angle before or after the station.\n",
    "For this reason, the dihedral angle defined at a station describes the dihedral angle of the segment of wing that follows the station; and unlike twist, does not make sense to linearly interpolate between stations.\n",
    "As a result, the dihedral angle of an unknown, new station is inferred from the closest available inboard station."
   ]
  },
  {
   "cell_type": "code",
   "execution_count": 12,
   "id": "b7e26b70",
   "metadata": {},
   "outputs": [
    {
     "name": "stdout",
     "output_type": "stream",
     "text": [
      "0.03490658503988659\n"
     ]
    }
   ],
   "source": [
    "# Dihedral is inherited from the closest inboard station\n",
    "print(conceptwing[6].dihedral)"
   ]
  },
  {
   "cell_type": "markdown",
   "id": "474054b5",
   "metadata": {},
   "source": [
    "The same could be said about the wing's sweep angle"
   ]
  },
  {
   "cell_type": "code",
   "execution_count": 13,
   "id": "f626b9f4",
   "metadata": {},
   "outputs": [
    {
     "name": "stdout",
     "output_type": "stream",
     "text": [
      "0.0\n"
     ]
    }
   ],
   "source": [
    "# Sweep is inherited from the closest inboard station\n",
    "print(conceptwing[6].sweep)"
   ]
  },
  {
   "cell_type": "markdown",
   "id": "0874d3b2",
   "metadata": {},
   "source": [
    "You've now learned how to define a wing with definite span, chord length, twist, sweep, dihedral, and profile.\n",
    "We can conveniently access geometric properties of the wing, such as its standard mean chord or aspect ratio:"
   ]
  },
  {
   "cell_type": "code",
   "execution_count": 14,
   "id": "ce416418",
   "metadata": {},
   "outputs": [
    {
     "name": "stdout",
     "output_type": "stream",
     "text": [
      "AR = 10.006993006993007; MAC = 1.0615488993978146 m; MGC = 1.0592592592592593 m; SMC = 1.0592592592592593 m; Sref = 11.228148148148149 m²; Swet = 23.100176263394903 m²\n"
     ]
    }
   ],
   "source": [
    "attributes = [\"AR\", \"MAC\", \"MGC\", \"SMC\", \"Sref\", \"Swet\"]\n",
    "print(\"; \".join([f\"{x} = {getattr(conceptwing, x)}\" for x in attributes]))"
   ]
  },
  {
   "cell_type": "markdown",
   "id": "bed60b7f",
   "metadata": {},
   "source": [
    "***\n",
    "## 3) `WingSolution` objects"
   ]
  },
  {
   "cell_type": "markdown",
   "id": "f550b5f1",
   "metadata": {},
   "source": [
    "It is possible to carry out a rudimentary analysis of wing performance in CARPy, returing `WingSolution` objects.\n",
    "These can be obtained through:"
   ]
  },
  {
   "cell_type": "code",
   "execution_count": 15,
   "id": "fecc2110",
   "metadata": {},
   "outputs": [],
   "source": [
    "from carpy.aerodynamics.wing import PrandtlLLT  # Prandtl's lifting line theory for unswept wings\n",
    "from carpy.aerodynamics.wing import HorseshoeVortex  # Span-wise horseshoe vortex method\n",
    "from carpy.aerodynamics.wing import MixedBLDrag  # Mixed boundary layer method for skin friction drag"
   ]
  },
  {
   "cell_type": "markdown",
   "id": "b2e9a64e",
   "metadata": {},
   "source": [
    "All derivative methods of `WingSolution` have similar instantiation structures."
   ]
  },
  {
   "cell_type": "markdown",
   "id": "f369f608",
   "metadata": {},
   "source": [
    "#### `PrandtlLLT`"
   ]
  },
  {
   "cell_type": "markdown",
   "id": "9a859e8b",
   "metadata": {},
   "source": [
    "PrandtlLLT is limited in analysis to unswept wings, full details in the docstring."
   ]
  },
  {
   "cell_type": "code",
   "execution_count": 16,
   "id": "879dff26",
   "metadata": {},
   "outputs": [
    {
     "name": "stdout",
     "output_type": "stream",
     "text": [
      "public_attributes=['CD', 'CD0', 'CDi', 'CL', 'CY', 'Cl', 'Cm', 'Cn', 'Cni', 'TAS', 'alpha', 'altitude', 'atmosphere', 'beta', 'geometric', 'wingsections', 'x_cp']\n",
      "\n",
      "<carpy WingSections at 0x1e754d25630> performance:\n",
      "---------------------------------------------------\n",
      "| CD =     NAN  | CY  = 0.000000  | CL  = 0.950263 |\n",
      "|           `-->  CD0 =     NAN   + CDi = 0.029174 |\n",
      "| Cl =     NAN  | Cm  =     NAN   | Cn  =     NAN  |\n",
      "|                                   Cni =     NAN  |\n"
     ]
    }
   ],
   "source": [
    "# Apply Horseshoe Vortex to the symmetrical wing\n",
    "flightconditions = {\"altitude\": 0, \"TAS\": 40, \"alpha\": np.radians(10)}\n",
    "soln0 = PrandtlLLT(wingsections=conceptwing, **flightconditions)\n",
    "\n",
    "public_attributes = [x for x in dir(soln0) if not x.startswith(\"_\")]\n",
    "print(f\"{public_attributes=}\\n\")\n",
    "\n",
    "print(soln0)"
   ]
  },
  {
   "cell_type": "markdown",
   "id": "0e67272e",
   "metadata": {},
   "source": [
    "#### `HorseshoeVortex`"
   ]
  },
  {
   "cell_type": "markdown",
   "id": "925e0440",
   "metadata": {},
   "source": [
    "Horseshoe Vortex methods applied to the same wing take longer, but permit the analysis of asymmetric wings, section-wise lift coefficients, and even centre of pressure."
   ]
  },
  {
   "cell_type": "markdown",
   "id": "b323a577",
   "metadata": {},
   "source": [
    "##### <span style=\"color:red\">IMPORTANT NOTE</span>:"
   ]
  },
  {
   "cell_type": "markdown",
   "id": "10eedcab",
   "metadata": {},
   "source": [
    "Users are asked to note that currently, this method assumes the centre of pressure for each vortex element sweeps by the same amount the leading edge does. This requires a fix in future, but for now, defining a leading edge sweep of 0 actually returns the performance of a wing where the section-wise centre of pressure has a sweep of 0 besides the dihedral direction (i.e. leading edge sweep varies unexpectedly)."
   ]
  },
  {
   "cell_type": "code",
   "execution_count": 17,
   "id": "fca1ef5a",
   "metadata": {
    "scrolled": true
   },
   "outputs": [
    {
     "name": "stdout",
     "output_type": "stream",
     "text": [
      "public_attributes=['CD', 'CD0', 'CDi', 'CL', 'CY', 'Cl', 'Cm', 'Cn', 'Cni', 'TAS', 'alpha', 'altitude', 'atmosphere', 'beta', 'geometric', 'wingsections', 'x_cp']\n",
      "\n",
      "<carpy WingSections at 0x1e754d25630> performance:\n",
      "---------------------------------------------------\n",
      "| CD =     NAN  | CY  =     NAN   | CL  = 0.845721 |\n",
      "|           `-->  CD0 =     NAN   + CDi = 0.025963 |\n",
      "| Cl =     NAN  | Cm  =     NAN   | Cn  =     NAN  |\n",
      "|                                   Cni =     NAN  |\n"
     ]
    }
   ],
   "source": [
    "# Apply Horseshoe Vortex to the symmetrical wing\n",
    "soln1 = HorseshoeVortex(wingsections=conceptwing, **flightconditions)\n",
    "\n",
    "public_attributes = [x for x in dir(soln1) if not x.startswith(\"_\")]\n",
    "print(f\"{public_attributes=}\\n\")\n",
    "\n",
    "print(soln1)"
   ]
  },
  {
   "cell_type": "markdown",
   "id": "333e7286",
   "metadata": {},
   "source": [
    "#### `MixedBLDrag`"
   ]
  },
  {
   "cell_type": "markdown",
   "id": "2ee8a026",
   "metadata": {},
   "source": [
    "CARPy provides means of estimating skin friction drag for a generic wing with surface quality specified by providing the `esg_roughness` (equivalent sand grain roughness).\n",
    "\n",
    "The component of drag due to skin friction can be estimated from definitions of geometry and the relevant flight conditions:"
   ]
  },
  {
   "cell_type": "code",
   "execution_count": 18,
   "id": "041d18d2",
   "metadata": {},
   "outputs": [
    {
     "name": "stdout",
     "output_type": "stream",
     "text": [
      "public_attributes=['CD', 'CD0', 'CDf', 'CDf_CD0', 'CDi', 'CL', 'CY', 'Cf', 'Cl', 'Cm', 'Cn', 'Cni', 'TAS', 'alpha', 'altitude', 'atmosphere', 'beta', 'geometric', 'wingsections', 'x_cp']\n",
      "\n",
      "<carpy WingSections at 0x1e754d25630> performance:\n",
      "---------------------------------------------------\n",
      "| CD =     NAN  | CY  =     NAN   | CL  =     NAN  |\n",
      "|           `-->  CD0 = 0.004864  + CDi =     NAN  |\n",
      "| Cl =     NAN  | Cm  =     NAN   | Cn  =     NAN  |\n",
      "|                                   Cni =     NAN  |\n"
     ]
    }
   ],
   "source": [
    "from carpy.utility import Quantity, constants as co\n",
    "\n",
    "# Make a drag prediction\n",
    "soln2 = MixedBLDrag(\n",
    "    wingsections=conceptwing,  # <-- Geometry\n",
    "    altitude=0, TAS=Quantity(185, \"kt\"),  # <-- Flight conditions\n",
    "    Ks=float(co.MATERIAL.roughness_Ks.paint_matte_smooth)\n",
    ")\n",
    "\n",
    "public_attributes = [x for x in dir(soln2) if not x.startswith(\"_\")]\n",
    "print(f\"{public_attributes=}\\n\")\n",
    "\n",
    "print(soln2)"
   ]
  },
  {
   "cell_type": "markdown",
   "id": "c2a5b0ac",
   "metadata": {},
   "source": [
    "Note that the above solution contains some extra terms the others don't - this is because they are useful parameters to visualise/interact with, and are specific to this solution.\n",
    "In general, for compatibility reasons, it is recommended that users don't write code that depends on these non-standard attributes of `WingSolution` objects."
   ]
  },
  {
   "cell_type": "markdown",
   "id": "27037617",
   "metadata": {},
   "source": [
    "#### Combining Performance Estimates"
   ]
  },
  {
   "cell_type": "markdown",
   "id": "e0a04671",
   "metadata": {},
   "source": [
    "Models that compute the lift-induced drag $C_{D_{i}}$ but not the profile drag $C_{D_{0}}$ (and vice versa) are ultimately not helpful if we can't easily combine the results that we obtain.\n",
    "Fortunately, it is easy to combine models using the _set union_ pipe `|` operator (on most computers, this is found by pressing `SHIFT`+`\\`):"
   ]
  },
  {
   "cell_type": "code",
   "execution_count": 19,
   "id": "a6dfea78",
   "metadata": {},
   "outputs": [
    {
     "name": "stdout",
     "output_type": "stream",
     "text": [
      "Horseshoe result\n",
      "<carpy WingSections at 0x1e754d25630> performance:\n",
      "---------------------------------------------------\n",
      "| CD =     NAN  | CY  =     NAN   | CL  = 0.845721 |\n",
      "|           `-->  CD0 =     NAN   + CDi = 0.025963 |\n",
      "| Cl =     NAN  | Cm  =     NAN   | Cn  =     NAN  |\n",
      "|                                   Cni =     NAN  |\n",
      "\n",
      "MixedBL result\n",
      "<carpy WingSections at 0x1e754d25630> performance:\n",
      "---------------------------------------------------\n",
      "| CD =     NAN  | CY  =     NAN   | CL  =     NAN  |\n",
      "|           `-->  CD0 = 0.004864  + CDi =     NAN  |\n",
      "| Cl =     NAN  | Cm  =     NAN   | Cn  =     NAN  |\n",
      "|                                   Cni =     NAN  |\n",
      "\n",
      "Combined result\n",
      "<carpy WingSections at 0x1e754d25630> performance:\n",
      "---------------------------------------------------\n",
      "| CD = 0.030827 | CY  = 0.000000  | CL  = 0.845721 |\n",
      "|           `-->  CD0 = 0.004864  + CDi = 0.025963 |\n",
      "| Cl =     NAN  | Cm  =     NAN   | Cn  =     NAN  |\n",
      "|                                   Cni =     NAN  |\n"
     ]
    }
   ],
   "source": [
    "print(f\"Horseshoe result\\n{soln1}\\n\")\n",
    "print(f\"MixedBL result\\n{soln2}\\n\")\n",
    "\n",
    "# If soln1 and soln2 disagree on performance parameter, prefer soln1 (left most soln)\n",
    "combined_result = soln1 | soln2\n",
    "\n",
    "print(f\"Combined result\\n{combined_result}\")"
   ]
  },
  {
   "cell_type": "markdown",
   "id": "898b3878",
   "metadata": {},
   "source": [
    "Combinations are legal so long as the performance methods operate on the same `WingSections` object, and there are no conflicts in the designed flight conditions (the solutions are considered compatible)."
   ]
  },
  {
   "cell_type": "markdown",
   "id": "e4074939",
   "metadata": {},
   "source": [
    "***\n",
    "## *Future* objects"
   ]
  },
  {
   "cell_type": "markdown",
   "id": "592a14c4",
   "metadata": {},
   "source": [
    "The plan is to eventually supercede `WingSolution` (valid for a very particular set of flight conditions) with an object that will conveniently interpolate lift, drag, centre of pressure, and other metrics of wing performance as a function of the wing's angle of attack.\n",
    "\n",
    "For now, the burden is upon CARPy's users (sorry!)."
   ]
  },
  {
   "cell_type": "code",
   "execution_count": null,
   "id": "d94b70d4",
   "metadata": {},
   "outputs": [],
   "source": []
  }
 ],
 "metadata": {
  "kernelspec": {
   "display_name": "Python 3 (ipykernel)",
   "language": "python",
   "name": "python3"
  },
  "language_info": {
   "codemirror_mode": {
    "name": "ipython",
    "version": 3
   },
   "file_extension": ".py",
   "mimetype": "text/x-python",
   "name": "python",
   "nbconvert_exporter": "python",
   "pygments_lexer": "ipython3",
   "version": "3.9.5"
  }
 },
 "nbformat": 4,
 "nbformat_minor": 5
}
