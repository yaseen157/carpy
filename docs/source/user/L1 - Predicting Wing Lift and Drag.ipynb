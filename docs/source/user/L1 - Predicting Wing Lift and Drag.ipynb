{
 "cells": [
  {
   "cell_type": "markdown",
   "id": "6a6df029",
   "metadata": {},
   "source": [
    "# Predicting Wing Lift and Drag"
   ]
  },
  {
   "cell_type": "code",
   "execution_count": 1,
   "id": "33b19aab",
   "metadata": {},
   "outputs": [],
   "source": [
    "# Add path to src/CARPy, in case notebook is running locally\n",
    "import os, sys, warnings\n",
    "sys.path.append(os.path.abspath(os.path.join(os.getcwd(), \"..\\\\..\\\\..\\\\src\")))\n",
    "warnings.simplefilter(\"ignore\")  # <-- Suppress warnings"
   ]
  },
  {
   "cell_type": "markdown",
   "id": "d0e89434",
   "metadata": {},
   "source": [
    "***\n",
    "## Introduction"
   ]
  },
  {
   "cell_type": "markdown",
   "id": "c3d89448",
   "metadata": {},
   "source": [
    "*As a pre-requisite to this notebook, it is recommended readers first familiarise themselves with the available material on modelling aerofoils in CARPy.*\n",
    "\n",
    "With the selection of candidate aerofoils, the performance of a 3D lifting geometry can now be estimated with CARPy.\n",
    "This mapping of 2D aerofoil sections to 3D wing geometry requires:\n",
    "\n",
    "1. WingSection, an object that dimensionalises the chord length and thickness of non-dimensional aerofoil geometries.\n",
    "2. WingSections, a dictionary-like object that permits the definition of wing dihedral, sweep, and twist.\n",
    "\n",
    "Much like the aerofoil performance prediction methods, wing performance is captured through a variety of methods in:\n",
    "\n",
    "3. WingSolution, an object capturing basic performance coefficients of the wing.\n",
    "\n",
    "Inverse design methods are not supported at this time."
   ]
  },
  {
   "cell_type": "markdown",
   "id": "560fb070",
   "metadata": {},
   "source": [
    "***\n",
    "## 1) `WingSection` objects"
   ]
  },
  {
   "cell_type": "markdown",
   "id": "96a18d1c",
   "metadata": {},
   "source": [
    "Start with relevant imports"
   ]
  },
  {
   "cell_type": "code",
   "execution_count": 2,
   "id": "8b9e6e2b",
   "metadata": {},
   "outputs": [],
   "source": [
    "from carpy.aerodynamics.aerofoil import NewAerofoil\n",
    "from carpy.aerodynamics.wing import WingSection"
   ]
  },
  {
   "cell_type": "markdown",
   "id": "bc8b009f",
   "metadata": {},
   "source": [
    "There are several angles or reference planes along which a wing can be sliced to produce sections or aerofoils.\n",
    "CARPy wing sections are currently defined in a vertical plane parallel to the aircraft's buttock line:"
   ]
  },
  {
   "cell_type": "code",
   "execution_count": 3,
   "id": "71ae8b9f",
   "metadata": {},
   "outputs": [],
   "source": [
    "# Instantiate geometry that will define the wing shape\n",
    "naca0012 = NewAerofoil.from_method.NACA(\"0012\")\n",
    "naca2412 = NewAerofoil.from_method.NACA(\"2412\")\n",
    "naca2418 = NewAerofoil.from_method.NACA(\"2418\")\n",
    "\n",
    "# Defining the starboard wing section geometries\n",
    "wbl_0012 = WingSection(naca0012)\n",
    "wbl_2412 = WingSection(naca2412)\n",
    "wbl_2418 = WingSection(naca2418)"
   ]
  },
  {
   "cell_type": "markdown",
   "id": "26f1f1f4",
   "metadata": {},
   "source": [
    "WingSection objects are not designed for users to be able to interact with the attributes of directly, and therefore attributes should be treated as read-only.\n",
    "The original aerofoil section can be recovered:"
   ]
  },
  {
   "cell_type": "code",
   "execution_count": 4,
   "id": "50e18131",
   "metadata": {},
   "outputs": [],
   "source": [
    "wbl_0012.aerofoil.show()"
   ]
  },
  {
   "cell_type": "markdown",
   "id": "0de6a9fd",
   "metadata": {},
   "source": [
    "But it is recommended that properties of a `WingSection` are set via the `WingSections` dictionary-like object."
   ]
  },
  {
   "cell_type": "markdown",
   "id": "2087d6e8",
   "metadata": {},
   "source": [
    "***\n",
    "## 2) `WingSections` objects"
   ]
  },
  {
   "cell_type": "markdown",
   "id": "18c067a1",
   "metadata": {},
   "source": [
    "`WingSections` objects can be thought of as a dictionary of aerofoils, created by the user, that define the 3D geometry of the wing.\n",
    "Users familiar with dictionaries should be comfortable with the concept that a dictionary can have a key-value pair designated with the following syntax:\n",
    "    \n",
    "    >>> my_dictionary[some_key] = some_value\n",
    "    \n",
    "    >>> print(my_dictionary)\n",
    "    {some_key: some_value}\n",
    "\n",
    "The difference in implementation between a regular dictionary is three-fold:\n",
    "\n",
    "1. Only integers and floats are valid keys, such that all keys lie on a one-dimensional line of real numbers.\n",
    "2. The hypothetical value for a key \"C\" that lies between two other keys \"A\" and \"B\" is obtained by linearly interpolating between keys \"A\" and \"B\".\n",
    "3. The hypothetical value for a key \"D\" must be extrapolated from a single neighbour \"B\", which actually just makes the value of \"D\" identical to the value at \"B\".\n",
    "\n",
    "We'll demonstrate this more concretely with an example. Begin with the relevant import:"
   ]
  },
  {
   "cell_type": "code",
   "execution_count": 5,
   "id": "ae95e7c2",
   "metadata": {},
   "outputs": [],
   "source": [
    "from carpy.aerodynamics.wing import WingSections\n",
    "\n",
    "# Define the wing geometry at arbitrary buttock-line stations 0 and 10\n",
    "conceptwing = WingSections(b=12)  # Assign a span, b = 12 metres\n",
    "conceptwing[0] = wbl_2418\n",
    "conceptwing[10] = wbl_2412"
   ]
  },
  {
   "cell_type": "markdown",
   "id": "064cd370",
   "metadata": {},
   "source": [
    "Notice that each wing section defining the 3D geometry is identifiable through its location in memory (beginning with `0x`):"
   ]
  },
  {
   "cell_type": "code",
   "execution_count": 6,
   "id": "1492042b",
   "metadata": {},
   "outputs": [],
   "source": [
    "print(f\"The defined wing sections are:\\n{conceptwing=}\")"
   ]
  },
  {
   "cell_type": "markdown",
   "id": "c1bc1c0f",
   "metadata": {},
   "source": [
    "##### A quick detour:\n",
    "\n",
    "To prove points 2 and 3, we'll show that users can access aerofoil geometry between two defined aerofoils (aerofoil C), and an aerofoil extrapolated from a single bounding aerofoil (aerofoil D is identical to aerofoil B):"
   ]
  },
  {
   "cell_type": "code",
   "execution_count": 7,
   "id": "befad1e9",
   "metadata": {},
   "outputs": [],
   "source": [
    "# To align with the explanation above, use the following keys\n",
    "section_dict = {\"A\":0, \"C\":5, \"B\":10, \"D\":14}\n",
    "\n",
    "print(\"* Here's the memory locations of each wing section object successfully evaluated:\\n\")\n",
    "for (key, value) in section_dict.items():\n",
    "    print(f\"{key}:{value} aerofoil --> {conceptwing[value]}\")\n",
    "else:\n",
    "    print(\"\")\n",
    "\n",
    "print(\"* Here's proof that the average of two adjacent sections [0] and [10] is the same as just taking [5]:\")\n",
    "aerofoil_interp_manual = (0.5 * conceptwing[0].aerofoil + 0.5 * conceptwing[10].aerofoil)  # averaging geometry\n",
    "aerofoil_interp_auto = conceptwing[5].aerofoil  # interpolating geometry automatically behind the scenes\n",
    "\n",
    "aerofoil_interp_manual.show()\n",
    "aerofoil_interp_auto.show()\n",
    "print(\"\")\n",
    "\n",
    "print(\"* Here's proof that section[B] and section[D] are the same section (same memory location):\\n\")\n",
    "print(f\"-->\\t{(conceptwing[section_dict['B']] is conceptwing[section_dict['D']])=}\")"
   ]
  },
  {
   "cell_type": "markdown",
   "id": "7a8a947b",
   "metadata": {},
   "source": [
    "##### End of detour, back to the notebook lesson at hand\n",
    "\n",
    "it is necessary to specify angles of dihedral, twist, and sweep for 3D wing geometries.\n",
    "Wing taper can also be optionally adjusted."
   ]
  },
  {
   "cell_type": "code",
   "execution_count": 8,
   "id": "0be97c2d",
   "metadata": {},
   "outputs": [],
   "source": [
    "import numpy as np\n",
    "\n",
    "# Define another section of the wing at another arbitrary station (in proportion to the original station definitions)\n",
    "conceptwing[14] = wbl_0012\n",
    "\n",
    "# Adjust the SI chord lengths of the wing (changing taper ratio, optional)\n",
    "conceptwing[:].chord = 2.0  # Use [:] slicing to define the chord length at all stations currently defined\n",
    "conceptwing[14].chord = 0.8  # The station defined at position [14] should have a custom chord length\n",
    "\n",
    "# The dihedral angle, leading edge sweep angle, and geometric station twist angles are now specified\n",
    "conceptwing[:].dihedral = np.radians(2)  # Upward dihedral on the whole wing for roll stability\n",
    "conceptwing[:].sweep = np.radians(0)  # Define leading edge sweep everywhere\n",
    "conceptwing[10:].sweep = np.radians(2)  # Update leading edge sweep for any stations starting at and including 10\n",
    "conceptwing[14].twist = np.radians(1)  # Increased wing tip incidence, a.k.a wash-in"
   ]
  },
  {
   "cell_type": "markdown",
   "id": "0874d3b2",
   "metadata": {},
   "source": [
    "It doesn't look like much right now, but that's it!\n",
    "You've defined a wing of arbitrary span, but definite chord length, twist, sweep, dihedral, and profile."
   ]
  },
  {
   "cell_type": "markdown",
   "id": "116cb6cc",
   "metadata": {},
   "source": [
    "##### <span style=\"color:red\">IMPORTANT NOTE</span>:"
   ]
  },
  {
   "cell_type": "markdown",
   "id": "f8ae8d9b",
   "metadata": {},
   "source": [
    "At this point, a wing's 3D geometry is fully defined. We can access parameters such as the standard mean chord, or aspect ratio of the wing:"
   ]
  },
  {
   "cell_type": "code",
   "execution_count": 9,
   "id": "ce416418",
   "metadata": {},
   "outputs": [],
   "source": [
    "# This can take a few seconds to run!\n",
    "attributes = [\"AR\", \"MAC\", \"MGC\"]\n",
    "print(\"; \".join([f\"{x} = {getattr(conceptwing, x)}\" for x in attributes]))"
   ]
  },
  {
   "cell_type": "markdown",
   "id": "3ba8491a",
   "metadata": {},
   "source": [
    "The above calculations are slow to carry out because many sample points are taken along the span of the wing.\n",
    "In anticipation of frequent re-access to these attributes, the properties are _cached_, meaning subsequent calls to these attributes use the result computed at an earlier date:"
   ]
  },
  {
   "cell_type": "code",
   "execution_count": 10,
   "id": "4ebb16d7",
   "metadata": {},
   "outputs": [],
   "source": [
    "# This doesn't take as long to run\n",
    "print(\"; \".join([f\"{x} = {getattr(conceptwing, x)}\" for x in attributes]))"
   ]
  },
  {
   "cell_type": "markdown",
   "id": "4ae9df7d",
   "metadata": {},
   "source": [
    "That's because the results of the first computation are stored in a private dictionary of the class:"
   ]
  },
  {
   "cell_type": "code",
   "execution_count": 11,
   "id": "24b340c3",
   "metadata": {},
   "outputs": [],
   "source": [
    "print(conceptwing.__dict__)"
   ]
  },
  {
   "cell_type": "markdown",
   "id": "382f3235",
   "metadata": {},
   "source": [
    "CARPy does not expect users to modify a wing object during an analysis.\n",
    "It is expected that users create a new wing for each wing to be analysed.\n",
    "Failure to create a new wing will likely result in the use of incorrect use of cached attributes that no longer reflect properties of the current wing."
   ]
  },
  {
   "cell_type": "markdown",
   "id": "6bfa56e8",
   "metadata": {},
   "source": [
    "If one really must use the same wing object, please make use of the `.cache_clear()` method. The library author hopes this can one day be removed:"
   ]
  },
  {
   "cell_type": "code",
   "execution_count": 12,
   "id": "b5433935",
   "metadata": {},
   "outputs": [],
   "source": [
    "# You can trust the results of a modified wing after calling this, but again its use is discouraged.\n",
    "conceptwing.cache_clear()\n",
    "\n",
    "print(conceptwing.__dict__)"
   ]
  },
  {
   "cell_type": "markdown",
   "id": "bed60b7f",
   "metadata": {},
   "source": [
    "***\n",
    "## 3) `WingSolution` objects"
   ]
  },
  {
   "cell_type": "markdown",
   "id": "f550b5f1",
   "metadata": {},
   "source": [
    "It is possible to carry out a rudimentary analysis of aerofoil performance in CARPy, returing `AerofoilSolution` objects.\n",
    "These can be obtained through:"
   ]
  },
  {
   "cell_type": "code",
   "execution_count": 13,
   "id": "fecc2110",
   "metadata": {},
   "outputs": [],
   "source": [
    "from carpy.aerodynamics.wing import PrandtlLLT  # Prandtl's lifting line theory for unswept wings\n",
    "from carpy.aerodynamics.wing import HorseshoeVortex  # Span-wise horseshoe vortex method"
   ]
  },
  {
   "cell_type": "markdown",
   "id": "b2e9a64e",
   "metadata": {},
   "source": [
    "All derivative methods of `WingSolution` have similar instantiation structures."
   ]
  },
  {
   "cell_type": "markdown",
   "id": "f369f608",
   "metadata": {},
   "source": [
    "#### `PrandtlLLT`"
   ]
  },
  {
   "cell_type": "markdown",
   "id": "9a859e8b",
   "metadata": {},
   "source": [
    "PrandtlLLT is limited in analysis to unswept wings, full details in the docstring."
   ]
  },
  {
   "cell_type": "code",
   "execution_count": 14,
   "id": "879dff26",
   "metadata": {},
   "outputs": [],
   "source": [
    "# Apply PLLT to a symmetrical wing of 12 metre span\n",
    "flightconditions = {\"altitude\": 0, \"TAS\": 40, \"alpha\": np.radians(10)}\n",
    "soln0 = PrandtlLLT(wingsections=conceptwing, **flightconditions)\n",
    "\n",
    "public_methods = [x for x in dir(soln0) if not x.startswith(\"_\")]\n",
    "print(f\"{public_methods=}\\n\")\n",
    "\n",
    "for method_name in public_methods:\n",
    "    print(f\"{method_name:>8} = {getattr(soln0, method_name)}\")"
   ]
  },
  {
   "cell_type": "markdown",
   "id": "0e67272e",
   "metadata": {},
   "source": [
    "#### `HorseshoeVortex`"
   ]
  },
  {
   "cell_type": "markdown",
   "id": "925e0440",
   "metadata": {},
   "source": [
    "Horseshoe Vortex methods applied to the same wing take longer, but permit the analysis of asymmetric wings, section-wise lift coefficients, and even centre of pressure."
   ]
  },
  {
   "cell_type": "markdown",
   "id": "b323a577",
   "metadata": {},
   "source": [
    "##### <span style=\"color:red\">IMPORTANT NOTE</span>:"
   ]
  },
  {
   "cell_type": "markdown",
   "id": "10eedcab",
   "metadata": {},
   "source": [
    "Users are asked to note that currently, this method assumes the centre of pressure for each vortex element sweeps by the same amount the leading edge does. This requires a fix in future, but for now, defining a leading edge sweep of 0 actually returns the performance of a wing where the section-wise centre of pressure has a sweep of 0 besides the dihedral direction (i.e. leading edge sweep varies unexpectedly)."
   ]
  },
  {
   "cell_type": "code",
   "execution_count": 15,
   "id": "fca1ef5a",
   "metadata": {
    "scrolled": true
   },
   "outputs": [],
   "source": [
    "# Apply Horseshoe Vortex to a symmetrical wing of 12 metre span\n",
    "soln1 = HorseshoeVortex(wingsections=conceptwing, **flightconditions)\n",
    "\n",
    "public_methods = [x for x in dir(soln1) if not x.startswith(\"_\")]\n",
    "print(f\"{public_methods=}\\n\")\n",
    "\n",
    "for method_name in public_methods:\n",
    "    print(f\"{method_name:>8} = {getattr(soln1, method_name)}\")"
   ]
  },
  {
   "cell_type": "markdown",
   "id": "333e7286",
   "metadata": {},
   "source": [
    "#### `MixedBLDrag`"
   ]
  },
  {
   "cell_type": "markdown",
   "id": "2ee8a026",
   "metadata": {},
   "source": [
    "CARPy provides means of estimating skin friction drag for a generic wing with surface quality specified by providing the `esg_roughness` (equivalent sand grain roughness).\n",
    "\n",
    "The component of drag due to skin friction can be estimated from definitions of geometry and the relevant flight conditions:"
   ]
  },
  {
   "cell_type": "code",
   "execution_count": 18,
   "id": "041d18d2",
   "metadata": {},
   "outputs": [],
   "source": [
    "from carpy.aerodynamics.wing import MixedBLDrag\n",
    "from carpy.utility import Quantity, constants as co\n",
    "\n",
    "# Make a drag prediction\n",
    "drag_prediction = MixedBLDrag(\n",
    "    wingsections=conceptwing,  # <-- Geometry\n",
    "    altitude=0, TAS=Quantity(185, \"kt\"),  # <-- Flight conditions\n",
    "    esg_roughness=float(co.MATERIAL.esg_roughness.mattepaint_careful)\n",
    ")"
   ]
  },
  {
   "cell_type": "code",
   "execution_count": 19,
   "id": "49b7dc3f",
   "metadata": {},
   "outputs": [],
   "source": [
    "print(f\"A CDf of {drag_prediction.CDf} is predicted for the concept wing.\")"
   ]
  },
  {
   "cell_type": "markdown",
   "id": "e4074939",
   "metadata": {},
   "source": [
    "***\n",
    "## `*future*` objects"
   ]
  },
  {
   "cell_type": "markdown",
   "id": "592a14c4",
   "metadata": {},
   "source": [
    "The plan is to eventually supercede `WingSolution` (valid for a very particular set of flight conditions) with an object that will conveniently interpolate lift, drag, centre of pressure, and other metrics of wing performance as a function of the wing's angle of attack.\n",
    "\n",
    "For now, the burden is upon CARPy's users (sorry!)."
   ]
  },
  {
   "cell_type": "code",
   "execution_count": null,
   "id": "7bf5b3b1",
   "metadata": {},
   "outputs": [],
   "source": []
  }
 ],
 "metadata": {
  "kernelspec": {
   "display_name": "Python 3 (ipykernel)",
   "language": "python",
   "name": "python3"
  },
  "language_info": {
   "codemirror_mode": {
    "name": "ipython",
    "version": 3
   },
   "file_extension": ".py",
   "mimetype": "text/x-python",
   "name": "python",
   "nbconvert_exporter": "python",
   "pygments_lexer": "ipython3",
   "version": "3.9.5"
  }
 },
 "nbformat": 4,
 "nbformat_minor": 5
}
