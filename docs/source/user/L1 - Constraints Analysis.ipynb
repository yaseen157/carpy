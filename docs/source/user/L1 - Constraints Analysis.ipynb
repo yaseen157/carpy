{
 "cells": [
  {
   "cell_type": "markdown",
   "id": "6a6df029",
   "metadata": {},
   "source": [
    "# Constraints Analysis"
   ]
  },
  {
   "cell_type": "code",
   "execution_count": 1,
   "id": "33b19aab",
   "metadata": {},
   "outputs": [],
   "source": [
    "# Add path to src/CARPy, in case notebook is running locally\n",
    "import os, sys, warnings\n",
    "sys.path.append(os.path.abspath(os.path.join(os.getcwd(), \"..\\\\..\\\\..\\\\src\")))\n",
    "warnings.simplefilter(\"ignore\")  # <-- Suppress warnings"
   ]
  },
  {
   "cell_type": "markdown",
   "id": "d0e89434",
   "metadata": {},
   "source": [
    "***\n",
    "## Introduction"
   ]
  },
  {
   "cell_type": "markdown",
   "id": "f760d91c",
   "metadata": {},
   "source": [
    "CARPy provides users with the ability to constrain designs, using a flavour of Energy-manoeuvrability theory.\n",
    "To make the best use of this concept, the following objects are introduced:\n",
    "\n",
    "1. `EnergyConstraint`: A type of design constraint, based on Energy-manoeuvrability theory.\n",
    "2. `Constraints`: A means of considering multiple constraints together and operating on them.\n",
    "3. `Constraint`: The base constraint class that provides constraint analysis methods.\n",
    "\n",
    "These objects are laid out in this way to facilitate future expansion of the constraint concept."
   ]
  },
  {
   "cell_type": "markdown",
   "id": "560fb070",
   "metadata": {},
   "source": [
    "***\n",
    "## 1) `EnergyConstraint` objects"
   ]
  },
  {
   "cell_type": "markdown",
   "id": "4deccd40",
   "metadata": {},
   "source": [
    "The concept of an energy constraint is based on a model of aircraft performance based on Energy-manoeuvrability theory.\n",
    "In short, the equations of motion are considered for a vehicle, and can then be resolved for any design variable.\n",
    "CARPy's implementation makes the thrust-to-weight ratio, $\\text{T/W}$, the objective.\n",
    "For a detailed derivation, please see the [theory docs](https://github.com/yaseen157/carpy/tree/main/docs/source/theory)."
   ]
  },
  {
   "cell_type": "markdown",
   "id": "96a18d1c",
   "metadata": {},
   "source": [
    "Start with relevant imports"
   ]
  },
  {
   "cell_type": "code",
   "execution_count": 2,
   "id": "5517710d",
   "metadata": {},
   "outputs": [],
   "source": [
    "from carpy.conceptualdesign import EnergyConstraint\n",
    "from carpy.environment import ISA1975\n",
    "\n",
    "# Prescribe flight conditions at the design point\n",
    "M = 0.5  # Mach number\n",
    "z = 8e3  # 8,000 m altitude\n",
    "\n",
    "# Create an atmosphere object, and use it to compute relevant parameters\n",
    "myatmosphere = ISA1975()\n",
    "speed = myatmosphere.c_sound(z, geometric=True) * M\n",
    "dynamic_pressure = myatmosphere.rho(z, geometric=True) * speed ** 2\n",
    "\n",
    "# Apply the computed dynamic pressure to our energy constraint\n",
    "mymission = EnergyConstraint(q=dynamic_pressure)"
   ]
  },
  {
   "cell_type": "markdown",
   "id": "5871ee0a",
   "metadata": {},
   "source": [
    "The object instantiated from the `EnergyConstraint` class is actually an instance of `Constraints`, which allows us to consider multiple `EnergyConstraint` objects simultaneously."
   ]
  },
  {
   "cell_type": "markdown",
   "id": "9795d51d",
   "metadata": {},
   "source": [
    "***\n",
    "## 2) `Constraints` objects"
   ]
  },
  {
   "cell_type": "markdown",
   "id": "68abaa82",
   "metadata": {},
   "source": [
    "We can see that the resulting instance contains one `EnergyConstraint` object."
   ]
  },
  {
   "cell_type": "code",
   "execution_count": 3,
   "id": "e3b03830",
   "metadata": {},
   "outputs": [
    {
     "data": {
      "text/plain": [
       "(<carpy.conceptualdesign._constraints.EnergyConstraint at 0x2100b7c0a00>,)"
      ]
     },
     "execution_count": 3,
     "metadata": {},
     "output_type": "execute_result"
    }
   ],
   "source": [
    "mymission.constraints"
   ]
  },
  {
   "cell_type": "markdown",
   "id": "6163cebe",
   "metadata": {},
   "source": [
    "Each constraint contained with a `Constraints` object represents a single design point or goal.\n",
    "But just as easily, we can revisit the design with a sequence of constraints - the design conditions are broadcasted as required."
   ]
  },
  {
   "cell_type": "code",
   "execution_count": 4,
   "id": "bfc2a559",
   "metadata": {},
   "outputs": [
    {
     "name": "stdout",
     "output_type": "stream",
     "text": [
      "(<carpy.conceptualdesign._constraints.EnergyConstraint object at 0x000002107854BE20>, <carpy.conceptualdesign._constraints.EnergyConstraint object at 0x000002100D6279A0>)\n"
     ]
    }
   ],
   "source": [
    "M = [0.5, 0.55]  # <-- Multiple Mach numbers\n",
    "z = 8e3  # <-- Single altitude is broadcasted\n",
    "zdot = [1.2, 0]  # <-- Multiple climb rates\n",
    "\n",
    "speed = myatmosphere.c_sound(z, geometric=True) * M\n",
    "dynamic_pressure = myatmosphere.rho(z, geometric=True) * speed ** 2\n",
    "\n",
    "# Apply the computed dynamic pressures to our energy constraint\n",
    "mymission = EnergyConstraint(q=dynamic_pressure, zdot=zdot)\n",
    "\n",
    "print(mymission.constraints)"
   ]
  },
  {
   "cell_type": "code",
   "execution_count": 5,
   "id": "51b046b4",
   "metadata": {},
   "outputs": [],
   "source": [
    "# Multiple, individual constraints!\n",
    "constraint1, constraint2 = mymission.constraints"
   ]
  },
  {
   "cell_type": "markdown",
   "id": "0f65725e",
   "metadata": {},
   "source": [
    "***\n",
    "## 3) `Constraint` objects"
   ]
  },
  {
   "cell_type": "markdown",
   "id": "e89cfcfd",
   "metadata": {},
   "source": [
    "#### Governing Equation"
   ]
  },
  {
   "cell_type": "markdown",
   "id": "fb228d3b",
   "metadata": {},
   "source": [
    "The governing equation for a constraint is hidden in private variable. "
   ]
  },
  {
   "cell_type": "code",
   "execution_count": 6,
   "id": "7b4a6d31",
   "metadata": {},
   "outputs": [
    {
     "name": "stdout",
     "output_type": "stream",
     "text": [
      "Eq(T/W, (-C_D*S*q*(mu*sin(2*alpha)/2 - 1)/W - C_L*S*mu*q*cos(alpha)**2/W + Vdot/g + mu*cos(alpha)*cos(theta) + zdot/V)/((mu*cos(alpha)*tan(alpha + epsilon) + 1)*cos(alpha + epsilon)) + (-C_D*S*mu*q*sin(alpha)**2/W - C_L*S*q*(mu*sin(2*alpha)/2 + 1)/W + Vdot_n/g + mu*cos(alpha)*cos(theta) + (1 - zdot**2/V**2)**0.5)/((mu*sin(alpha) + 1)*sin(alpha + epsilon)))\n"
     ]
    }
   ],
   "source": [
    "# The governing equation of a constraint (not designed for users to interface with)\n",
    "print(constraint1._eqn)"
   ]
  },
  {
   "cell_type": "markdown",
   "id": "a8a42e6b",
   "metadata": {},
   "source": [
    "Obviously, it's not for novice users to mess with.\n",
    "A slightly prettier form can be found in the base class of a constraint"
   ]
  },
  {
   "cell_type": "code",
   "execution_count": 7,
   "id": "b7635160",
   "metadata": {},
   "outputs": [
    {
     "data": {
      "text/latex": [
       "$\\displaystyle \\frac{T}{W} = \\frac{- \\frac{C_{D} S q \\left(\\frac{\\mu \\sin{\\left(2 \\alpha \\right)}}{2} - 1\\right)}{W} - \\frac{C_{L} S \\mu q \\cos^{2}{\\left(\\alpha \\right)}}{W} + \\frac{\\dot{V}}{g} + \\mu \\cos{\\left(\\alpha \\right)} \\cos{\\left(\\theta \\right)} + \\frac{\\dot{z}}{V}}{\\left(\\mu \\cos{\\left(\\alpha \\right)} \\tan{\\left(\\alpha + \\epsilon \\right)} + 1\\right) \\cos{\\left(\\alpha + \\epsilon \\right)}} + \\frac{- \\frac{C_{D} S \\mu q \\sin^{2}{\\left(\\alpha \\right)}}{W} - \\frac{C_{L} S q \\left(\\frac{\\mu \\sin{\\left(2 \\alpha \\right)}}{2} + 1\\right)}{W} + \\frac{\\dot{V}_{n}}{g} + \\mu \\cos{\\left(\\alpha \\right)} \\cos{\\left(\\theta \\right)} + \\left(1 - \\frac{\\dot{z}^{2}}{V^{2}}\\right)^{0.5}}{\\left(\\mu \\sin{\\left(\\alpha \\right)} + 1\\right) \\sin{\\left(\\alpha + \\epsilon \\right)}}$"
      ],
      "text/plain": [
       "Eq(T/W, (-C_D*S*q*(mu*sin(2*alpha)/2 - 1)/W - C_L*S*mu*q*cos(alpha)**2/W + Vdot/g + mu*cos(alpha)*cos(theta) + zdot/V)/((mu*cos(alpha)*tan(alpha + epsilon) + 1)*cos(alpha + epsilon)) + (-C_D*S*mu*q*sin(alpha)**2/W - C_L*S*q*(mu*sin(2*alpha)/2 + 1)/W + Vdot_n/g + mu*cos(alpha)*cos(theta) + (1 - zdot**2/V**2)**0.5)/((mu*sin(alpha) + 1)*sin(alpha + epsilon)))"
      ]
     },
     "execution_count": 7,
     "metadata": {},
     "output_type": "execute_result"
    }
   ],
   "source": [
    "# The governing equation for an empty energy constraint\n",
    "EnergyConstraint._eqn"
   ]
  },
  {
   "cell_type": "markdown",
   "id": "45d2922e",
   "metadata": {},
   "source": [
    "Or in a slightly more familiar form for cruising flight (after some substitutions):"
   ]
  },
  {
   "cell_type": "code",
   "execution_count": 8,
   "id": "b9816d5d",
   "metadata": {},
   "outputs": [
    {
     "data": {
      "text/latex": [
       "$\\displaystyle \\frac{T}{W} = \\frac{C_{D} S q}{W \\cos{\\left(\\alpha \\right)}}$"
      ],
      "text/plain": [
       "Eq(T/W, C_D*S*q/(W*cos(alpha)))"
      ]
     },
     "execution_count": 8,
     "metadata": {},
     "output_type": "execute_result"
    }
   ],
   "source": [
    "import sympy as sp\n",
    "\n",
    "# Define some symbols so we can tell the solver W = L = q * S * C_L\n",
    "W, S, q, C_L = sp.symbols(\"W,S,q,C_L\")\n",
    "\n",
    "# The governing equation for an energy constraint\n",
    "EnergyConstraint._eqn.subs({\n",
    "    \"epsilon\":0, \"mu\":0, \"Vdot\":0, \"Vdot_n\":0, \"zdot\":0, (q * S * C_L) : W})"
   ]
  },
  {
   "cell_type": "markdown",
   "id": "4e250e2b",
   "metadata": {},
   "source": [
    "#### In practice"
   ]
  },
  {
   "cell_type": "markdown",
   "id": "87959760",
   "metadata": {},
   "source": [
    "All constraint objects implement the `__call__` method.\n",
    "Users can call a constraint instance, and known values are automatically substituted."
   ]
  },
  {
   "cell_type": "code",
   "execution_count": 9,
   "id": "02914597",
   "metadata": {},
   "outputs": [
    {
     "data": {
      "text/latex": [
       "$\\displaystyle \\frac{T}{W} = \\frac{- \\frac{12477.8465402665 C_{D} S \\left(\\frac{\\mu \\sin{\\left(2 \\alpha \\right)}}{2} - 1\\right)}{W} - \\frac{12477.8465402665 C_{L} S \\mu \\cos^{2}{\\left(\\alpha \\right)}}{W} + \\frac{\\dot{V}}{g} + \\mu \\cos{\\left(\\alpha \\right)} \\cos{\\left(\\theta \\right)} + \\frac{1.2}{V}}{\\left(\\mu \\cos{\\left(\\alpha \\right)} \\tan{\\left(\\alpha + \\epsilon \\right)} + 1\\right) \\cos{\\left(\\alpha + \\epsilon \\right)}} + \\frac{- \\frac{12477.8465402665 C_{D} S \\mu \\sin^{2}{\\left(\\alpha \\right)}}{W} - \\frac{12477.8465402665 C_{L} S \\left(\\frac{\\mu \\sin{\\left(2 \\alpha \\right)}}{2} + 1\\right)}{W} + \\frac{\\dot{V}_{n}}{g} + \\mu \\cos{\\left(\\alpha \\right)} \\cos{\\left(\\theta \\right)} + 1.2 \\left(0.694444444444444 - \\frac{1}{V^{2}}\\right)^{0.5}}{\\left(\\mu \\sin{\\left(\\alpha \\right)} + 1\\right) \\sin{\\left(\\alpha + \\epsilon \\right)}}$"
      ],
      "text/plain": [
       "Eq(T/W, (-12477.8465402665*C_D*S*(mu*sin(2*alpha)/2 - 1)/W - 12477.8465402665*C_L*S*mu*cos(alpha)**2/W + Vdot/g + mu*cos(alpha)*cos(theta) + 1.2/V)/((mu*cos(alpha)*tan(alpha + epsilon) + 1)*cos(alpha + epsilon)) + (-12477.8465402665*C_D*S*mu*sin(alpha)**2/W - 12477.8465402665*C_L*S*(mu*sin(2*alpha)/2 + 1)/W + Vdot_n/g + mu*cos(alpha)*cos(theta) + 1.2*(0.694444444444444 - 1/V**2)**0.5)/((mu*sin(alpha) + 1)*sin(alpha + epsilon)))"
      ]
     },
     "execution_count": 9,
     "metadata": {},
     "output_type": "execute_result"
    }
   ],
   "source": [
    "constraint1()"
   ]
  },
  {
   "cell_type": "markdown",
   "id": "c6b694b0",
   "metadata": {},
   "source": [
    "Looks pretty nasty!\n",
    "We can drastically simplify the expression with more substitutions"
   ]
  },
  {
   "cell_type": "code",
   "execution_count": 10,
   "id": "c94a115a",
   "metadata": {},
   "outputs": [
    {
     "data": {
      "text/latex": [
       "$\\displaystyle \\frac{T}{W} = \\frac{12477.8465402665 C_{D} S}{W \\cos{\\left(\\alpha \\right)}} + \\frac{- \\frac{12477.8465402665 C_{L} S}{W} + 1}{\\sin{\\left(\\alpha \\right)}}$"
      ],
      "text/plain": [
       "Eq(T/W, 12477.8465402665*C_D*S/(W*cos(alpha)) + (-12477.8465402665*C_L*S/W + 1)/sin(alpha))"
      ]
     },
     "execution_count": 10,
     "metadata": {},
     "output_type": "execute_result"
    }
   ],
   "source": [
    "constraint1(\n",
    "    mu=0,  # Rolling resistance of zero, for a flying vehicle\n",
    "    epsilon=0,  # Thrust setting angle of zero, thrust axis aligns with the vehicle longitudinal axis\n",
    "    zdot=0,  # Rate of climb zero, steady altitude (overriding our defined climb rate)\n",
    "    Vdot=0,  # Acceleration along flight path is zero (no linear acceleration)\n",
    "    Vdot_n=0  # Acceleration normal to flight path is zero (no circular motion)\n",
    ")"
   ]
  },
  {
   "cell_type": "markdown",
   "id": "365fb10d",
   "metadata": {},
   "source": [
    "That's better.\n",
    "In this case the angle of attack $\\alpha$, coefficients of lift $C_L$ and drag $C_D$, and wing-loading are all closely related and very inter-dependent parameters.\n",
    "Let's make some more substitutions:"
   ]
  },
  {
   "cell_type": "code",
   "execution_count": 11,
   "id": "b0c2b8d5",
   "metadata": {},
   "outputs": [
    {
     "data": {
      "text/latex": [
       "$\\displaystyle \\frac{T}{W} = \\frac{12479.7472654312 C_{D} S}{W} - \\frac{714964.390772459 C_{L} S}{W} + 57.2987004179959$"
      ],
      "text/plain": [
       "Eq(T/W, 12479.7472654312*C_D*S/W - 714964.390772459*C_L*S/W + 57.2987004179959)"
      ]
     },
     "execution_count": 11,
     "metadata": {},
     "output_type": "execute_result"
    }
   ],
   "source": [
    "# Make the earlier substitutions stick for future evaluations\n",
    "constraint1.mu = 0\n",
    "constraint1.epsilon = 0\n",
    "constraint1.zdot = 0\n",
    "constraint1.Vdot = 0\n",
    "constraint1.Vdot_n = 0\n",
    "\n",
    "# Take it one step further\n",
    "constraint1.alpha=(1 * 3.141592/180)  # 1 degree angle of attack\n",
    "\n",
    "# Show the equation in the notebook\n",
    "constraint1()"
   ]
  },
  {
   "cell_type": "markdown",
   "id": "d46a704b",
   "metadata": {},
   "source": [
    "In some cases such as this, $W$ or $S$ may not be individually known, however, the ratios $\\text{T/W}$ and $\\text{W/S}$ can be solved and commuted"
   ]
  },
  {
   "cell_type": "code",
   "execution_count": 12,
   "id": "a64a06d5",
   "metadata": {},
   "outputs": [
    {
     "name": "stdout",
     "output_type": "stream",
     "text": [
      "T/W = 6.2398736327156*C_D - 357.48219538623*C_L + 57.2987004179959\n"
     ]
    }
   ],
   "source": [
    "import sympy as sp\n",
    "T, W, S = sp.symbols(\"T,W,S\")\n",
    "\n",
    "# Define the wingloading ratio\n",
    "wingloading = {W: 2000 * S}\n",
    "\n",
    "# Solve for T/W, then substitute in wingloading\n",
    "eqn_t2w = sp.solve(constraint1(), T/W)[0]\n",
    "eqn_t2w = eqn_t2w.subs(wingloading).simplify()\n",
    "\n",
    "# Show the equation in the notebook\n",
    "print(f\"T/W = {eqn_t2w}\")"
   ]
  },
  {
   "cell_type": "code",
   "execution_count": 13,
   "id": "9d1b62e0",
   "metadata": {},
   "outputs": [
    {
     "name": "stdout",
     "output_type": "stream",
     "text": [
      "The computed Thrust-to-Weight ratio required at the design point is: T/W = 0.185\n"
     ]
    }
   ],
   "source": [
    "# Parameters below come from guessing numbers that made a nice T/W.\n",
    "# In a real-world scenario, a solver paired with an aerodynamic model is better.\n",
    "lift_to_drag = 12\n",
    "CL = 0.16\n",
    "\n",
    "# Make the substitutions using a dictionary\n",
    "t2w = eqn_t2w.subs({\"C_L\":CL, \"C_D\":CL / lift_to_drag})\n",
    "\n",
    "# In this case, our desired value is on the right hand side of the governing equation equality\n",
    "print(f\"The computed Thrust-to-Weight ratio required at the design point is: T/W = {t2w:.3f}\")"
   ]
  },
  {
   "cell_type": "code",
   "execution_count": null,
   "id": "e8159a3f",
   "metadata": {},
   "outputs": [],
   "source": []
  }
 ],
 "metadata": {
  "kernelspec": {
   "display_name": "Python 3 (ipykernel)",
   "language": "python",
   "name": "python3"
  },
  "language_info": {
   "codemirror_mode": {
    "name": "ipython",
    "version": 3
   },
   "file_extension": ".py",
   "mimetype": "text/x-python",
   "name": "python",
   "nbconvert_exporter": "python",
   "pygments_lexer": "ipython3",
   "version": "3.9.5"
  }
 },
 "nbformat": 4,
 "nbformat_minor": 5
}
