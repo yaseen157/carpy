{
 "cells": [
  {
   "cell_type": "markdown",
   "id": "6a6df029",
   "metadata": {},
   "source": [
    "# Constraints Analysis"
   ]
  },
  {
   "cell_type": "code",
   "execution_count": 1,
   "id": "33b19aab",
   "metadata": {},
   "outputs": [],
   "source": [
    "# Add path to src/CARPy, in case notebook is running locally\n",
    "import os, sys, warnings\n",
    "sys.path.append(os.path.abspath(os.path.join(os.getcwd(), \"..\\\\..\\\\..\\\\src\")))\n",
    "warnings.simplefilter(\"ignore\")  # <-- Suppress warnings"
   ]
  },
  {
   "cell_type": "markdown",
   "id": "d0e89434",
   "metadata": {},
   "source": [
    "***\n",
    "## Introduction"
   ]
  },
  {
   "cell_type": "markdown",
   "id": "f760d91c",
   "metadata": {},
   "source": [
    "CARPy provides users with the ability to constrain designs, using a flavour of Energy-manoeuvrability theory.\n",
    "To make the best use of this concept, the following objects are introduced:\n",
    "\n",
    "1. `Constraint`: The base constraint class that provides constraint analysis methods.\n",
    "2. `Constraints`: A means of considering multiple constraints together and operating on them.\n",
    "3. `ThrustConstraint`: A type of design constraint for maximising vehicle range, based on Energy-manoeuvrability theory.\n",
    "4. `PowerConstraint`: A type of design constraint for maximising vehicle endurance, based on Energy-manoeuvrability theory.\n",
    "\n",
    "These objects are laid out in this way to facilitate future expansion of the constraint concept."
   ]
  },
  {
   "cell_type": "markdown",
   "id": "8e5afbc8",
   "metadata": {},
   "source": [
    "***\n",
    "## 1) `Constraint` and 2) `Constraints` objects"
   ]
  },
  {
   "cell_type": "markdown",
   "id": "801107e0",
   "metadata": {},
   "source": [
    "We begin in a rather unorthodox manner - we introduce the generic types of `Constraint` and `Constraints`.\n",
    "The purpose of these objects is to provide users with a convenient framework for defining a vehicle's mission in a regularised format.\n",
    "\n",
    "They don't do anything by themselves when imported, but it's important to understand what they do for the objects that inherit their methods."
   ]
  },
  {
   "cell_type": "code",
   "execution_count": 2,
   "id": "e2616367",
   "metadata": {},
   "outputs": [],
   "source": [
    "# These imports have to be made from a private file, as they are not\n",
    "# designed to be directly imported by the user. You will in most cases,\n",
    "# not have to do the following - this is all for illustrative purposes!\n",
    "from carpy.conceptualdesign._constraints import Constraint, Constraints"
   ]
  },
  {
   "cell_type": "markdown",
   "id": "a245aebc",
   "metadata": {},
   "source": [
    "#### `Constraint`"
   ]
  },
  {
   "cell_type": "markdown",
   "id": "a1b8681c",
   "metadata": {},
   "source": [
    "The main feature of a constraint is that it defines the `__call__` method - allowing sub-classes of `Constraint` to be called.\n",
    "We'll get to how exactly calling works when we have an example constraint, but for now, accept that we can evaluate a constraint using `__call__`."
   ]
  },
  {
   "cell_type": "code",
   "execution_count": 3,
   "id": "dd847320",
   "metadata": {},
   "outputs": [
    {
     "name": "stdout",
     "output_type": "stream",
     "text": [
      "RuntimeError: __call__ is only supported on children of <class 'carpy.conceptualdesign._constraints.Constraint'>\n"
     ]
    }
   ],
   "source": [
    "# Define a Constraint object\n",
    "myconstraint = Constraint()\n",
    "\n",
    "# Handle the error that we know we're about to raise\n",
    "try:\n",
    "    myconstraint()\n",
    "except RuntimeError as e:\n",
    "    # Show the reader the error we would've raised\n",
    "    print(f\"{type(e).__name__}: {e}\")\n",
    "finally:\n",
    "    del myconstraint"
   ]
  },
  {
   "cell_type": "markdown",
   "id": "3413eb3e",
   "metadata": {},
   "source": [
    "#### `Constraints`"
   ]
  },
  {
   "cell_type": "markdown",
   "id": "c5229bf0",
   "metadata": {},
   "source": [
    "Multiple `Constraint` objects can be packaged together in a `Constraints` (plural) object."
   ]
  },
  {
   "cell_type": "code",
   "execution_count": 4,
   "id": "6ccb8be5",
   "metadata": {},
   "outputs": [
    {
     "name": "stdout",
     "output_type": "stream",
     "text": [
      "(<__main__.MyChildConstraint object at 0x000001B035B19880>, <__main__.MyChildConstraint object at 0x000001B048D7C970>)\n"
     ]
    }
   ],
   "source": [
    "# Make two brand new constraints (for illustrative purposes only)\n",
    "class MyChildConstraint(Constraint):\n",
    "    pass\n",
    "constraint1 = MyChildConstraint()\n",
    "constraint2 = MyChildConstraint()\n",
    "\n",
    "# Create two fictitious missions, based on different constraints\n",
    "mission1 = Constraints(constraints=[constraint1])\n",
    "mission2 = Constraints(constraints=[constraint2])\n",
    "\n",
    "# See that missions concatenate their constraints with addition\n",
    "print((mission1 + mission2).constraints)"
   ]
  },
  {
   "cell_type": "markdown",
   "id": "d70ef05d",
   "metadata": {},
   "source": [
    "And that's all there is to it, for now.\n",
    "To see how these work in practice, let's look at a real child of the `Constraint` class."
   ]
  },
  {
   "cell_type": "markdown",
   "id": "560fb070",
   "metadata": {},
   "source": [
    "***\n",
    "## 3) `ThrustConstraint(Constraint)` objects"
   ]
  },
  {
   "cell_type": "markdown",
   "id": "4deccd40",
   "metadata": {},
   "source": [
    "The concept of an energy constraint is based on a model of aircraft performance based on Energy-manoeuvrability theory.\n",
    "In short, the equations of motion are considered for a vehicle, and can then be resolved for any design variable.\n",
    "CARPy's implementation makes the thrust-to-weight ratio, $\\text{T/W}$, the objective.\n",
    "For a detailed derivation, please see the [theory docs](https://github.com/yaseen157/carpy/tree/main/docs/source/theory)."
   ]
  },
  {
   "cell_type": "markdown",
   "id": "96a18d1c",
   "metadata": {},
   "source": [
    "Start with relevant imports"
   ]
  },
  {
   "cell_type": "code",
   "execution_count": 5,
   "id": "5517710d",
   "metadata": {},
   "outputs": [],
   "source": [
    "from carpy.conceptualdesign import ThrustConstraint\n",
    "from carpy.environment import ISA1975\n",
    "\n",
    "# Prescribe flight conditions at the design point\n",
    "M = 0.5  # Mach number\n",
    "z = 8e3  # 8,000 m altitude\n",
    "\n",
    "# Create an atmosphere object, and use it to compute relevant parameters\n",
    "myatmosphere = ISA1975()\n",
    "speed = myatmosphere.c_sound(z, geometric=True) * M\n",
    "dynamic_pressure = myatmosphere.rho(z, geometric=True) * speed ** 2\n",
    "\n",
    "# Apply the computed dynamic pressure to our energy constraint\n",
    "mymission = ThrustConstraint(q=dynamic_pressure)"
   ]
  },
  {
   "cell_type": "markdown",
   "id": "5871ee0a",
   "metadata": {},
   "source": [
    "The object instantiated from the `ThrustConstraint` class is actually an instance of `Constraints`, which in this case, contains a single object.\n",
    "As discussed previously, this is a child of the `Constraint` class:"
   ]
  },
  {
   "cell_type": "code",
   "execution_count": 6,
   "id": "e3b03830",
   "metadata": {},
   "outputs": [
    {
     "data": {
      "text/plain": [
       "(<carpy.conceptualdesign._constraints.ThrustConstraint at 0x1b035af3b50>,)"
      ]
     },
     "execution_count": 6,
     "metadata": {},
     "output_type": "execute_result"
    }
   ],
   "source": [
    "mymission.constraints"
   ]
  },
  {
   "cell_type": "code",
   "execution_count": 7,
   "id": "9040f269",
   "metadata": {},
   "outputs": [
    {
     "name": "stdout",
     "output_type": "stream",
     "text": [
      "constraint1 is of type 'ThrustConstraint', and is a child of the parent class 'Constraint'.\n"
     ]
    }
   ],
   "source": [
    "constraint1, = mymission.constraints\n",
    "print(\n",
    "    f\"constraint1 is of type '{type(constraint1).__name__}',\"\n",
    "    f\" and is a child of the parent class '{type(constraint1).__base__.__name__}'.\"\n",
    ")"
   ]
  },
  {
   "cell_type": "markdown",
   "id": "6163cebe",
   "metadata": {},
   "source": [
    "Each constraint contained with a `Constraints` object represents a single design point or goal.\n",
    "But just as easily, we can revisit a design with a sequence of constraints - where the design conditions are broadcasted as required."
   ]
  },
  {
   "cell_type": "code",
   "execution_count": 8,
   "id": "bfc2a559",
   "metadata": {},
   "outputs": [
    {
     "name": "stdout",
     "output_type": "stream",
     "text": [
      "(<carpy.conceptualdesign._constraints.ThrustConstraint object at 0x000001B04AC0D1C0>, <carpy.conceptualdesign._constraints.ThrustConstraint object at 0x000001B04AC40400>)\n"
     ]
    }
   ],
   "source": [
    "M = [0.5, 0.55]  # <-- Multiple Mach numbers\n",
    "z = 8e3  # <-- Single altitude is broadcasted\n",
    "zdot = [1.2, 0]  # <-- Multiple climb rates\n",
    "\n",
    "# Compute the dynamic pressure, and apply it to our constraint object\n",
    "speed = myatmosphere.c_sound(z, geometric=True) * M\n",
    "dynamic_pressure = myatmosphere.rho(z, geometric=True) * speed ** 2\n",
    "mymission = ThrustConstraint(q=dynamic_pressure, zdot=zdot)\n",
    "\n",
    "# Multiple, individual constraints!\n",
    "print(mymission.constraints)"
   ]
  },
  {
   "cell_type": "markdown",
   "id": "e89cfcfd",
   "metadata": {},
   "source": [
    "#### Governing Equation"
   ]
  },
  {
   "cell_type": "markdown",
   "id": "fb228d3b",
   "metadata": {},
   "source": [
    "The governing equation for a constraint is hidden in private variable. "
   ]
  },
  {
   "cell_type": "code",
   "execution_count": 9,
   "id": "7b4a6d31",
   "metadata": {},
   "outputs": [
    {
     "name": "stdout",
     "output_type": "stream",
     "text": [
      "Eq(T/W, (-C_D*S*q*(mu*sin(2*alpha)/2 - 1)/W - C_L*S*mu*q*cos(alpha)**2/W + Vdot/g + mu*cos(alpha)*cos(theta) + zdot/V)/((mu*cos(alpha)*tan(alpha + epsilon) + 1)*cos(alpha + epsilon)) + (-C_D*S*mu*q*sin(alpha)**2/W - C_L*S*q*(mu*sin(2*alpha)/2 + 1)/W + Vdot_n/g + mu*cos(alpha)*cos(theta) + (1 - zdot**2/V**2)**0.5)/((mu*sin(alpha) + 1)*sin(alpha + epsilon)))\n"
     ]
    }
   ],
   "source": [
    "# The governing equation of a constraint (not designed for users to interface with)\n",
    "print(ThrustConstraint._eqn)"
   ]
  },
  {
   "cell_type": "markdown",
   "id": "a8a42e6b",
   "metadata": {},
   "source": [
    "Looks complicated!\n",
    "This is a SymPy representation of the fundamental performance equation that governs this type of constraint.\n",
    "If you're looking at this on a jupyter notebook, it should look nicer below:"
   ]
  },
  {
   "cell_type": "code",
   "execution_count": 10,
   "id": "b7635160",
   "metadata": {},
   "outputs": [
    {
     "data": {
      "text/latex": [
       "$\\displaystyle \\frac{T}{W} = \\frac{- \\frac{C_{D} S q \\left(\\frac{\\mu \\sin{\\left(2 \\alpha \\right)}}{2} - 1\\right)}{W} - \\frac{C_{L} S \\mu q \\cos^{2}{\\left(\\alpha \\right)}}{W} + \\frac{\\dot{V}}{g} + \\mu \\cos{\\left(\\alpha \\right)} \\cos{\\left(\\theta \\right)} + \\frac{\\dot{z}}{V}}{\\left(\\mu \\cos{\\left(\\alpha \\right)} \\tan{\\left(\\alpha + \\epsilon \\right)} + 1\\right) \\cos{\\left(\\alpha + \\epsilon \\right)}} + \\frac{- \\frac{C_{D} S \\mu q \\sin^{2}{\\left(\\alpha \\right)}}{W} - \\frac{C_{L} S q \\left(\\frac{\\mu \\sin{\\left(2 \\alpha \\right)}}{2} + 1\\right)}{W} + \\frac{\\dot{V}_{n}}{g} + \\mu \\cos{\\left(\\alpha \\right)} \\cos{\\left(\\theta \\right)} + \\left(1 - \\frac{\\dot{z}^{2}}{V^{2}}\\right)^{0.5}}{\\left(\\mu \\sin{\\left(\\alpha \\right)} + 1\\right) \\sin{\\left(\\alpha + \\epsilon \\right)}}$"
      ],
      "text/plain": [
       "Eq(T/W, (-C_D*S*q*(mu*sin(2*alpha)/2 - 1)/W - C_L*S*mu*q*cos(alpha)**2/W + Vdot/g + mu*cos(alpha)*cos(theta) + zdot/V)/((mu*cos(alpha)*tan(alpha + epsilon) + 1)*cos(alpha + epsilon)) + (-C_D*S*mu*q*sin(alpha)**2/W - C_L*S*q*(mu*sin(2*alpha)/2 + 1)/W + Vdot_n/g + mu*cos(alpha)*cos(theta) + (1 - zdot**2/V**2)**0.5)/((mu*sin(alpha) + 1)*sin(alpha + epsilon)))"
      ]
     },
     "execution_count": 10,
     "metadata": {},
     "output_type": "execute_result"
    }
   ],
   "source": [
    "# Jupyter notebooks support nicer formatting\n",
    "ThrustConstraint._eqn"
   ]
  },
  {
   "cell_type": "markdown",
   "id": "45d2922e",
   "metadata": {},
   "source": [
    "Taking steady level flight (and some other assumptions), the form might be more familiar to readers of aircraft conceptual design textbooks as:"
   ]
  },
  {
   "cell_type": "code",
   "execution_count": 11,
   "id": "b9816d5d",
   "metadata": {},
   "outputs": [
    {
     "data": {
      "text/latex": [
       "$\\displaystyle \\frac{T}{W} = \\frac{C_{D} S q}{W \\cos{\\left(\\alpha \\right)}}$"
      ],
      "text/plain": [
       "Eq(T/W, C_D*S*q/(W*cos(alpha)))"
      ]
     },
     "execution_count": 11,
     "metadata": {},
     "output_type": "execute_result"
    }
   ],
   "source": [
    "import sympy as sp\n",
    "\n",
    "# Steady level flight --> Lift == Weight\n",
    "# Define some symbols so we can tell the solver W = L = q * S * C_L\n",
    "W, S, q, C_L = sp.symbols(\"W,S,q,C_L\")\n",
    "\n",
    "# Apply our simplifications\n",
    "ThrustConstraint._eqn.subs({\n",
    "    \"epsilon\":0, \"mu\":0, \"Vdot\":0, \"Vdot_n\":0, \"zdot\":0, (q * S * C_L) : W})"
   ]
  },
  {
   "cell_type": "markdown",
   "id": "4e250e2b",
   "metadata": {},
   "source": [
    "#### In practice"
   ]
  },
  {
   "cell_type": "markdown",
   "id": "87959760",
   "metadata": {},
   "source": [
    "We talked a little bit earier about the `__call__` method.\n",
    "Officially, this is how a user is expected to make substitutions to the equation (instead of accessing a classes `._eqn` attribute.\n",
    "As we applied a dynamic pressure and climb rate substitution earlier, we should see those values automatically propagate when we call our constraint without passing any arguments:"
   ]
  },
  {
   "cell_type": "code",
   "execution_count": 12,
   "id": "02914597",
   "metadata": {},
   "outputs": [
    {
     "data": {
      "text/latex": [
       "$\\displaystyle \\frac{T}{W} = \\frac{- \\frac{12477.8465402665 C_{D} S \\left(\\frac{\\mu \\sin{\\left(2 \\alpha \\right)}}{2} - 1\\right)}{W} - \\frac{12477.8465402665 C_{L} S \\mu \\cos^{2}{\\left(\\alpha \\right)}}{W} + \\frac{\\dot{V}}{g} + \\mu \\cos{\\left(\\alpha \\right)} \\cos{\\left(\\theta \\right)} + \\frac{\\dot{z}}{V}}{\\left(\\mu \\cos{\\left(\\alpha \\right)} \\tan{\\left(\\alpha + \\epsilon \\right)} + 1\\right) \\cos{\\left(\\alpha + \\epsilon \\right)}} + \\frac{- \\frac{12477.8465402665 C_{D} S \\mu \\sin^{2}{\\left(\\alpha \\right)}}{W} - \\frac{12477.8465402665 C_{L} S \\left(\\frac{\\mu \\sin{\\left(2 \\alpha \\right)}}{2} + 1\\right)}{W} + \\frac{\\dot{V}_{n}}{g} + \\mu \\cos{\\left(\\alpha \\right)} \\cos{\\left(\\theta \\right)} + \\left(1 - \\frac{\\dot{z}^{2}}{V^{2}}\\right)^{0.5}}{\\left(\\mu \\sin{\\left(\\alpha \\right)} + 1\\right) \\sin{\\left(\\alpha + \\epsilon \\right)}}$"
      ],
      "text/plain": [
       "Eq(T/W, (-12477.8465402665*C_D*S*(mu*sin(2*alpha)/2 - 1)/W - 12477.8465402665*C_L*S*mu*cos(alpha)**2/W + Vdot/g + mu*cos(alpha)*cos(theta) + zdot/V)/((mu*cos(alpha)*tan(alpha + epsilon) + 1)*cos(alpha + epsilon)) + (-12477.8465402665*C_D*S*mu*sin(alpha)**2/W - 12477.8465402665*C_L*S*(mu*sin(2*alpha)/2 + 1)/W + Vdot_n/g + mu*cos(alpha)*cos(theta) + (1 - zdot**2/V**2)**0.5)/((mu*sin(alpha) + 1)*sin(alpha + epsilon)))"
      ]
     },
     "execution_count": 12,
     "metadata": {},
     "output_type": "execute_result"
    }
   ],
   "source": [
    "constraint1()"
   ]
  },
  {
   "cell_type": "markdown",
   "id": "c6b694b0",
   "metadata": {},
   "source": [
    "Looks pretty nasty!\n",
    "We can drastically simplify the expression with more substitutions"
   ]
  },
  {
   "cell_type": "code",
   "execution_count": 13,
   "id": "c94a115a",
   "metadata": {},
   "outputs": [
    {
     "data": {
      "text/latex": [
       "$\\displaystyle \\frac{T}{W} = \\frac{12477.8465402665 C_{D} S}{W \\cos{\\left(\\alpha \\right)}} + \\frac{- \\frac{12477.8465402665 C_{L} S}{W} + 1}{\\sin{\\left(\\alpha \\right)}}$"
      ],
      "text/plain": [
       "Eq(T/W, 12477.8465402665*C_D*S/(W*cos(alpha)) + (-12477.8465402665*C_L*S/W + 1)/sin(alpha))"
      ]
     },
     "execution_count": 13,
     "metadata": {},
     "output_type": "execute_result"
    }
   ],
   "source": [
    "constraint1(\n",
    "    mu=0,  # Rolling resistance of zero, for a flying vehicle\n",
    "    epsilon=0,  # Thrust setting angle of zero, thrust axis aligns with the vehicle longitudinal axis\n",
    "    zdot=0,  # Rate of climb zero, steady altitude (overriding our defined climb rate)\n",
    "    Vdot=0,  # Acceleration along flight path is zero (no linear acceleration)\n",
    "    Vdot_n=0  # Acceleration normal to flight path is zero (no circular motion)\n",
    ")"
   ]
  },
  {
   "cell_type": "markdown",
   "id": "365fb10d",
   "metadata": {},
   "source": [
    "That's better.\n",
    "In this case the angle of attack $\\alpha$, coefficients of lift $C_L$ and drag $C_D$, and wing-loading are all closely related and very inter-dependent parameters.\n",
    "Let's make some more substitutions:"
   ]
  },
  {
   "cell_type": "code",
   "execution_count": 14,
   "id": "b0c2b8d5",
   "metadata": {},
   "outputs": [
    {
     "data": {
      "text/latex": [
       "$\\displaystyle \\frac{T}{W} = \\frac{12479.7472654312 C_{D} S}{W} - \\frac{714964.390772459 C_{L} S}{W} + 57.2987004179959$"
      ],
      "text/plain": [
       "Eq(T/W, 12479.7472654312*C_D*S/W - 714964.390772459*C_L*S/W + 57.2987004179959)"
      ]
     },
     "execution_count": 14,
     "metadata": {},
     "output_type": "execute_result"
    }
   ],
   "source": [
    "# Make the earlier substitutions stick for future\n",
    "# calls, so we don't have to keep substituting them\n",
    "constraint1.mu = 0\n",
    "constraint1.epsilon = 0\n",
    "constraint1.zdot = 0\n",
    "constraint1.Vdot = 0\n",
    "constraint1.Vdot_n = 0\n",
    "\n",
    "# Take it one step further\n",
    "constraint1.alpha=(1 * 3.141592/180)  # 1 degree angle of attack\n",
    "\n",
    "# Show the equation in the notebook\n",
    "constraint1()"
   ]
  },
  {
   "cell_type": "markdown",
   "id": "d46a704b",
   "metadata": {},
   "source": [
    "At the conceptual stage of design, the weight $W$ or reference wing area $S$ is not always known, but a ratio of the two (wingloading, $\\text{W/S}$) might be.\n",
    "We can substitute ratios into the SymPy expression of the constraint, by rearranging to make $W$ proportional to $S$:"
   ]
  },
  {
   "cell_type": "code",
   "execution_count": 15,
   "id": "a64a06d5",
   "metadata": {},
   "outputs": [
    {
     "name": "stdout",
     "output_type": "stream",
     "text": [
      "T/W = 6.2398736327156*C_D - 357.48219538623*C_L + 57.2987004179959\n"
     ]
    }
   ],
   "source": [
    "import sympy as sp\n",
    "T, W, S = sp.symbols(\"T,W,S\")\n",
    "\n",
    "# Define the wingloading proportionality\n",
    "wingloading = {W: 2000 * S}\n",
    "\n",
    "# Solve for T/W, then substitute in wingloading\n",
    "eqn_t2w = sp.solve(constraint1(), T/W)[0]\n",
    "eqn_t2w = eqn_t2w.subs(wingloading).simplify()\n",
    "\n",
    "# Show the equation in the notebook\n",
    "print(f\"T/W = {eqn_t2w}\")"
   ]
  },
  {
   "cell_type": "code",
   "execution_count": 16,
   "id": "9d1b62e0",
   "metadata": {},
   "outputs": [
    {
     "name": "stdout",
     "output_type": "stream",
     "text": [
      "The computed Thrust-to-Weight ratio required at the design point is: T/W = 0.185\n"
     ]
    }
   ],
   "source": [
    "# Parameters below come from guessing numbers that made a nice T/W.\n",
    "# In a real-world scenario, a solver paired with an aerodynamic model is better.\n",
    "lift_to_drag = 12\n",
    "CL = 0.16\n",
    "\n",
    "# Make the substitutions using a dictionary\n",
    "t2w = eqn_t2w.subs({\"C_L\":CL, \"C_D\":CL / lift_to_drag})\n",
    "\n",
    "# In this case, our desired value is on the right hand side of the governing equation equality\n",
    "print(f\"The computed Thrust-to-Weight ratio required at the design point is: T/W = {t2w:.3f}\")"
   ]
  },
  {
   "cell_type": "markdown",
   "id": "b1655d46",
   "metadata": {},
   "source": [
    "***\n",
    "## 4) `PowerConstraint(Constraint)` objects"
   ]
  },
  {
   "cell_type": "markdown",
   "id": "f3ad44fe",
   "metadata": {},
   "source": [
    "_Coming soon_"
   ]
  },
  {
   "cell_type": "code",
   "execution_count": null,
   "id": "fa4d5e5b",
   "metadata": {},
   "outputs": [],
   "source": []
  }
 ],
 "metadata": {
  "kernelspec": {
   "display_name": "Python 3 (ipykernel)",
   "language": "python",
   "name": "python3"
  },
  "language_info": {
   "codemirror_mode": {
    "name": "ipython",
    "version": 3
   },
   "file_extension": ".py",
   "mimetype": "text/x-python",
   "name": "python",
   "nbconvert_exporter": "python",
   "pygments_lexer": "ipython3",
   "version": "3.9.5"
  }
 },
 "nbformat": 4,
 "nbformat_minor": 5
}
