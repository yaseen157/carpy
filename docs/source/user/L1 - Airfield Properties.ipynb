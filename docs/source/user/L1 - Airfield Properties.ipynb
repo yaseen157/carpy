{
 "cells": [
  {
   "cell_type": "markdown",
   "id": "6a6df029",
   "metadata": {},
   "source": [
    "# Airfield Properties"
   ]
  },
  {
   "cell_type": "code",
   "execution_count": 1,
   "id": "33b19aab",
   "metadata": {},
   "outputs": [],
   "source": [
    "# Add path to src/CARPy, in case notebook is running locally\n",
    "import os, sys, warnings\n",
    "sys.path.append(os.path.abspath(os.path.join(os.getcwd(), \"..\\\\..\\\\..\\\\src\")))\n",
    "warnings.simplefilter(\"ignore\")  # <-- Suppress warnings"
   ]
  },
  {
   "cell_type": "markdown",
   "id": "d0e89434",
   "metadata": {},
   "source": [
    "***\n",
    "## Introduction"
   ]
  },
  {
   "cell_type": "markdown",
   "id": "f760d91c",
   "metadata": {},
   "source": [
    "CARpy allows users to access various parameters and attributes of airports around the world.\n",
    "This is achieved through the following objects:\n",
    "\n",
    "1. `Airport`: objects which contain geolocation information and runway status(es).\n",
    "2. `Runway`: objects which describe runway positions, dimensions, and orientation.\n",
    "\n",
    "This is possible thanks to an offline image of data contained at [OurAirports open data downloads](https://ourairports.com/data/).\n",
    "CARPy will warn users when the airfield module loads on the date of last imaging."
   ]
  },
  {
   "cell_type": "markdown",
   "id": "560fb070",
   "metadata": {},
   "source": [
    "***\n",
    "## 1) `Airport` objects"
   ]
  },
  {
   "cell_type": "markdown",
   "id": "96a18d1c",
   "metadata": {},
   "source": [
    "Start with relevant imports"
   ]
  },
  {
   "cell_type": "code",
   "execution_count": 2,
   "id": "5517710d",
   "metadata": {},
   "outputs": [
    {
     "name": "stdout",
     "output_type": "stream",
     "text": [
      "Southampton Airport\n"
     ]
    }
   ],
   "source": [
    "from carpy.environment import Airport\n",
    "\n",
    "# Create an airport object\n",
    "myairport = Airport(\"EGHI\")\n",
    "\n",
    "print(myairport)"
   ]
  },
  {
   "cell_type": "markdown",
   "id": "9dbce321",
   "metadata": {},
   "source": [
    "Embedded within the `Airport` objects is a variety of useful parameters about the airport including elevation above mean sea level, global coordinates (latitude, longitude), the airport name, and active runways (which may be open or closed)."
   ]
  },
  {
   "cell_type": "markdown",
   "id": "22370bc8",
   "metadata": {},
   "source": [
    "For example, the elevation of this example airport is:"
   ]
  },
  {
   "cell_type": "code",
   "execution_count": 3,
   "id": "9301a424",
   "metadata": {},
   "outputs": [
    {
     "name": "stdout",
     "output_type": "stream",
     "text": [
      "Southampton Airport is 13.4112 m above MSL\n"
     ]
    }
   ],
   "source": [
    "print(myairport, \"is\", myairport.elevation, \"above MSL\")"
   ]
  },
  {
   "cell_type": "markdown",
   "id": "b6aca802",
   "metadata": {},
   "source": [
    "***\n",
    "## 2) `Runway` objects"
   ]
  },
  {
   "cell_type": "markdown",
   "id": "e13c4f69",
   "metadata": {},
   "source": [
    "Runways can be instantiated from persistent, unique IDs given to each runway at [OurAirports](https://ourairports.com/) - but in this case we will simply access the runway available at our airport of choice"
   ]
  },
  {
   "cell_type": "code",
   "execution_count": 4,
   "id": "a2770d60",
   "metadata": {},
   "outputs": [
    {
     "name": "stdout",
     "output_type": "stream",
     "text": [
      "[Runway(ourairports_id=239581)]\n"
     ]
    }
   ],
   "source": [
    "print(myairport.runways)"
   ]
  },
  {
   "cell_type": "markdown",
   "id": "fcc612a6",
   "metadata": {},
   "source": [
    "`Runway` objects contain various bits of information about the runway including elevation, global position, and true heading at each of the runway's endpoints, as well as **experimental** support for accessing runway surface material information."
   ]
  },
  {
   "cell_type": "markdown",
   "id": "41c0d545",
   "metadata": {},
   "source": [
    "For example, the elevation of this example airport is:"
   ]
  },
  {
   "cell_type": "code",
   "execution_count": 5,
   "id": "61f37762",
   "metadata": {},
   "outputs": [
    {
     "name": "stdout",
     "output_type": "stream",
     "text": [
      "Do runway(s) at Southampton Airport have lighting for night-time operation?\n",
      ">  RWY 02/20: True\n"
     ]
    }
   ],
   "source": [
    "print(f\"Do runway(s) at {myairport} have lighting for night-time operation?\")\n",
    "\n",
    "for runway in myairport.runways:\n",
    "    print(f\">  {runway}:\", runway.lighted)"
   ]
  },
  {
   "cell_type": "code",
   "execution_count": null,
   "id": "e6090c00",
   "metadata": {},
   "outputs": [],
   "source": []
  }
 ],
 "metadata": {
  "kernelspec": {
   "display_name": "Python 3 (ipykernel)",
   "language": "python",
   "name": "python3"
  },
  "language_info": {
   "codemirror_mode": {
    "name": "ipython",
    "version": 3
   },
   "file_extension": ".py",
   "mimetype": "text/x-python",
   "name": "python",
   "nbconvert_exporter": "python",
   "pygments_lexer": "ipython3",
   "version": "3.9.5"
  }
 },
 "nbformat": 4,
 "nbformat_minor": 5
}
