{
 "cells": [
  {
   "cell_type": "markdown",
   "id": "a5de6d10-e4cd-4847-96fb-880f052216f8",
   "metadata": {},
   "source": [
    "<h1 align=\"center\";>\n",
    "    <img style=\"float: right; padding-bottom:40px;\" src=\"https://raw.githubusercontent.com/yaseen157/carpy/main/branding/logo_primary.png\" width=\"300\"/>\n",
    "</h1>\n",
    "\n",
    "# Quantity objects\n",
    "\n",
    "#### 📖 <span style=\"color:#5a83ab\">Learning Objectives</span>\n",
    "\n",
    "In this notebook you will...\n",
    "\n",
    "> ... learn what `Quantity` objects are.<br>\n",
    "> ... understand how to create `Quantity` objects.<br>\n",
    "> ... know how to manipulate `Quantity` objects to your benefit."
   ]
  },
  {
   "cell_type": "markdown",
   "id": "26342a26-7c26-41a9-a545-e72e4a3e20fc",
   "metadata": {},
   "source": [
    "## NumPy arrays"
   ]
  },
  {
   "cell_type": "markdown",
   "id": "ac77fc9c-bb64-42b0-b354-9701ab787e4c",
   "metadata": {},
   "source": [
    "One of the scientific Python community's most iconic libraries is the [NumPy](https://github.com/numpy/numpy) library.\n",
    "The fundamental `ndarray` object provided by NumPy allows users to manipulate n-dimensional arrays of values.\n",
    "Mathematically, you might have heard these described more generally as tensors.\n",
    "\n",
    "<div align=\"center\">\n",
    "    <img src=\"../../_static/tensors.svg\"\n",
    "        title=\"Assorted tensors from rank 0 to 3\"\n",
    "        alt=\"A visualisation to assist user understanding of tensor rank, shape, and dimension nomenclature\"\n",
    "        style=\"display: block; border: none; padding: 30px; width: 80%\">\n",
    "</div>\n",
    "\n",
    "Tensors can have any number of dimensions and are frequently used in machine learning to describe multi-dimensional datasets."
   ]
  },
  {
   "cell_type": "markdown",
   "id": "eeab56ea-1dcb-4ed3-a24c-0e36d9ea525b",
   "metadata": {},
   "source": [
    "<div class=\"alert alert-block alert-info\"> <b>💡 Tip:</b>\n",
    "    An example of an everyday tensor is a rank 3 tensor which might describe the attributes of individual pixels on a computer screen.\n",
    "    Each pixel requires a rank 1 tensor of shape (3,) to store spectral information (perhaps in the RGB colour space) and two more dimensions to describe its x and y position on the display.\n",
    "    A full HD image could then feasibly be described by a rank 3 tensor of shape (1080, 1920, 3).\n",
    "</div>\n",
    "\n",
    "For illustrative purposes, we'll create a simple one-dimensional array using NumPy's `ndarray` objects below:"
   ]
  },
  {
   "cell_type": "code",
   "execution_count": 1,
   "id": "805622a1-4263-4fbf-9445-cb7a59cc4675",
   "metadata": {},
   "outputs": [],
   "source": [
    "# Define some one-dimensional data\n",
    "velocities = [-2, 0, 1.5, 2.1]  # 1D data"
   ]
  },
  {
   "cell_type": "code",
   "execution_count": 2,
   "id": "ef31c272-a6df-4708-ac85-a22c10939ef0",
   "metadata": {},
   "outputs": [
    {
     "name": "stdout",
     "output_type": "stream",
     "text": [
      "arr1 = array([-2. ,  0. ,  1.5,  2.1])\n",
      "\n",
      "type(arr1) = <class 'numpy.ndarray'>\n",
      "number of dimensions = 1\n",
      "\n"
     ]
    }
   ],
   "source": [
    "# Creating an array with NumPy...\n",
    "import numpy as np\n",
    "\n",
    "arr1 = np.array(velocities)\n",
    "\n",
    "# Print array to the notebook output\n",
    "print(f\"arr1 = {repr(arr1)}\\n\")\n",
    "\n",
    "print(f\"type(arr1) = {type(arr1)}\")\n",
    "print(f\"number of dimensions = {arr1.ndim}\\n\")"
   ]
  },
  {
   "cell_type": "markdown",
   "id": "7bdde9f3-bfcc-4937-accd-5aeadcf529cd",
   "metadata": {},
   "source": [
    "## CARPy Quantities"
   ]
  },
  {
   "cell_type": "markdown",
   "id": "f9777e44-1617-48af-b95e-8e6d56a56ecb",
   "metadata": {},
   "source": [
    "Users of NumPy will be comfortable with the idea of using a CARPy `Quantity` object in its place.\n",
    "The `Quantity` object *subclasses* the `ndarray` class - which simply means that `Quantity` objects are *children* that behave very similarly to their `ndarray` *parent* class."
   ]
  },
  {
   "cell_type": "code",
   "execution_count": 3,
   "id": "1c1eef5b-d87f-44ac-8e4c-e357a05967a5",
   "metadata": {},
   "outputs": [
    {
     "name": "stdout",
     "output_type": "stream",
     "text": [
      "qty1 = Quantity([-2. ,  0. ,  1.5,  2.1], no_unit)\n",
      "\n",
      "type(qty1) = <class 'carpy.utility._unitconversion.Quantity'>\n",
      "number of dimensions = 1\n",
      "\n"
     ]
    }
   ],
   "source": [
    "# Creating an array with CARPy...\n",
    "from carpy.utility import Quantity\n",
    "\n",
    "qty1 = Quantity(velocities)\n",
    "\n",
    "# Print quantity to the notebook output\n",
    "print(f\"qty1 = {repr(qty1)}\\n\")\n",
    "\n",
    "print(f\"type(qty1) = {type(qty1)}\")\n",
    "print(f\"number of dimensions = {qty1.ndim}\\n\")"
   ]
  },
  {
   "cell_type": "markdown",
   "id": "d6408725-b676-418e-9afe-4528a97c5404",
   "metadata": {},
   "source": [
    "`Quantity` objects differ from their `ndarray` parents in that they can be assigned units of measurement that can be manipulated with regular Python operators like `*`, `+`, `/`, `-`, `**`, etc.:"
   ]
  },
  {
   "cell_type": "code",
   "execution_count": 4,
   "id": "2cfb1b3a-8b3a-4a61-b7ea-454b3190d207",
   "metadata": {},
   "outputs": [
    {
     "name": "stdout",
     "output_type": "stream",
     "text": [
      "qty3 = Quantity([-108.8621688 ,    0.        ,   81.6466266 ,  114.30527724], kg m s^{-1})\n",
      "\n"
     ]
    }
   ],
   "source": [
    "# Create Quantity objects with values and units\n",
    "qty1 = Quantity(velocities, \"m s^-1\")\n",
    "qty2 = Quantity(120, \"lb\")\n",
    "\n",
    "# Manipulate your Quantity objects: The product of mass and velocity is momentum\n",
    "qty3 = qty2 * qty1\n",
    "\n",
    "# Display computed momentum\n",
    "print(f\"qty3 = {repr(qty3)}\\n\")"
   ]
  },
  {
   "cell_type": "markdown",
   "id": "5888d7e5-acc9-4a7c-bb55-658b4f41a7b1",
   "metadata": {},
   "source": [
    "So long as a unit is instantiated with the pattern `<unit_1> <unit_2> ... <unit_n>` (make sure to include the whitepsace between units), the values are converted into SI in the background, and then propagated to any child arrays."
   ]
  },
  {
   "cell_type": "markdown",
   "id": "404737ad-91bb-48b3-84e4-a665d7b48bf0",
   "metadata": {},
   "source": [
    "## Specifics of reading `Quantity` values"
   ]
  },
  {
   "cell_type": "markdown",
   "id": "998435c8-2eb5-46c9-ac9d-3b91e786a824",
   "metadata": {},
   "source": [
    "### `repr()` vs `str()`"
   ]
  },
  {
   "cell_type": "markdown",
   "id": "ae13338d-63eb-4025-933d-da42b5086aa6",
   "metadata": {},
   "source": [
    "For your convenience, `Quantity` objects can be presented in two ways.\n",
    "1. From `__repr__` - what you usually get when you type something into your Python console, i.e. a *representation* of the object. Your preferred code development environment will use the function `repr()` to obtain this string representation of your object.\n",
    "2. From `__str__` - what you usually get when you print something using `print()`, i.e. the *string* version of the object. The `print()` function will use the function `str()` to obtain this pretty string of your object.\n",
    "\n",
    "As a rule of thumb, `__repr__` tends to be (but is not always) a form of the object that the user can copy directly from console, paste it back into the console, and instantiate a brand new object with it. The `__str__` version is prettier to look at."
   ]
  },
  {
   "cell_type": "markdown",
   "id": "349ef1f8-4650-4d2e-8a15-73249e82e6ac",
   "metadata": {},
   "source": [
    "Here's what that looks like for the original `ndarray` objects:"
   ]
  },
  {
   "cell_type": "code",
   "execution_count": 5,
   "id": "6e02b988-cb2a-47d1-a15c-99bb2da369b0",
   "metadata": {},
   "outputs": [
    {
     "name": "stdout",
     "output_type": "stream",
     "text": [
      "NumPy array presentation:\n",
      "\n",
      "__repr__ style: array([-2. ,  0. ,  1.5,  2.1])\n",
      "__str__ style: [-2.   0.   1.5  2.1]\n",
      "\n"
     ]
    }
   ],
   "source": [
    "print(\"NumPy array presentation:\\n\")\n",
    "print(f\"__repr__ style: {repr(arr1)}\")\n",
    "print(f\"__str__ style: {str(arr1)}\\n\")"
   ]
  },
  {
   "cell_type": "markdown",
   "id": "1b90b7b6-28ba-45d0-83b9-adbb008b4933",
   "metadata": {},
   "source": [
    "In most cases, something similar will happen for `Quantity` objects - that is unless the `Quantity` object you were using came from a non-SI unit:"
   ]
  },
  {
   "cell_type": "code",
   "execution_count": 6,
   "id": "e7f95e87-477c-4263-b332-381c09249c94",
   "metadata": {},
   "outputs": [
    {
     "name": "stdout",
     "output_type": "stream",
     "text": [
      "CARPy Quantity presentation:\n",
      "\n",
      "__repr__ style: Quantity([54.4310844], kg)\n",
      "__str__ style: [120.] lb\n",
      "\n"
     ]
    }
   ],
   "source": [
    "print(\"CARPy Quantity presentation:\\n\")\n",
    "print(f\"__repr__ style: {repr(qty2)}\")\n",
    "print(f\"__str__ style: {str(qty2)}\\n\")"
   ]
  },
  {
   "cell_type": "markdown",
   "id": "169e81de-d9ba-4c9f-9db2-df48daf519ab",
   "metadata": {},
   "source": [
    "This is primarily so when you are coding, the `__repr__` format presents you with numbers that are mathematically consistent.\n",
    "On the other hand, when you are presenting or writing data, you are more likely to want the `__str__` version."
   ]
  },
  {
   "cell_type": "markdown",
   "id": "d3a6338f-e5d1-47af-aa4e-243bab413c18",
   "metadata": {},
   "source": [
    "### `.x`, `.to()`, `.u`, and `.m`"
   ]
  },
  {
   "cell_type": "markdown",
   "id": "f1286ee8-13c8-4754-ba03-48f9b6c180ee",
   "metadata": {},
   "source": [
    "If you need to access the original `ndarray` values inside of a `Quantity` (perhaps due to an incompatibility or issue), you can use the `.x` property:"
   ]
  },
  {
   "cell_type": "code",
   "execution_count": 7,
   "id": "3aec86e8-726d-4210-82dc-5553be6aa756",
   "metadata": {},
   "outputs": [
    {
     "name": "stdout",
     "output_type": "stream",
     "text": [
      "qty2.x: array([54.4310844])\n",
      "\n"
     ]
    }
   ],
   "source": [
    "print(f\"qty2.x: {repr(qty2.x)}\\n\")"
   ]
  },
  {
   "cell_type": "markdown",
   "id": "fb987bc6-8cd3-485b-aa86-7f37c5b8b4fa",
   "metadata": {},
   "source": [
    "<div class=\"alert alert-block alert-info\"> <b>📝 Note:</b>\n",
    "    Although we instantiated qty2 with 120 lbs, the <b><tt>.x</tt></b> property returned the value in SI base units of kilograms.\n",
    "    The reason for this decision is that users who call methods that are incompatible with <b><tt>Quantity</tt></b> may still wish to access the values being represented.\n",
    "    In such a case, it is far more likely that the user will want the SI values, as the more mathematically consistent unit system.\n",
    "</div>"
   ]
  },
  {
   "cell_type": "markdown",
   "id": "6da78322-3f00-4fd1-b88c-75a76d98bebc",
   "metadata": {},
   "source": [
    "If this is unacceptable, you can make use of the `.to()` method which accepts a unit string as an argument:"
   ]
  },
  {
   "cell_type": "code",
   "execution_count": 8,
   "id": "1e6164ef-768e-4b2c-ba7e-9e8f5df496fe",
   "metadata": {},
   "outputs": [
    {
     "name": "stdout",
     "output_type": "stream",
     "text": [
      "[120.] lb is [8.57142857] stone\n"
     ]
    }
   ],
   "source": [
    "# Present qty2 in units of stone\n",
    "print(f\"{qty2} is {qty2.to('st')} stone\")"
   ]
  },
  {
   "cell_type": "markdown",
   "id": "495e4187-e3d6-4d90-97c9-307e2db4ac9c",
   "metadata": {},
   "source": [
    "If you want the original units with which a `Quantity` was established, use the `.u` property:"
   ]
  },
  {
   "cell_type": "code",
   "execution_count": 9,
   "id": "d1529488-7d25-422b-af5c-1182ade2f836",
   "metadata": {},
   "outputs": [
    {
     "name": "stdout",
     "output_type": "stream",
     "text": [
      "qty3.u = kg m s^{-1}\n",
      "\n"
     ]
    }
   ],
   "source": [
    "# Find out with what units qty3 was instantiated with\n",
    "print(f\"qty3.u = {qty3.u}\\n\")"
   ]
  },
  {
   "cell_type": "markdown",
   "id": "96e1334b-0032-48f8-942e-af4a6b846915",
   "metadata": {},
   "source": [
    "And finally, the `.m` property provides the unit string from `.u` formatted with matplotlib compatible mathtext:"
   ]
  },
  {
   "cell_type": "code",
   "execution_count": 10,
   "id": "e9765e7a-1e76-4f00-90e2-e4261281c131",
   "metadata": {},
   "outputs": [
    {
     "name": "stdout",
     "output_type": "stream",
     "text": [
      "qty3.m = kg m s$^{-1}$\n",
      "\n"
     ]
    }
   ],
   "source": [
    "print(f\"qty3.m = {qty3.m}\\n\")"
   ]
  },
  {
   "cell_type": "markdown",
   "id": "e086dd28-5575-4185-9b29-40ed433d2f6c",
   "metadata": {},
   "source": [
    "<div class=\"alert alert-block alert-info\"> <b>💡 Tip:</b>\n",
    "If you would like to use <b><tt>Quantity</tt></b> objects in a computation and then plot the results in terms of the original units, <b><tt>.u</tt></b>, <b><tt>.m</tt></b>, and <b><tt>.to()</tt></b> will come in very handy!\n",
    "</div>"
   ]
  },
  {
   "cell_type": "code",
   "execution_count": 11,
   "id": "4d71f280-0991-4f63-afe0-1f45bbdde0dd",
   "metadata": {},
   "outputs": [
    {
     "data": {
      "image/png": "[encoded data removed]",
      "text/plain": [
       "<Figure size 640x480 with 1 Axes>"
      ]
     },
     "metadata": {},
     "output_type": "display_data"
    }
   ],
   "source": [
    "from matplotlib import pyplot as plt\n",
    "\n",
    "t_elapsed = Quantity([0, 1, 2, 3], \"min\")\n",
    "vs = Quantity(velocities, \"m s^-1\")\n",
    "\n",
    "# Create a plot\n",
    "fig, ax = plt.subplots()\n",
    "\n",
    "# t_elapsed[seconds] casted to the units of t_elapsed, using .to() and .u\n",
    "ax.plot(t_elapsed.to(t_elapsed.u), vs) \n",
    "\n",
    "# Label your plot as appropriate using mathscript from .m\n",
    "ax.set_xlabel(f\"Elapsed Time [{t_elapsed.m}]\")\n",
    "ax.set_ylabel(f\"Velocity [{vs.m}]\")\n",
    "\n",
    "plt.show()"
   ]
  },
  {
   "cell_type": "markdown",
   "id": "db5b123e-0dde-4a40-8bab-9e871415f37b",
   "metadata": {},
   "source": [
    "## A quick chat about radians and steradians"
   ]
  },
  {
   "cell_type": "markdown",
   "id": "043b73a3-9966-4877-809a-81614ea20a3b",
   "metadata": {},
   "source": [
    "`Quantity` does its best to preserve dimensionality of units through computations but this is not always practicable.\n",
    "For example, take the formula for force due to centripetal motion"
   ]
  },
  {
   "cell_type": "markdown",
   "id": "cb8e7719-3fd3-4bbc-8827-8e590670d7dc",
   "metadata": {},
   "source": [
    "$$F=ma \\quad \\text{with} \\quad a = \\frac{v^2}{r} \\quad \\longrightarrow \\quad F = m\\frac{v^2}{r}$$"
   ]
  },
  {
   "cell_type": "markdown",
   "id": "11ac8caa-fdb1-420f-880a-3a5c969a29c4",
   "metadata": {},
   "source": [
    "Ostensibly, the units of force $F$ are the products of consitutent terms mass $m$, tangential speed $v$, and radius of gyration $r$"
   ]
  },
  {
   "cell_type": "markdown",
   "id": "391db05f-0f07-4364-b524-e9c80cd0a6f9",
   "metadata": {},
   "source": [
    "$$[kg \\cdot ms^{-2}] = [kg] \\times \\frac{[m^2s^{-2}]}{[m]}$$"
   ]
  },
  {
   "cell_type": "markdown",
   "id": "d223ae28-1681-4154-add5-05e0899f71ca",
   "metadata": {},
   "source": [
    "But the tangential speed $v$ is related to radius of gyration $r$ through $v = r \\cdot \\omega$, where $\\omega$ is the angular velocity in radians per second.\n",
    "We're left with the problem that "
   ]
  },
  {
   "cell_type": "markdown",
   "id": "5acd1d16-9730-4590-8428-07c759c5d6c7",
   "metadata": {},
   "source": [
    "$$[ms^{-1}] \\neq [m] \\cdot [rad \\; s^{-1}] \\quad \\text{???}$$"
   ]
  },
  {
   "cell_type": "markdown",
   "id": "8704dbf1-490d-4297-afba-51e79e559916",
   "metadata": {},
   "source": [
    "in the case that SI-derived ratio \"units\" (radians, steradians) are treated with the same dimensional rules as the other base units.\n",
    "The solution is that radians and steradians are treated as dimensionless, and have values equal to 1 - allowing them to appear and disappear from analysis as required.\n",
    "As a result, `Quantity` objects may spawn these ghostly radian or steradian units during trigonometric operations, or delete them outright if the `Quantity` deems it inappropriate to propagate the unit:"
   ]
  },
  {
   "cell_type": "code",
   "execution_count": 12,
   "id": "3d8ad351-eb19-4896-a26a-1c55ad0d9cf8",
   "metadata": {},
   "outputs": [
    {
     "name": "stdout",
     "output_type": "stream",
     "text": [
      "Quantity([31.41592654], m s^{-1}) = Quantity([5], m) x Quantity([6.28318531], s^{-1} rad)\n"
     ]
    }
   ],
   "source": [
    "# The rule for propagation is if it's not adding or subtracting, don't propagate it\n",
    "omega = Quantity(60, \"rpm\")\n",
    "radius = Quantity(5, \"m\")\n",
    "\n",
    "v_t = radius * omega\n",
    "\n",
    "print(f\"{repr(v_t)} = {repr(radius)} x {repr(omega)}\")"
   ]
  },
  {
   "cell_type": "code",
   "execution_count": 13,
   "id": "8a4346b8-0eee-46f2-8acd-ee450f37d478",
   "metadata": {},
   "outputs": [
    {
     "data": {
      "text/plain": [
       "array([31.41592654])"
      ]
     },
     "execution_count": 13,
     "metadata": {},
     "output_type": "execute_result"
    }
   ],
   "source": [
    "# Users can force as many radians as they want into a unit (not sure why you'd want to!)\n",
    "v_t.to(\"rad^68 m s^-1\")"
   ]
  },
  {
   "cell_type": "code",
   "execution_count": 14,
   "id": "30293f2c-946c-46fc-8269-cf93d0168b36",
   "metadata": {},
   "outputs": [
    {
     "data": {
      "text/plain": [
       "Quantity([0.78539816], rad)"
      ]
     },
     "execution_count": 14,
     "metadata": {},
     "output_type": "execute_result"
    }
   ],
   "source": [
    "# Trigonometry can spawn radian units - the result is angular after all\n",
    "np.arctan(Quantity(1, None))"
   ]
  },
  {
   "cell_type": "markdown",
   "id": "92e6f1d5-bf99-4297-91f8-ddc27f6aa595",
   "metadata": {},
   "source": [
    "## Implications for compute speed"
   ]
  },
  {
   "cell_type": "markdown",
   "id": "0e746e57-2e18-493c-8a4e-442a5bb9d9d9",
   "metadata": {},
   "source": [
    "Using the `timeit` code profiler, we can examine the compute speed for a simple multiplication with and without `Quantity` objects"
   ]
  },
  {
   "cell_type": "code",
   "execution_count": 15,
   "id": "c5e696ea-c108-4bfc-ae5b-222d77aa6033",
   "metadata": {},
   "outputs": [
    {
     "name": "stdout",
     "output_type": "stream",
     "text": [
      "Average run time per execution (2000 executions):\n",
      "... with NumPy: 2.495500e-07 seconds (total = 0.000499 s)\n",
      "... with CARPy: 3.482435e-04 seconds (total = 0.696487 s)\n",
      "\n",
      "(CARPy Quantity manipulation is ~3 orders of magnitude slower than vanilla array work)\n"
     ]
    }
   ],
   "source": [
    "import timeit\n",
    "\n",
    "# Setup statements - these are not timed\n",
    "setup_numpy = \"\"\"import numpy as np; w, r = np.array([[60], [5]]);\"\"\"\n",
    "setup_carpy = \"\"\"from carpy.utility import Quantity; w, r = Quantity(60, \"rpm\"), Quantity(5, \"m\");\"\"\"\n",
    "\n",
    "# The statement will be executed a number of times, and timed\n",
    "statement = \"w * r\"\n",
    "number = 2_000\n",
    "t1 = timeit.timeit(setup=setup_numpy, stmt=statement, number=number)\n",
    "t2 = timeit.timeit(setup=setup_carpy, stmt=statement, number=number)\n",
    "\n",
    "print(f\"Average run time per execution ({number} executions):\")\n",
    "print(f\"... with NumPy: {t1/number:.6e} seconds (total = {t1:.6f} s)\")\n",
    "print(f\"... with CARPy: {t2/number:.6e} seconds (total = {t2:.6f} s)\")\n",
    "print()\n",
    "print(f\"(CARPy Quantity manipulation is ~{np.log10(t2/t1):.0f} orders of magnitude slower than vanilla array work)\")"
   ]
  },
  {
   "cell_type": "code",
   "execution_count": 16,
   "id": "eabb697b-1172-4194-842d-868c206ded6c",
   "metadata": {},
   "outputs": [
    {
     "name": "stdout",
     "output_type": "stream",
     "text": [
      "         1552137 function calls (1534123 primitive calls) in 0.610 seconds\n",
      "\n",
      "   Ordered by: cumulative time\n",
      "\n",
      "   ncalls  tottime  percall  cumtime  percall filename:lineno(function)\n",
      "        1    0.000    0.000    0.610    0.610 {built-in method builtins.exec}\n",
      "        1    0.000    0.000    0.610    0.610 <string>:1(<module>)\n",
      "        1    0.001    0.001    0.610    0.610 <string>:1(<listcomp>)\n",
      "     1000    0.004    0.000    0.609    0.001 _unitconversion.py:758(__mul__)\n",
      "     1000    0.007    0.000    0.566    0.001 _unitconversion.py:254(__mul__)\n",
      "     2000    0.032    0.000    0.504    0.000 _unitconversion.py:43(__new__)\n",
      "     2000    0.068    0.000    0.128    0.000 _unitconversion.py:101(<dictcomp>)\n",
      "    23000    0.006    0.000    0.126    0.000 frame.py:1184(__getitem__)\n",
      "    23000    0.015    0.000    0.120    0.000 getitem.py:125(get_df_item_by_key)\n",
      "     2000    0.002    0.000    0.102    0.000 frame.py:1571(to_numpy)\n",
      "     2000    0.100    0.000    0.100    0.000 {method 'to_numpy' of 'builtins.PyDataFrame' objects}\n",
      "     2000    0.005    0.000    0.074    0.000 _unitconversion.py:79(<listcomp>)\n",
      "     6000    0.005    0.000    0.062    0.000 getitem.py:284(_select_rows)\n",
      "   414000    0.030    0.000    0.059    0.000 series.py:1213(__iter__)\n",
      "     2000    0.009    0.000    0.047    0.000 _unitconversion.py:200(__init__)\n",
      "     2000    0.012    0.000    0.039    0.000 _unitconversion.py:69(<dictcomp>)\n",
      "     2000    0.003    0.000    0.036    0.000 series.py:262(__init__)\n",
      "     2000    0.002    0.000    0.035    0.000 series.py:769(__eq__)\n",
      "     1000    0.003    0.000    0.033    0.000 _unitconversion.py:440(__new__)\n",
      "     2000    0.008    0.000    0.033    0.000 series.py:688(_comp)\n",
      "     2000    0.008    0.000    0.028    0.000 series.py:73(sequence_to_pyseries)\n",
      "    17000    0.008    0.000    0.027    0.000 frame.py:7552(get_column)\n",
      "     2000    0.005    0.000    0.027    0.000 {built-in method builtins.sorted}\n",
      "     4000    0.007    0.000    0.026    0.000 _unitconversion.py:82(<genexpr>)\n",
      "152014/136000    0.013    0.000    0.026    0.000 {built-in method builtins.isinstance}\n",
      "   326000    0.023    0.000    0.023    0.000 {method 'split' of 'str' objects}\n",
      "     2000    0.004    0.000    0.022    0.000 _unitconversion.py:332(dims)\n",
      "     4000    0.013    0.000    0.021    0.000 _unitconversion.py:223(symbol_sorter)\n",
      "     4000    0.004    0.000    0.017    0.000 frame.py:5236(slice)\n",
      "     8000    0.003    0.000    0.014    0.000 typing.py:993(__instancecheck__)\n",
      "     6000    0.005    0.000    0.014    0.000 series.py:1451(item)\n",
      "     2000    0.002    0.000    0.013    0.000 getitem.py:179(_select_columns)\n",
      "    17000    0.006    0.000    0.013    0.000 wrap.py:20(wrap_s)\n",
      "     8000    0.003    0.000    0.011    0.000 typing.py:1154(__subclasscheck__)\n",
      "     2000    0.002    0.000    0.011    0.000 series.py:299(_construct_series_with_fallbacks)\n",
      "     6000    0.001    0.000    0.011    0.000 series.py:4025(to_list)\n",
      "     4000    0.010    0.000    0.010    0.000 {method 'slice' of 'builtins.PyDataFrame' objects}\n",
      "    28000    0.005    0.000    0.010    0.000 {built-in method builtins.issubclass}\n",
      "     6000    0.009    0.000    0.009    0.000 {method 'to_list' of 'builtins.PySeries' objects}\n",
      "    25000    0.006    0.000    0.009    0.000 series.py:361(_from_pyseries)\n",
      "     6000    0.003    0.000    0.009    0.000 series.py:2828(slice)\n",
      "     5000    0.002    0.000    0.008    0.000 re.py:187(match)\n",
      "     2000    0.005    0.000    0.008    0.000 shape_base.py:219(vstack)\n",
      "     1000    0.003    0.000    0.008    0.000 _unitconversion.py:367(to_si)\n",
      "     4000    0.003    0.000    0.008    0.000 fromnumeric.py:1140(argmax)\n",
      "    19000    0.003    0.000    0.008    0.000 {built-in method builtins.len}\n",
      "     2000    0.008    0.000    0.008    0.000 {built-in method new_from_any_values_and_dtype}\n",
      "     3000    0.002    0.000    0.007    0.000 _unitconversion.py:345(args)\n",
      "    14000    0.003    0.000    0.007    0.000 series.py:571(dtype)\n",
      "     2000    0.005    0.000    0.007    0.000 convert.py:322(maybe_cast)\n",
      "    17000    0.006    0.000    0.006    0.000 {method 'get_column' of 'builtins.PyDataFrame' objects}\n",
      "     2000    0.001    0.000    0.006    0.000 getitem.py:261(_select_columns_by_name)\n",
      "    18000    0.004    0.000    0.006    0.000 classes.py:93(__eq__)\n",
      "6000/4000    0.003    0.000    0.006    0.000 _unitconversion.py:877(__getattribute__)\n",
      "     2000    0.001    0.000    0.006    0.000 {method 'sum' of 'numpy.ndarray' objects}\n",
      "     3000    0.002    0.000    0.005    0.000 _unitconversion.py:351(mathtext)\n",
      "     5000    0.001    0.000    0.005    0.000 series.py:1232(__getitem__)\n",
      "    12000    0.003    0.000    0.005    0.000 series.py:4558(len)\n",
      "     4000    0.002    0.000    0.005    0.000 fromnumeric.py:53(_wrapfunc)\n",
      "     6000    0.002    0.000    0.005    0.000 series.py:655(__len__)\n",
      "     8000    0.002    0.000    0.005    0.000 abc.py:121(__subclasscheck__)\n",
      "     2000    0.001    0.000    0.005    0.000 _methods.py:47(_sum)\n",
      "     2000    0.004    0.000    0.004    0.000 {method 'select' of 'builtins.PyDataFrame' objects}\n",
      "    44000    0.004    0.000    0.004    0.000 {method 'startswith' of 'str' objects}\n",
      "     2000    0.004    0.000    0.004    0.000 {method 'reduce' of 'numpy.ufunc' objects}\n",
      "     5000    0.002    0.000    0.004    0.000 getitem.py:47(get_series_item_by_key)\n",
      "     2000    0.002    0.000    0.004    0.000 utils.py:153(get_ffi_func)\n",
      "    33000    0.004    0.000    0.004    0.000 {built-in method __new__ of type object at 0x00007FFAECF8C920}\n",
      "    14000    0.004    0.000    0.004    0.000 {method 'dtype' of 'builtins.PySeries' objects}\n",
      "     6000    0.004    0.000    0.004    0.000 {method 'findall' of 're.Pattern' objects}\n",
      "     6000    0.004    0.000    0.004    0.000 {method 'slice' of 'builtins.PySeries' objects}\n",
      "     5000    0.003    0.000    0.003    0.000 re.py:288(_compile)\n",
      "     3000    0.002    0.000    0.003    0.000 _maths.py:14(__new__)\n",
      "     6000    0.003    0.000    0.003    0.000 frame.py:499(_from_pydf)\n",
      "     1000    0.003    0.000    0.003    0.000 _unitconversion.py:267(<listcomp>)\n",
      "     2000    0.003    0.000    0.003    0.000 _unitconversion.py:342(<listcomp>)\n",
      "     2000    0.002    0.000    0.003    0.000 shape_base.py:81(atleast_2d)\n",
      "     8000    0.002    0.000    0.003    0.000 {built-in method _abc._abc_subclasscheck}\n",
      "     2000    0.002    0.000    0.003    0.000 utils.py:68(get_first_non_none)\n",
      "     4000    0.003    0.000    0.003    0.000 {method 'argmax' of 'numpy.ndarray' objects}\n",
      "     6000    0.003    0.000    0.003    0.000 {method 'get_index' of 'builtins.PySeries' objects}\n",
      "     5000    0.002    0.000    0.002    0.000 {method 'match' of 're.Pattern' objects}\n",
      "     2000    0.002    0.000    0.002    0.000 shape_base.py:23(atleast_1d)\n",
      "     2000    0.001    0.000    0.002    0.000 _unitconversion.py:949(x)\n",
      "     3000    0.002    0.000    0.002    0.000 _unitconversion.py:354(<listcomp>)\n",
      "     2000    0.002    0.000    0.002    0.000 constructor.py:50(polars_type_to_constructor)\n",
      "     4000    0.001    0.000    0.002    0.000 convert.py:65(is_polars_dtype)\n",
      "     2000    0.002    0.000    0.002    0.000 {built-in method new_opt_i64}\n",
      "    12000    0.002    0.000    0.002    0.000 {method 'len' of 'builtins.PySeries' objects}\n",
      "     2000    0.002    0.000    0.002    0.000 convert.py:253(dtype_to_py_type)\n",
      "     2000    0.002    0.000    0.002    0.000 {built-in method numpy.array}\n",
      "     2000    0.001    0.000    0.002    0.000 dataclasses.py:1210(is_dataclass)\n",
      "     2000    0.001    0.000    0.002    0.000 shape_base.py:215(_vhstack_dispatcher)\n",
      "     2000    0.001    0.000    0.001    0.000 {method 'eq_str' of 'builtins.PySeries' objects}\n",
      "     5000    0.001    0.000    0.001    0.000 {method 'get_index_signed' of 'builtins.PySeries' objects}\n",
      "     7000    0.001    0.000    0.001    0.000 {built-in method builtins.getattr}\n",
      "     4000    0.001    0.000    0.001    0.000 {built-in method builtins.hasattr}\n",
      "     2000    0.001    0.000    0.001    0.000 convert.py:243(dtype_to_ffiname)\n",
      "     1000    0.001    0.000    0.001    0.000 {method 'view' of 'numpy.ndarray' objects}\n",
      "     2000    0.001    0.000    0.001    0.000 _unitconversion.py:944(u)\n",
      "     2000    0.001    0.000    0.001    0.000 utils.py:63(is_pydantic_model)\n",
      "     2000    0.001    0.000    0.001    0.000 shape_base.py:207(_arrays_for_stack_dispatcher)\n",
      "     5000    0.001    0.000    0.001    0.000 {method 'replace' of 'str' objects}\n",
      "     2000    0.001    0.000    0.001    0.000 _unitconversion.py:229(<dictcomp>)\n",
      "     3000    0.001    0.000    0.001    0.000 _miscellaneous.py:125(is_integer)\n",
      "     2000    0.000    0.000    0.001    0.000 {built-in method builtins.next}\n",
      "     8000    0.001    0.000    0.001    0.000 {method 'items' of 'dict' objects}\n",
      "     2000    0.001    0.000    0.001    0.000 _unitconversion.py:90(<listcomp>)\n",
      "     4000    0.001    0.000    0.001    0.000 utils.py:75(<genexpr>)\n",
      "     2000    0.000    0.000    0.001    0.000 classes.py:178(is_nested)\n",
      "     6000    0.001    0.000    0.001    0.000 {method 'append' of 'list' objects}\n",
      "     4000    0.001    0.000    0.001    0.000 {method 'join' of 'str' objects}\n",
      "     1000    0.000    0.000    0.001    0.000 _unitconversion.py:472(__array_finalize__)\n",
      "     6000    0.000    0.000    0.000    0.000 classes.py:105(base_type)\n",
      "     1000    0.000    0.000    0.000    0.000 {built-in method numpy.zeros}\n",
      "     4000    0.000    0.000    0.000    0.000 fromnumeric.py:1136(_argmax_dispatcher)\n",
      "     4000    0.000    0.000    0.000    0.000 {built-in method numpy.asanyarray}\n",
      "     2000    0.000    0.000    0.000    0.000 dependencies.py:225(_check_for_pydantic)\n",
      "     2000    0.000    0.000    0.000    0.000 _collections_abc.py:315(__subclasshook__)\n",
      "     2000    0.000    0.000    0.000    0.000 various.py:145(warn_null_comparison)\n",
      "     2000    0.000    0.000    0.000    0.000 {method 'groups' of 're.Match' objects}\n",
      "     3000    0.000    0.000    0.000    0.000 {built-in method builtins.abs}\n",
      "     2000    0.000    0.000    0.000    0.000 multiarray.py:153(concatenate)\n",
      "     2000    0.000    0.000    0.000    0.000 {method 'get' of 'dict' objects}\n",
      "     2000    0.000    0.000    0.000    0.000 shape_base.py:19(_atleast_1d_dispatcher)\n",
      "     2000    0.000    0.000    0.000    0.000 {built-in method builtins.callable}\n",
      "     2000    0.000    0.000    0.000    0.000 shape_base.py:77(_atleast_2d_dispatcher)\n",
      "       14    0.000    0.000    0.000    0.000 ipkernel.py:775(_clean_thread_parent_frames)\n",
      "        7    0.000    0.000    0.000    0.000 ipkernel.py:790(<setcomp>)\n",
      "        7    0.000    0.000    0.000    0.000 threading.py:1478(enumerate)\n",
      "       42    0.000    0.000    0.000    0.000 threading.py:1145(ident)\n",
      "       28    0.000    0.000    0.000    0.000 {method 'keys' of 'dict' objects}\n",
      "       14    0.000    0.000    0.000    0.000 {method 'values' of 'dict' objects}\n",
      "        7    0.000    0.000    0.000    0.000 {method '__exit__' of '_thread.RLock' objects}\n",
      "        1    0.000    0.000    0.000    0.000 {method 'disable' of '_lsprof.Profiler' objects}\n",
      "\n",
      "\n"
     ]
    }
   ],
   "source": [
    "# Advanced run time profiling stats\n",
    "import cProfile\n",
    "import pstats\n",
    "\n",
    "cProfile.run(\"[omega * radius for _ in range(1000)]\", sort=pstats.SortKey.CUMULATIVE)"
   ]
  }
 ],
 "metadata": {
  "kernelspec": {
   "display_name": "Python 3 (ipykernel)",
   "language": "python",
   "name": "python3"
  },
  "language_info": {
   "codemirror_mode": {
    "name": "ipython",
    "version": 3
   },
   "file_extension": ".py",
   "mimetype": "text/x-python",
   "name": "python",
   "nbconvert_exporter": "python",
   "pygments_lexer": "ipython3",
   "version": "3.10.11"
  }
 },
 "nbformat": 4,
 "nbformat_minor": 5
}
