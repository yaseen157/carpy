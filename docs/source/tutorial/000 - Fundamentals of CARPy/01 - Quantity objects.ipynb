{
 "cells": [
  {
   "cell_type": "markdown",
   "id": "a5de6d10-e4cd-4847-96fb-880f052216f8",
   "metadata": {},
   "source": [
    "<h1 align=\"center\";>\n",
    "    <img style=\"float: right; padding-bottom:40px;\" src=\"https://raw.githubusercontent.com/yaseen157/carpy/main/branding/logo_primary.png\" width=\"300\"/>\n",
    "</h1>\n",
    "\n",
    "# Quantity objects\n",
    "\n",
    "#### 📖 <span style=\"color:#5a83ab\">Learning Objectives</span>\n",
    "\n",
    "In this notebook you will...\n",
    "\n",
    "> ... learn what `Quantity` objects are.<br>\n",
    "> ... understand how to create `Quantity` objects.<br>\n",
    "> ... know how to manipulate `Quantity` objects to your benefit."
   ]
  },
  {
   "cell_type": "markdown",
   "id": "26342a26-7c26-41a9-a545-e72e4a3e20fc",
   "metadata": {},
   "source": [
    "## NumPy arrays"
   ]
  },
  {
   "cell_type": "markdown",
   "id": "275933a1-42f8-4285-b32b-8295e04c9c8e",
   "metadata": {},
   "source": [
    "One of the scientific Python community's most iconic packages is the [NumPy](https://github.com/numpy/numpy) library.\n",
    "The fundamental n-dimensional array type `ndarray` is often used to manipulate arrays in a number of \"dimensions\".\n",
    "\n",
    "Here's how you might create a one-dimensional array:"
   ]
  },
  {
   "cell_type": "code",
   "execution_count": 1,
   "id": "6fdbac0b-58c8-4382-b954-767aa44580bc",
   "metadata": {},
   "outputs": [
    {
     "name": "stdout",
     "output_type": "stream",
     "text": [
      "arr1 = array([-2. ,  0. ,  1.5,  2.1])\n",
      "\n",
      "type(arr1) = <class 'numpy.ndarray'>\n",
      "number of dimensions = 1\n",
      "\n"
     ]
    }
   ],
   "source": [
    "import numpy as np\n",
    "\n",
    "velocities = [-2, 0, 1.5, 2.1]  # 1D data\n",
    "arr1 = np.array(velocities)\n",
    "\n",
    "print(f\"arr1 = {repr(arr1)}\\n\")\n",
    "\n",
    "print(f\"type(arr1) = {type(arr1)}\")\n",
    "print(f\"number of dimensions = {arr1.ndim}\\n\")"
   ]
  },
  {
   "cell_type": "markdown",
   "id": "7bdde9f3-bfcc-4937-accd-5aeadcf529cd",
   "metadata": {},
   "source": [
    "## CARPy Quantities"
   ]
  },
  {
   "cell_type": "markdown",
   "id": "f9777e44-1617-48af-b95e-8e6d56a56ecb",
   "metadata": {},
   "source": [
    "Users of NumPy will be comfortable with the idea of using a `Quantity` object in its place. The `Quantity` object *subclasses* the `ndarray` class, meaning in simple terms you can do a lot of the things a regular array can:"
   ]
  },
  {
   "cell_type": "code",
   "execution_count": 2,
   "id": "1c1eef5b-d87f-44ac-8e4c-e357a05967a5",
   "metadata": {},
   "outputs": [
    {
     "name": "stdout",
     "output_type": "stream",
     "text": [
      "qty1 = Quantity([-2. ,  0. ,  1.5,  2.1], no_unit)\n",
      "\n",
      "type(qty1) = <class 'carpy.utility._unitconversion.Quantity'>\n",
      "number of dimensions = 1\n",
      "\n"
     ]
    }
   ],
   "source": [
    "from carpy.utility import Quantity\n",
    "\n",
    "qty1 = Quantity(velocities)\n",
    "\n",
    "print(f\"qty1 = {repr(qty1)}\\n\")\n",
    "\n",
    "print(f\"type(qty1) = {type(qty1)}\")\n",
    "print(f\"number of dimensions = {qty1.ndim}\\n\")"
   ]
  },
  {
   "cell_type": "markdown",
   "id": "d6408725-b676-418e-9afe-4528a97c5404",
   "metadata": {},
   "source": [
    "But `Quantity` objects really shine when users make use of its intelligent unit handling:"
   ]
  },
  {
   "cell_type": "code",
   "execution_count": 3,
   "id": "2cfb1b3a-8b3a-4a61-b7ea-454b3190d207",
   "metadata": {},
   "outputs": [
    {
     "name": "stdout",
     "output_type": "stream",
     "text": [
      "qty3 = Quantity([-108.8621688 ,    0.        ,   81.6466266 ,  114.30527724], kg m s^{-1})\n",
      "\n"
     ]
    }
   ],
   "source": [
    "# Create Quantity objects with values and units\n",
    "qty1 = Quantity(velocities, \"m s^-1\")\n",
    "qty2 = Quantity(120, \"lb\")\n",
    "\n",
    "# Manipulate your Quantity objects\n",
    "qty3 = qty2 * qty1\n",
    "\n",
    "# Your results are ready!\n",
    "print(f\"qty3 = {repr(qty3)}\\n\")"
   ]
  },
  {
   "cell_type": "markdown",
   "id": "5888d7e5-acc9-4a7c-bb55-658b4f41a7b1",
   "metadata": {},
   "source": [
    "So long as a unit is instantiated with the pattern `<unit_1> <unit_2> ... <unit_n>` (make sure to include the whitepsace between units), the values are converted into SI in the background, and then propagated to any child arrays."
   ]
  },
  {
   "cell_type": "markdown",
   "id": "404737ad-91bb-48b3-84e4-a665d7b48bf0",
   "metadata": {},
   "source": [
    "## Specifics of reading `Quantity` values"
   ]
  },
  {
   "cell_type": "markdown",
   "id": "998435c8-2eb5-46c9-ac9d-3b91e786a824",
   "metadata": {},
   "source": [
    "### `repr()` vs `str()`"
   ]
  },
  {
   "cell_type": "markdown",
   "id": "884c0e61-b669-489c-a773-a6eaf6e894a9",
   "metadata": {},
   "source": [
    "For your convenience, `Quantity` objects can be presented in two ways.\n",
    "1. From `__repr__` - what you usually get when you type something into your Python console, i.e. a *representation* of the object. Your preferred code development environment will use the function `repr()` to obtain this string representation of your object.\n",
    "2. From `__str__` - what you usually get when you print something using `print()`, i.e. the *string* version of the object. The `print()` function will use the function `str()` to obtain this pretty string of your object.\n",
    "\n",
    "As a rule of thumb, `__repr__` tends to be (but is not always) a form of the object that the user can copy directly from console, paste it back into the console, and instantiate a brand new object with it. The `__str__` version is prettier to look at. Here's what that looks like for the original `ndarray` objects:"
   ]
  },
  {
   "cell_type": "code",
   "execution_count": 4,
   "id": "6e02b988-cb2a-47d1-a15c-99bb2da369b0",
   "metadata": {},
   "outputs": [
    {
     "name": "stdout",
     "output_type": "stream",
     "text": [
      "NumPy array presentation:\n",
      "__repr__ style: array([-2. ,  0. ,  1.5,  2.1])\n",
      "__str__ style: [-2.   0.   1.5  2.1]\n",
      "\n"
     ]
    }
   ],
   "source": [
    "print(\"NumPy array presentation:\")\n",
    "print(f\"__repr__ style: {repr(arr1)}\")\n",
    "print(f\"__str__ style: {str(arr1)}\\n\")"
   ]
  },
  {
   "cell_type": "markdown",
   "id": "1b90b7b6-28ba-45d0-83b9-adbb008b4933",
   "metadata": {},
   "source": [
    "In most cases, something similar will happen for `Quantity` objects - that is unless the `Quantity` object you were using came from a non-SI unit:"
   ]
  },
  {
   "cell_type": "code",
   "execution_count": 5,
   "id": "e7f95e87-477c-4263-b332-381c09249c94",
   "metadata": {},
   "outputs": [
    {
     "name": "stdout",
     "output_type": "stream",
     "text": [
      "CARPy Quantity presentation:\n",
      "__repr__ style: Quantity([54.4310844], kg)\n",
      "__str__ style: [120.] lb\n",
      "\n"
     ]
    }
   ],
   "source": [
    "print(\"CARPy Quantity presentation:\")\n",
    "print(f\"__repr__ style: {repr(qty2)}\")\n",
    "print(f\"__str__ style: {str(qty2)}\\n\")"
   ]
  },
  {
   "cell_type": "markdown",
   "id": "169e81de-d9ba-4c9f-9db2-df48daf519ab",
   "metadata": {},
   "source": [
    "This is primarily so when you are coding, the `__repr__` format presents you with numbers that make mathematical sense as you are manipulating them.\n",
    "On the other hand, when you are presenting or writing data, you are more likely to end up with the `__str__` version."
   ]
  },
  {
   "cell_type": "markdown",
   "id": "d3a6338f-e5d1-47af-aa4e-243bab413c18",
   "metadata": {},
   "source": [
    "### `.x`, `.to()`, and `.u`"
   ]
  },
  {
   "cell_type": "markdown",
   "id": "f1286ee8-13c8-4754-ba03-48f9b6c180ee",
   "metadata": {},
   "source": [
    "If you need to access the original `ndarray` values inside of a `Quantity`, you can use the `.x` property:"
   ]
  },
  {
   "cell_type": "code",
   "execution_count": 6,
   "id": "3aec86e8-726d-4210-82dc-5553be6aa756",
   "metadata": {},
   "outputs": [
    {
     "name": "stdout",
     "output_type": "stream",
     "text": [
      "qty2.x: array([54.4310844])\n",
      "\n"
     ]
    }
   ],
   "source": [
    "print(f\"qty2.x: {repr(qty2.x)}\\n\")"
   ]
  },
  {
   "cell_type": "markdown",
   "id": "fb987bc6-8cd3-485b-aa86-7f37c5b8b4fa",
   "metadata": {},
   "source": [
    "<div class=\"alert alert-block alert-info\"> <b>📝 Note:</b>\n",
    "    Although we instantiated qty2 with 120 lbs, the <b><tt>.x</tt></b> property returned the value in SI base units of kilograms.\n",
    "    The reason for this decision is that users who call methods that are incompatible with <b><tt>Quantity</tt></b> may still wish to access the values being represented.\n",
    "    In such a case, it is far more likely that the user will want the SI values, as the more mathematically consistent unit system.\n",
    "</div>"
   ]
  },
  {
   "cell_type": "markdown",
   "id": "6da78322-3f00-4fd1-b88c-75a76d98bebc",
   "metadata": {},
   "source": [
    "If this is unacceptable, you can make use of the `.to()` method which accepts a unit string as an argument:"
   ]
  },
  {
   "cell_type": "code",
   "execution_count": 7,
   "id": "1e6164ef-768e-4b2c-ba7e-9e8f5df496fe",
   "metadata": {},
   "outputs": [
    {
     "name": "stdout",
     "output_type": "stream",
     "text": [
      "[120.] lb is [8.57142857] stone\n"
     ]
    }
   ],
   "source": [
    "# Present qty2 in units of stone\n",
    "print(f\"{qty2} is {qty2.to('st')} stone\")"
   ]
  },
  {
   "cell_type": "markdown",
   "id": "495e4187-e3d6-4d90-97c9-307e2db4ac9c",
   "metadata": {},
   "source": [
    "Finally, if you want the original units with which a `Quantity` was established, use the `.u` property:"
   ]
  },
  {
   "cell_type": "code",
   "execution_count": 8,
   "id": "d1529488-7d25-422b-af5c-1182ade2f836",
   "metadata": {},
   "outputs": [
    {
     "name": "stdout",
     "output_type": "stream",
     "text": [
      "qty3.u = kg m s^{-1}\n",
      "\n"
     ]
    }
   ],
   "source": [
    "# Find out with what units qty3 was instantiated with\n",
    "print(f\"qty3.u = {repr(qty3.u)}\\n\")"
   ]
  },
  {
   "cell_type": "markdown",
   "id": "e086dd28-5575-4185-9b29-40ed433d2f6c",
   "metadata": {},
   "source": [
    "<div class=\"alert alert-block alert-info\"> <b>💡 Tip:</b>\n",
    "If you would like to use <b><tt>Quantity</tt></b> objects in a computation and then plot the results in terms of the original units, <b><tt>.u</tt></b> and <b><tt>.to()</tt></b> will come in very handy!\n",
    "</div>"
   ]
  },
  {
   "cell_type": "code",
   "execution_count": 9,
   "id": "4d71f280-0991-4f63-afe0-1f45bbdde0dd",
   "metadata": {},
   "outputs": [
    {
     "data": {
      "image/png": "[encoded data removed]",
      "text/plain": [
       "<Figure size 640x480 with 1 Axes>"
      ]
     },
     "metadata": {},
     "output_type": "display_data"
    }
   ],
   "source": [
    "from matplotlib import pyplot as plt\n",
    "\n",
    "t_elapsed = Quantity([0, 1, 2, 3], \"min\")\n",
    "vs = Quantity(velocities, \"m s^-1\")\n",
    "\n",
    "# Create a plot\n",
    "fig, ax = plt.subplots()\n",
    "ax.plot(t_elapsed.to(t_elapsed.u), vs)  # <-- plot time in minutes against velocity\n",
    "\n",
    "# Label your plot as appropriate\n",
    "ax.set_xlabel(f\"Elapsed Time [{t_elapsed.u}]\")\n",
    "ax.set_ylabel(f\"Velocity [${vs.u}$]\")\n",
    "\n",
    "plt.show()"
   ]
  },
  {
   "cell_type": "markdown",
   "id": "db5b123e-0dde-4a40-8bab-9e871415f37b",
   "metadata": {},
   "source": [
    "## A quick chat about radians and steradians"
   ]
  },
  {
   "cell_type": "markdown",
   "id": "043b73a3-9966-4877-809a-81614ea20a3b",
   "metadata": {},
   "source": [
    "`Quantity` does its best to preserve dimensionality of units through computations, but in some cases this is not possible.\n",
    "For example, take the formula for force due to centripetal motion"
   ]
  },
  {
   "cell_type": "markdown",
   "id": "cb8e7719-3fd3-4bbc-8827-8e590670d7dc",
   "metadata": {},
   "source": [
    "$$F=ma \\quad \\text{with} \\quad a = \\frac{v^2}{r} \\quad \\longrightarrow \\quad F = m\\frac{v^2}{r}$$"
   ]
  },
  {
   "cell_type": "markdown",
   "id": "11ac8caa-fdb1-420f-880a-3a5c969a29c4",
   "metadata": {},
   "source": [
    "Ostensibly, the units of force $F$ are the products of consitutent terms mass $m$, tangential speed $v$, and radius of gyration $r$"
   ]
  },
  {
   "cell_type": "markdown",
   "id": "391db05f-0f07-4364-b524-e9c80cd0a6f9",
   "metadata": {},
   "source": [
    "$$[kg \\cdot ms^{-2}] = [kg] \\times \\frac{[m^2s^{-2}]}{[m]}$$"
   ]
  },
  {
   "cell_type": "markdown",
   "id": "d223ae28-1681-4154-add5-05e0899f71ca",
   "metadata": {},
   "source": [
    "But the tangential speed $v$ is related to radius of gyration $r$ through $v = r \\cdot \\omega$, where $\\omega$ is the angular velocity in radians per second.\n",
    "We're left with the problem that "
   ]
  },
  {
   "cell_type": "markdown",
   "id": "5acd1d16-9730-4590-8428-07c759c5d6c7",
   "metadata": {},
   "source": [
    "$$[ms^{-1}] \\neq [m] \\cdot [rad \\; s^{-1}] \\quad \\text{???}$$"
   ]
  },
  {
   "cell_type": "markdown",
   "id": "8704dbf1-490d-4297-afba-51e79e559916",
   "metadata": {},
   "source": [
    "in the case that SI-derived ratio \"units\" (radians, steradians) are treated with the same dimensional rules as the other base units.\n",
    "The solution is that radians and steradians are treated as dimensionless, and have values equal to 1 - allowing them to appear and disappear at will.\n",
    "As a result, `Quantity` objects may spawn these ghostly radian or steradian units during trigonometric operations, or delete them outright if the `Quantity` deems it inappropriate to propagate the unit:"
   ]
  },
  {
   "cell_type": "code",
   "execution_count": 10,
   "id": "3d8ad351-eb19-4896-a26a-1c55ad0d9cf8",
   "metadata": {},
   "outputs": [
    {
     "name": "stdout",
     "output_type": "stream",
     "text": [
      "Quantity([31.41592654], m s^{-1}) = Quantity([5], m) x Quantity([6.28318531], s^{-1} rad)\n"
     ]
    }
   ],
   "source": [
    "# The rule for propagation is if it's not adding or subtracting, don't propagate it\n",
    "omega = Quantity(60, \"rpm\")\n",
    "radius = Quantity(5, \"m\")\n",
    "\n",
    "v_t = radius * omega\n",
    "\n",
    "print(f\"{repr(v_t)} = {repr(radius)} x {repr(omega)}\")"
   ]
  },
  {
   "cell_type": "code",
   "execution_count": 11,
   "id": "8a4346b8-0eee-46f2-8acd-ee450f37d478",
   "metadata": {},
   "outputs": [
    {
     "data": {
      "text/plain": [
       "array([31.41592654])"
      ]
     },
     "execution_count": 11,
     "metadata": {},
     "output_type": "execute_result"
    }
   ],
   "source": [
    "# Users can force as many radians as they want into a unit (not sure why you'd want to!)\n",
    "v_t.to(\"rad^68 m s^-1\")"
   ]
  },
  {
   "cell_type": "code",
   "execution_count": 12,
   "id": "30293f2c-946c-46fc-8269-cf93d0168b36",
   "metadata": {},
   "outputs": [
    {
     "data": {
      "text/plain": [
       "Quantity([0.78539816], rad)"
      ]
     },
     "execution_count": 12,
     "metadata": {},
     "output_type": "execute_result"
    }
   ],
   "source": [
    "# Trigonometry can spawn radian units - the result is angular after all\n",
    "np.arctan(Quantity(1, None))"
   ]
  }
 ],
 "metadata": {
  "kernelspec": {
   "display_name": "Python 3 (ipykernel)",
   "language": "python",
   "name": "python3"
  },
  "language_info": {
   "codemirror_mode": {
    "name": "ipython",
    "version": 3
   },
   "file_extension": ".py",
   "mimetype": "text/x-python",
   "name": "python",
   "nbconvert_exporter": "python",
   "pygments_lexer": "ipython3",
   "version": "3.12.4"
  }
 },
 "nbformat": 4,
 "nbformat_minor": 5
}
