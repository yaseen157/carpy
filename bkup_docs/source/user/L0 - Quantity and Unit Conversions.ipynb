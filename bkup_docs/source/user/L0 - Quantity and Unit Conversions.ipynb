{
 "cells": [
  {
   "cell_type": "markdown",
   "id": "6a6df029",
   "metadata": {},
   "source": [
    "# Quantity and Unit Conversions"
   ]
  },
  {
   "cell_type": "code",
   "execution_count": 1,
   "id": "33b19aab",
   "metadata": {},
   "outputs": [],
   "source": [
    "# Add path to src/CARPy, in case notebook is running locally\n",
    "import os, sys, warnings\n",
    "sys.path.append(os.path.abspath(os.path.join(os.getcwd(), \"..\\\\..\\\\..\\\\src\")))\n",
    "warnings.simplefilter(\"ignore\")  # <-- Suppress warnings"
   ]
  },
  {
   "cell_type": "markdown",
   "id": "d0e89434",
   "metadata": {},
   "source": [
    "***\n",
    "## Introduction"
   ]
  },
  {
   "cell_type": "markdown",
   "id": "c3d89448",
   "metadata": {},
   "source": [
    "Engineers regularly have to deal with many types and systems of units.\n",
    "CARPy simplifies working with different unit systems using:\n",
    "\n",
    "1. `Quantity`: objects that capture the dimensionality of units, making the majority of unit conversions both robust and easy.\n",
    "\n",
    "CARPy is built to support a wide array of units, but due to the inumerable possible combinations of units - proper testing of each unit conversion is not possible.\n",
    "Users are encouraged to verify conversions are correct by hand, if in doubt."
   ]
  },
  {
   "cell_type": "markdown",
   "id": "560fb070",
   "metadata": {},
   "source": [
    "***\n",
    "## 1) `Quantity` objects"
   ]
  },
  {
   "cell_type": "markdown",
   "id": "96a18d1c",
   "metadata": {},
   "source": [
    "Start with relevant imports"
   ]
  },
  {
   "cell_type": "code",
   "execution_count": 2,
   "id": "5517710d",
   "metadata": {},
   "outputs": [
    {
     "name": "stdout",
     "output_type": "stream",
     "text": [
      "101320.748119 kg m⁻¹ s⁻²\n"
     ]
    }
   ],
   "source": [
    "from carpy.utility import Quantity\n",
    "\n",
    "# Create a Quantity object\n",
    "pressure_reading = Quantity(29.92, \"inHg\")\n",
    "\n",
    "print(pressure_reading)"
   ]
  },
  {
   "cell_type": "markdown",
   "id": "5871ee0a",
   "metadata": {},
   "source": [
    "`Quantity` objects display values in SI base units at every opportunity.\n",
    "The inherent advantage of this representation is that mathematical operations and manipulations of the unit will always provide predictable values for the `Quantity` object.\n",
    "\n",
    "For example, `pressure * area = force`:"
   ]
  },
  {
   "cell_type": "code",
   "execution_count": 3,
   "id": "34ed602b",
   "metadata": {},
   "outputs": [
    {
     "name": "stdout",
     "output_type": "stream",
     "text": [
      "The wetted surface is experiencing a force of 37652.02206132 kg m s⁻²\n"
     ]
    }
   ],
   "source": [
    "wet_area = Quantity(4, \"ft^{2}\")\n",
    "\n",
    "force = pressure_reading * wet_area\n",
    "print(f\"The wetted surface is experiencing a force of {force}\")"
   ]
  },
  {
   "cell_type": "markdown",
   "id": "a2f420d5",
   "metadata": {},
   "source": [
    "If you don't want to view units in base SI form, conversions are trivial:"
   ]
  },
  {
   "cell_type": "code",
   "execution_count": 4,
   "id": "7d73d435",
   "metadata": {},
   "outputs": [
    {
     "name": "stdout",
     "output_type": "stream",
     "text": [
      "37652.02206132 kg m s⁻² == 8464.511285172002, [lbf]\n"
     ]
    }
   ],
   "source": [
    "# Convert quantity objects to other units using the '.to()' method!\n",
    "print(f\"{force} == {force.to('lbf')}, [lbf]\")"
   ]
  },
  {
   "cell_type": "markdown",
   "id": "848b782e",
   "metadata": {},
   "source": [
    "A full description of supported units is provided below (this table is best viewed in a wide screen):"
   ]
  },
  {
   "cell_type": "code",
   "execution_count": 5,
   "id": "537b6e22",
   "metadata": {
    "scrolled": false
   },
   "outputs": [
    {
     "name": "stdout",
     "output_type": "stream",
     "text": [
      "            System        Symbol(s)                                            Name   s   m  kg   A  K mol cd rad sr\n",
      "0               SI                s                                          second   1   0   0   0  0   0  0   0  0\n",
      "1               SI                m                                           metre   0   1   0   0  0   0  0   0  0\n",
      "2               SI                g                                            gram   0   0   1   0  0   0  0   0  0\n",
      "3               SI                A                                          ampere   0   0   0   1  0   0  0   0  0\n",
      "4               SI                K                                          kelvin   0   0   0   0  1   0  0   0  0\n",
      "5               SI              mol                                            mole   0   0   0   0  0   1  0   0  0\n",
      "6               SI               cd                                         candela   0   0   0   0  0   0  1   0  0\n",
      "7               SI              rad                                          radian   0   0   0   0  0   0  0   1  0\n",
      "8               SI               sr                                       steradian   0   0   0   0  0   0  0   0  1\n",
      "9               SI               Hz                                           hertz  -1   0   0   0  0   0  0   0  0\n",
      "10              SI                N                                          newton  -2   1   1   0  0   0  0   0  0\n",
      "11              SI               Pa                                          pascal  -2  -1   1   0  0   0  0   0  0\n",
      "12              SI                J                                           joule  -2   2   1   0  0   0  0   0  0\n",
      "13              SI                W                                            watt  -3   2   1   0  0   0  0   0  0\n",
      "14              SI                C                                         coulomb   1   0   0   1  0   0  0   0  0\n",
      "15              SI                V                                            volt  -3   2   1  -1  0   0  0   0  0\n",
      "16              SI                F                                           farad   4  -2  -1   2  0   0  0   0  0\n",
      "17              SI                O                                             ohm  -3   2   1  -2  0   0  0   0  0\n",
      "18              SI                S                                         siemens   3  -2  -1   2  0   0  0   0  0\n",
      "19              SI               Wb                                           weber  -2   2   1  -1  0   0  0   0  0\n",
      "20              SI                T                                           tesla  -2   0   1  -1  0   0  0   0  0\n",
      "21              SI                H                                           henry  -2   2   1  -2  0   0  0   0  0\n",
      "22              SI             degC                                  degree Celsius   0   0   0   0  1   0  0   0  0\n",
      "23              SI               lm                                           lumen   0   0   0   0  0   0  1   0  1\n",
      "24              SI               lx                                             lux   0  -2   0   0  0   0  1   0  1\n",
      "25              SI               Bq                                       becquerel  -1   0   0   0  0   0  0   0  0\n",
      "26              SI               Gy                                            gray  -2   2   0   0  0   0  0   0  0\n",
      "27              SI               Sv                                         sievert  -2   2   0   0  0   0  0   0  0\n",
      "28              SI              kat                                           katal  -1   0   0   0  0   1  0   0  0\n",
      "29          metric              min                                          minute   1   0   0   0  0   0  0   0  0\n",
      "30          metric             h,hr                                            hour   1   0   0   0  0   0  0   0  0\n",
      "31          metric            d,day                                             day   1   0   0   0  0   0  0   0  0\n",
      "32          metric            au,AU                               astronomical unit   0   1   0   0  0   0  0   0  0\n",
      "33          metric               ly                                      light year   0   1   0   0  0   0  0   0  0\n",
      "34          metric               pc                                          parsec   0   1   0   0  0   0  0   0  0\n",
      "35          metric              deg                                          degree   0   0   0   0  0   0  0   1  0\n",
      "36          metric           arcmin                                       arcminute   0   0   0   0  0   0  0   1  0\n",
      "37          metric           arcsec                                       arcsecond   0   0   0   0  0   0  0   1  0\n",
      "38          metric               ha                                         hectare   0   2   0   0  0   0  0   0  0\n",
      "39          metric              l,L                                           litre   0   3   0   0  0   0  0   0  0\n",
      "40          metric            ml,mL                                      millilitre   0   3   0   0  0   0  0   0  0\n",
      "41          metric          t,tonne                                           tonne   0   0   1   0  0   0  0   0  0\n",
      "42          metric               Da                                          dalton   0   0   1   0  0   0  0   0  0\n",
      "43          metric              dyn                                            dyne  -2   1   1   0  0   0  0   0  0\n",
      "44          metric       kgf,kgF,kp                       kilogram-force (kilopond)  -2   1   1   0  0   0  0   0  0\n",
      "45          metric             mbar                                        millibar  -2  -1   1   0  0   0  0   0  0\n",
      "46          metric              bar                                             bar  -2  -1   1   0  0   0  0   0  0\n",
      "47          metric             dbar                                         decibar  -2  -1   1   0  0   0  0   0  0\n",
      "48          metric               eV                                    electronvolt  -2   2   1   0  0   0  0   0  0\n",
      "49   miscellaneous              atm                            atmospheric pressure  -2  -1   1   0  0   0  0   0  0\n",
      "50   miscellaneous             mmHg                          millimetres of mercury  -2  -1   1   0  0   0  0   0  0\n",
      "51   miscellaneous             inHg                               inches of mercury  -2  -1   1   0  0   0  0   0  0\n",
      "52   miscellaneous            mTorr                                       millitorr  -2  -1   1   0  0   0  0   0  0\n",
      "53   miscellaneous             Torr                                            torr  -2  -1   1   0  0   0  0   0  0\n",
      "54   miscellaneous          rps,RPS                          revolutions per second  -1   0   0   0  0   0  0   1  0\n",
      "55   miscellaneous          rpm,RPM                          revolutions per minute  -1   0   0   0  0   0  0   1  0\n",
      "56        Imperial               th                                            thou   0   1   0   0  0   0  0   0  0\n",
      "57        Imperial               in                                            inch   0   1   0   0  0   0  0   0  0\n",
      "58        Imperial               hh                                            hand   0   1   0   0  0   0  0   0  0\n",
      "59        Imperial               ft                                            foot   0   1   0   0  0   0  0   0  0\n",
      "60        Imperial               yd                                            yard   0   1   0   0  0   0  0   0  0\n",
      "61        Imperial               ch                                           chain   0   1   0   0  0   0  0   0  0\n",
      "62        Imperial              fur                                         furlong   0   1   0   0  0   0  0   0  0\n",
      "63        Imperial               mi                                            mile   0   1   0   0  0   0  0   0  0\n",
      "64        Imperial              lea                                          league   0   1   0   0  0   0  0   0  0\n",
      "65        Imperial              ftm                                          fathom   0   1   0   0  0   0  0   0  0\n",
      "66        Imperial         nmi,M,NM                                   nautical mile   0   1   0   0  0   0  0   0  0\n",
      "67        Imperial            kn,kt                                            knot  -1   1   0   0  0   0  0   0  0\n",
      "68        Imperial            fl.oz                                     fluid ounce   0   3   0   0  0   0  0   0  0\n",
      "69        Imperial               gi                                            gill   0   3   0   0  0   0  0   0  0\n",
      "70        Imperial                c                                             cup   0   3   0   0  0   0  0   0  0\n",
      "71        Imperial               pt                                            pint   0   3   0   0  0   0  0   0  0\n",
      "72        Imperial               qt                                           quart   0   3   0   0  0   0  0   0  0\n",
      "73        Imperial              gal                                          gallon   0   3   0   0  0   0  0   0  0\n",
      "74        Imperial               pk                                            peck   0   3   0   0  0   0  0   0  0\n",
      "75        Imperial           bsh,bu                                          bushel   0   3   0   0  0   0  0   0  0\n",
      "76             USC              tsp                                        teaspoon   0   3   0   0  0   0  0   0  0\n",
      "77             USC             tbsp                                      tablespoon   0   3   0   0  0   0  0   0  0\n",
      "78             USC            fl.dr                                 U.S. fluid dram   0   3   0   0  0   0  0   0  0\n",
      "79             USC            fl.oz                                U.S. fluid ounce   0   3   0   0  0   0  0   0  0\n",
      "80             USC               gi                                       U.S. gill   0   3   0   0  0   0  0   0  0\n",
      "81             USC               pt                                       U.S. pint   0   3   0   0  0   0  0   0  0\n",
      "82             USC               qt                                      U.S. quart   0   3   0   0  0   0  0   0  0\n",
      "83             USC              pot                                     U.S. pottle   0   3   0   0  0   0  0   0  0\n",
      "84             USC              gal                                     U.S. gallon   0   3   0   0  0   0  0   0  0\n",
      "85             USC          pt(dry)                                   U.S. dry pint   0   3   0   0  0   0  0   0  0\n",
      "86             USC          qt(dry)                                  U.S. dry quart   0   3   0   0  0   0  0   0  0\n",
      "87             USC         gal(dry)                                 U.S. dry gallon   0   3   0   0  0   0  0   0  0\n",
      "88             USC          pk(dry)                                   U.S. dry peck   0   3   0   0  0   0  0   0  0\n",
      "89             USC           bsh,bu                                          bushel   0   3   0   0  0   0  0   0  0\n",
      "90        Imperial               gr                                           grain   0   0   1   0  0   0  0   0  0\n",
      "91        Imperial               dr                                          drachm   0   0   1   0  0   0  0   0  0\n",
      "92        Imperial               oz                                           ounce   0   0   1   0  0   0  0   0  0\n",
      "93        Imperial           lb,lbm                                    pound (mass)   0   0   1   0  0   0  0   0  0\n",
      "94        Imperial               st                                           stone   0   0   1   0  0   0  0   0  0\n",
      "95        Imperial               qr                                         quarter   0   0   1   0  0   0  0   0  0\n",
      "96        Imperial        cwt(long)                              long hundredweight   0   0   1   0  0   0  0   0  0\n",
      "97        Imperial        ton(long)                                        long ton   0   0   1   0  0   0  0   0  0\n",
      "98             USC       cwt(short)                                US hundredweight   0   0   1   0  0   0  0   0  0\n",
      "99             USC       ton(short)                                       short ton   0   0   1   0  0   0  0   0  0\n",
      "100       Imperial             slug                                            slug   0   0   1   0  0   0  0   0  0\n",
      "101       Imperial              lbf                                     pound-force  -2   1   1   0  0   0  0   0  0\n",
      "102       Imperial              psi                     pound-force per square inch  -2  -1   1   0  0   0  0   0  0\n",
      "103       Imperial               hp                                      horsepower  -3   2   1   0  0   0  0   0  0\n",
      "104       Imperial             degF                                degree Farenheit   0   0   0   0  1   0  0   0  0\n",
      "105       Imperial             degR                                  degree Rankine   0   0   0   0  1   0  0   0  0\n",
      "106       Imperial              cal                  thermochemical (small) calorie  -2   2   1   0  0   0  0   0  0\n",
      "107       Imperial             kcal                  thermochemical (large) calorie  -2   2   1   0  0   0  0   0  0\n",
      "108       Imperial          cal(IT)       international steam table (small) calorie  -2   2   1   0  0   0  0   0  0\n",
      "109       Imperial         kcal(IT)       international steam table (large) calorie  -2   2   1   0  0   0  0   0  0\n",
      "110       Imperial          Btu,BTU             thermochemical british thermal unit  -2   2   1   0  0   0  0   0  0\n",
      "111       Imperial  Btu(IT),BTU(IT)  international steam table british thermal unit  -2   2   1   0  0   0  0   0  0\n",
      "112       Imperial            therm                   100,000 british thermal units  -2   2   1   0  0   0  0   0  0\n",
      "113       Imperial             quad                     10^15 british thermal units  -2   2   1   0  0   0  0   0  0\n",
      "114            Bel           f,(fW)                                                  -3   2   1   0  0   0  0   0  0\n",
      "115            Bel           k,(kW)                                                  -3   2   1   0  0   0  0   0  0\n",
      "116            Bel           m,(mW)                                                  -3   2   1   0  0   0  0   0  0\n",
      "117            Bel               m0                                                  -3   2   1   0  0   0  0   0  0\n"
     ]
    }
   ],
   "source": [
    "import pandas as pd\n",
    "\n",
    "from carpy.utility._unitconversion import dfs as units_dfs\n",
    "\n",
    "# Properly implemented units will have a \"transform\" value (don't worry about what this means to you).\n",
    "# We can filter out units that aren't yet fully defined to CARPy using this variable...\n",
    "available_units = units_dfs[\"dimensions\"][units_dfs[\"dimensions\"][\"transform\"] != 0]\n",
    "available_units = available_units.reset_index()\n",
    "\n",
    "# For the units that are implemented show system, symbol(s), unit name(s), and related (SI base) dimensions\n",
    "with pd.option_context(\n",
    "    'display.max_rows', None,\n",
    "   'display.max_columns', None,\n",
    "   'display.width', 160\n",
    "   ):\n",
    "    print(available_units[[\"System\", \"Symbol(s)\", \"Name\", \"s\", \"m\", \"kg\", \"A\", \"K\", \"mol\", \"cd\", \"rad\", \"sr\"]])"
   ]
  },
  {
   "cell_type": "markdown",
   "id": "51d9ff2a",
   "metadata": {},
   "source": [
    "As can be seen above, CARPy supports a number of conversions between systems such as SI, metric, imperial, U.S. customary, and other miscellaneous units."
   ]
  },
  {
   "cell_type": "markdown",
   "id": "e02f750f",
   "metadata": {},
   "source": [
    "You can currently even convert from denary to decibel scales:"
   ]
  },
  {
   "cell_type": "code",
   "execution_count": 6,
   "id": "4b4b0ed2",
   "metadata": {},
   "outputs": [
    {
     "name": "stdout",
     "output_type": "stream",
     "text": [
      "30 dBm is equivalent to 0.0 [dBW] or 1.0 [W]\n"
     ]
    }
   ],
   "source": [
    "# 30 decibel milliWatt\n",
    "decibel_power = Quantity(30, \"dBm\")\n",
    "\n",
    "print(f\"30 dBm is equivalent to {decibel_power.to('dBW')} [dBW] or {decibel_power.to('W')} [W]\")"
   ]
  },
  {
   "cell_type": "markdown",
   "id": "e7c672d6",
   "metadata": {},
   "source": [
    "and of course, decibel units are also capable of manipulations like `power * time = energy` (thanks default SI representation!):"
   ]
  },
  {
   "cell_type": "code",
   "execution_count": 7,
   "id": "f31513df",
   "metadata": {},
   "outputs": [
    {
     "name": "stdout",
     "output_type": "stream",
     "text": [
      "1. kg m² s⁻³ acting over 1. s releases 1. kg m² s⁻²\n"
     ]
    }
   ],
   "source": [
    "duration = Quantity(1, \"s\")\n",
    "\n",
    "energy = decibel_power * duration\n",
    "print(f\"{decibel_power} acting over {duration} releases {energy}\")"
   ]
  },
  {
   "cell_type": "markdown",
   "id": "7a8a2725",
   "metadata": {},
   "source": [
    "More complex, *compound* units can be specified too - just remember to put any powers of units inside of curly braces, and units should be separated by spaces:"
   ]
  },
  {
   "cell_type": "code",
   "execution_count": 8,
   "id": "3b592586",
   "metadata": {},
   "outputs": [
    {
     "name": "stdout",
     "output_type": "stream",
     "text": [
      "The RD-843 has a thrust specific fuel consumption of 11.41 [lb/lbf/hr].\n"
     ]
    }
   ],
   "source": [
    "# Thrust specific fuel consumption of an RD-843 liquid fuel rocket engine\n",
    "tsfc_RD_843 = Quantity(323.2, \"g kN^{-1} s^{-1}\")\n",
    "\n",
    "print(f\"The RD-843 has a thrust specific fuel consumption of {tsfc_RD_843.to('lb lbf^{-1} hr^{-1}'):.2f} [lb/lbf/hr].\")"
   ]
  },
  {
   "cell_type": "code",
   "execution_count": null,
   "id": "4fbd8dca",
   "metadata": {},
   "outputs": [],
   "source": []
  }
 ],
 "metadata": {
  "kernelspec": {
   "display_name": "Python 3 (ipykernel)",
   "language": "python",
   "name": "python3"
  },
  "language_info": {
   "codemirror_mode": {
    "name": "ipython",
    "version": 3
   },
   "file_extension": ".py",
   "mimetype": "text/x-python",
   "name": "python",
   "nbconvert_exporter": "python",
   "pygments_lexer": "ipython3",
   "version": "3.9.5"
  }
 },
 "nbformat": 4,
 "nbformat_minor": 5
}
