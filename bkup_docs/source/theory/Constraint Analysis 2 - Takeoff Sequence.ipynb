{
 "cells": [
  {
   "cell_type": "markdown",
   "id": "68f3b82f",
   "metadata": {},
   "source": [
    "# Constraint Analysis 2 - Takeoff Sequence"
   ]
  },
  {
   "cell_type": "markdown",
   "id": "8f3c3037",
   "metadata": {},
   "source": [
    "In this notebook, we revisit approaches to constraint analysis based on energy theory for the unique case of takeoff.\n",
    "Readers are referred to the previous notebook for more details on the steps taken during derivation."
   ]
  },
  {
   "cell_type": "markdown",
   "id": "2e237a90",
   "metadata": {},
   "source": [
    "## Force Balance"
   ]
  },
  {
   "cell_type": "markdown",
   "id": "10070090",
   "metadata": {},
   "source": [
    "<img src=\"./images/Free-body-diagram-runway.png\" width=\"50%\" align=\"left\">\n",
    "\n",
    "Consider the 2D forces in a free-body diagram, acting on an <font style=\"color:orange;\">aircraft</font>. It's not uncommon to see simplifications in analysis that treat the thrust vector of an aircraft directly opposing the drag force, however this is not always the case. We can gather a more insightful representation of the force balance where:\n",
    "\n",
    "$\\hspace{1cm}$<font style=\"color:red;\">$\\varepsilon$</font> = Thrust setting angle (versus aircraft chordline)\n",
    "\n",
    "$\\hspace{1cm}$<font style=\"color:orange;\">$\\alpha$</font> = Freestream angle of attack (with respect to aircraft body)\n",
    "\n",
    "$\\hspace{1cm}$<font style=\"color:green;\">$\\theta$</font> = Aircraft pitch angle (aircraft chordline versus horizon)\n",
    "\n",
    "$\\hspace{1cm}$<font style=\"color:blue;\">$\\gamma$</font> = Flight path angle (instantaneous trajectory)\n",
    "\n",
    "$\\hspace{1cm}$<font style=\"color:purple;\">$V$</font> = Freestream (with respect to aircraft body)\n",
    "<br>\n",
    "<br>\n",
    "Resolving forces in the direction parallel to the flight path trajectory (freestream), we find (with vehicle weight $W$):\n",
    "\n",
    "$\\hspace{1cm} T\\cos($<font style=\"color:orange;\">$\\alpha$</font> $+$ <font style=\"color:red;\">$\\varepsilon$</font>$)$\n",
    "$- D - W \\sin($<font style=\"color:blue;\">$\\gamma$</font>$)\\hspace{3pt} - R \\big( \\mu \\cos($<font style=\"color:orange;\">$\\alpha$</font>$) + \\sin($<font style=\"color:orange;\">$\\alpha$</font>$) \\big)= F_{\\text{resultant}}$"
   ]
  },
  {
   "cell_type": "markdown",
   "id": "bfe237ef",
   "metadata": {},
   "source": [
    "where the friction (rolling resistance) force is the product of the coefficient of friction $\\mu$ and reaction force $R$ with the runway surface.\n",
    "The effect of $R$ to decelerate the aircraft can be reduced for a given $\\mu$ by reducing the angle of attack."
   ]
  },
  {
   "cell_type": "markdown",
   "id": "c1156f76",
   "metadata": {},
   "source": [
    "However, the reaction force $R$ itself is given by balancing thrust, lift, drag, and weight in a direction normal to the runway surface"
   ]
  },
  {
   "cell_type": "markdown",
   "id": "07798807",
   "metadata": {},
   "source": [
    "$$\n",
    "R\n",
    "= W \\cos (\\theta)\n",
    "- \\big\\{\n",
    "    L \\cos (\\alpha) + T \\sin(\\varepsilon) + D \\sin (\\alpha)\n",
    "\\big\\}\n",
    "$$"
   ]
  },
  {
   "cell_type": "markdown",
   "id": "5bec4717",
   "metadata": {},
   "source": [
    "for which it is beneficial to increase the lift and drag forces (traditionally by increasing angle of attack).\n",
    "Since we know $\\mu=0$ is unphysical, it is not immediately obvious that a frictionless takeoff with $[\\alpha,\\mu] = 0$ is even the optimal solution to maximise acceleration!"
   ]
  },
  {
   "cell_type": "markdown",
   "id": "4dcb5106",
   "metadata": {},
   "source": [
    "#### Streamwise Acceleration"
   ]
  },
  {
   "cell_type": "markdown",
   "id": "fef858d7",
   "metadata": {},
   "source": [
    "Substituting this expression for reaction force into the original force balance yields"
   ]
  },
  {
   "cell_type": "markdown",
   "id": "456f8cef",
   "metadata": {},
   "source": [
    "$$\n",
    "T \\cos (\\alpha + \\varepsilon) - D - W \\sin(\\gamma)\n",
    "- \\left( \\mu \\cos(\\alpha) + \\sin(\\alpha) \\right)\n",
    "\\cdot \\big\\{ W \\cos (\\theta) - L \\cos(\\alpha) - T \\sin(\\varepsilon) - D \\sin(\\alpha) \\big\\}\n",
    "= F_{\\text{resultant}}\n",
    "$$"
   ]
  },
  {
   "cell_type": "markdown",
   "id": "271debcf",
   "metadata": {},
   "source": [
    "Newton's second law tells us that the resultant force is the product of vehicle mass and streamwise acceleration $\\dot V$"
   ]
  },
  {
   "cell_type": "markdown",
   "id": "83d89f28",
   "metadata": {},
   "source": [
    "$$\n",
    "\\begin{eqnarray}\n",
    "\\frac{\\dot V}{g} \\times W\n",
    "= &T& \\times \\big[ &\\cos(\\alpha + \\varepsilon) &+& \\left( \\mu \\cos(\\alpha) + \\sin(\\alpha) \\right) \\cdot \\sin (\\varepsilon) &\\big] + \\\\\n",
    "&D& \\times \\big[ &-1 &+& \\left( \\mu \\cos(\\alpha) + \\sin(\\alpha) \\right) \\cdot \\sin(\\alpha) &\\big] + \\\\\n",
    "&L& \\times \\big[ &0 &+& \\left( \\mu \\cos(\\alpha) + \\sin(\\alpha) \\right) \\cdot \\cos(\\alpha) &\\big] + \\\\\n",
    "&W& \\times \\big[ &-\\sin(\\gamma) &-& \\left( \\mu \\cos(\\alpha) + \\sin(\\alpha) \\right) \\cdot \\cos(\\theta) &\\big]\n",
    "\\end{eqnarray}\n",
    "$$"
   ]
  },
  {
   "cell_type": "markdown",
   "id": "7161356b",
   "metadata": {},
   "source": [
    "#### Streamnormal Acceleration"
   ]
  },
  {
   "cell_type": "markdown",
   "id": "8518c88c",
   "metadata": {},
   "source": [
    "For the most part, ground rolls occur with minimally curved trajectories.\n",
    "This is up until the takeoff point where the aircraft centre of mass either follows a sharply curved trajectory (e.g. ski-jump), or until the aircraft is generating sufficient lift for rotation/lift-off."
   ]
  },
  {
   "cell_type": "markdown",
   "id": "b4220d2e",
   "metadata": {},
   "source": [
    "Resolving forces in the streamnormal direction for the associated streamnormal acceleration $\\dot V_n$"
   ]
  },
  {
   "cell_type": "markdown",
   "id": "cc896f5f",
   "metadata": {},
   "source": [
    "$$\n",
    "L\n",
    "+ T \\sin (\\alpha + \\varepsilon)\n",
    "- W \\cos (\\gamma)\n",
    "- (\\mu \\sin(\\alpha) - \\cos (\\alpha))\n",
    "\\cdot \\big\\{ W \\cos (\\theta) - L \\cos(\\alpha) - T \\sin(\\varepsilon) - D \\sin(\\alpha) \\big\\}\n",
    "= \\frac{\\dot V_n}{g} \\times W\n",
    "$$"
   ]
  },
  {
   "cell_type": "markdown",
   "id": "78ecb81a",
   "metadata": {},
   "source": [
    "$$\n",
    "\\begin{eqnarray}\n",
    "\\frac{\\dot V_n}{g} \\times W\n",
    "= &T& \\times \\big[ &\\sin(\\alpha + \\varepsilon) &+& \\left( \\mu \\sin(\\alpha) - \\cos(\\alpha) \\right) \\cdot \\sin (\\varepsilon) &\\big] + \\\\\n",
    "&D& \\times \\big[ &0 &+& \\left( \\mu \\sin(\\alpha) - \\cos(\\alpha) \\right) \\cdot \\sin(\\alpha) &\\big] + \\\\\n",
    "&L& \\times \\big[ &1 &+& \\left( \\mu \\sin(\\alpha) - \\cos(\\alpha) \\right) \\cdot \\cos(\\alpha) &\\big] + \\\\\n",
    "&W& \\times \\big[ &-\\cos(\\gamma) &-& \\left( \\mu \\sin(\\alpha) - \\cos(\\alpha) \\right) \\cdot \\cos(\\theta) &\\big]\n",
    "\\end{eqnarray}\n",
    "$$"
   ]
  },
  {
   "cell_type": "markdown",
   "id": "1061e902",
   "metadata": {},
   "source": [
    "## Thrust-to-Weight Objective Functions"
   ]
  },
  {
   "cell_type": "markdown",
   "id": "a99edb62",
   "metadata": {},
   "source": [
    "Using the non-dimensionalisations of lift and drag equations:"
   ]
  },
  {
   "cell_type": "markdown",
   "id": "152d9afd",
   "metadata": {},
   "source": [
    "$$\n",
    "L = qS \\cdot \\text{C}_L \\implies \\left( L / W \\right) = \\frac{q}{\\left(W / S \\right)} \\cdot \\text{C}_L \\\\\n",
    "D = qS \\cdot \\text{C}_D \\implies \\left( D / W \\right) = \\frac{q}{\\left(W / S \\right)} \\cdot \\text{C}_D \\\\\n",
    "$$"
   ]
  },
  {
   "cell_type": "markdown",
   "id": "23649647",
   "metadata": {},
   "source": [
    "where $q$ is the flight dynamic pressure, $S$ is the reference wing area, and $\\text{C}_L$ and $\\text{C}_D$ are the vehicle's coefficients of lift and drag. We can find $T/W$ in terms of streamwise and streamnormal force balances"
   ]
  },
  {
   "cell_type": "markdown",
   "id": "b8c0b2d4",
   "metadata": {},
   "source": [
    "Streamwise:"
   ]
  },
  {
   "cell_type": "markdown",
   "id": "9d351a7b",
   "metadata": {},
   "source": [
    "$$\n",
    "\\frac{T}{W}\n",
    "= \\frac{\n",
    "\\frac{\\dot V}{g}\n",
    "- \\frac{q}{(W/S)} \\times \\left\\{\n",
    "    \\text{C}_L \\cdot \\left( \\mu \\cos^2(\\alpha) + \\sin(\\alpha)\\cos(\\alpha) \\right)\n",
    "    + \\text{C}_D \\cdot \\left( \\mu \\sin(\\alpha)\\cos(\\alpha) + \\sin^2(\\alpha) -1 \\right)\n",
    "\\right\\}\n",
    "+ \\big[ \\sin(\\gamma) + \\left( \\mu \\cos(\\alpha) + \\sin(\\alpha) \\right) \\cdot \\cos(\\theta) \\big]\n",
    "}{\n",
    "\\cos(\\alpha + \\varepsilon) + \\left( \\mu \\cos(\\alpha) + \\sin(\\alpha) \\right) \\cdot \\sin (\\varepsilon)\n",
    "}\n",
    "$$"
   ]
  },
  {
   "cell_type": "markdown",
   "id": "85437d9f",
   "metadata": {},
   "source": [
    "Streamnormal:"
   ]
  },
  {
   "cell_type": "markdown",
   "id": "8b9e7c6c",
   "metadata": {},
   "source": [
    "$$\n",
    "\\frac{T}{W}\n",
    "= \\frac{\n",
    "\\frac{\\dot V_n}{g}\n",
    "- \\frac{q}{(W/S)} \\times \\left\\{\n",
    "    \\text{C}_L \\cdot  \\left(1 +  \\mu \\sin(\\alpha)\\cos(\\alpha) - \\cos^2(\\alpha) \\right)\n",
    "    + \\text{C}_D \\cdot \\left( \\mu \\sin^2(\\alpha) - \\sin(\\alpha)\\cos(\\alpha) \\right)\n",
    "\\right\\}\n",
    "+ \\big[ \\cos(\\gamma) + \\left( \\mu \\sin(\\alpha) - \\cos(\\alpha) \\right) \\cdot \\cos(\\theta) \\big]\n",
    "}{\n",
    "\\sin(\\alpha + \\varepsilon) + \\left( \\mu \\sin(\\alpha) - \\cos(\\alpha) \\right) \\cdot \\sin (\\varepsilon)\n",
    "}\n",
    "$$"
   ]
  },
  {
   "cell_type": "markdown",
   "id": "fb762d08",
   "metadata": {},
   "source": [
    "Notice that in the streamwise expression, setting $\\mu=0$ recovers the 2D streamwise and streamnormal equations in manoeuvring flight.\n",
    "\n",
    "The equation for manoeuvring flight in 3D considers the $T/W$ and $P/W$ required to sustain a change in yaw/heading, which we do not consider here."
   ]
  },
  {
   "cell_type": "markdown",
   "id": "a2cd4353",
   "metadata": {},
   "source": [
    "Just as before, we have just boiled down accelerations in orthogonal axes into thrust requirements of the propulsion system for each axis; the total thrust to weight requirement of prescribed flying conditions and loading is a simple, linear combination of the thrusts to weight ratios"
   ]
  },
  {
   "cell_type": "markdown",
   "id": "5aa1b35f",
   "metadata": {},
   "source": [
    "$$\n",
    "\\bigg[\\frac{T}{W} \\bigg]_{Total} = \\bigg[\\frac{T}{W} \\bigg]_{Streamwise} + \\bigg[\\frac{T}{W} \\bigg]_{Streamnormal}\n",
    "$$"
   ]
  },
  {
   "cell_type": "markdown",
   "id": "3b2dfb89",
   "metadata": {},
   "source": [
    "#### Finding Solutions"
   ]
  },
  {
   "cell_type": "markdown",
   "id": "01dd2282",
   "metadata": {},
   "source": [
    "Just as before, we'll consider the variables of the $T/W$ expressions:"
   ]
  },
  {
   "cell_type": "markdown",
   "id": "273109df",
   "metadata": {},
   "source": [
    "* We'll take $T/W = f(W/S, \\cdots)$, i.e. $T/W$ is a variable dependent on the independent design variable $W/S$.\n",
    "* The parameters $g, q, V, \\dot V, \\dot V_n, \\dot z, \\theta, \\text{ and }\\mu$ represent control variables, given by the mission profile (performance of the aircraft and conditions of the flight environment).\n",
    "* Unless thrust vectoring is supported, the fuselage is probably optimised for cruise, and so $\\varepsilon = 0 ^\\circ$ by design."
   ]
  },
  {
   "cell_type": "markdown",
   "id": "3e7ed91e",
   "metadata": {},
   "source": [
    "We are left with unknown $\\alpha, \\text{C}_L, \\text{ and } \\text{C}_D$.\n",
    "Fortunately, we can estimate $\\text{C}_L \\text{ and } \\text{C}_D$ from the $\\alpha$ in normal flight using lift curve slopes and lift polars: "
   ]
  },
  {
   "cell_type": "markdown",
   "id": "a7278eaa",
   "metadata": {},
   "source": [
    "$$\n",
    "\\text{C}_D = f(\\alpha), \\quad \\text{C}_L = f(\\alpha) \\quad \\implies \\quad T/W = f(W/S, \\alpha)\n",
    "$$"
   ]
  },
  {
   "cell_type": "markdown",
   "id": "257f29e9",
   "metadata": {},
   "source": [
    "Therefore, the family of wingloading solutions $W/S$ at a given point in the mission have corresponding $T/W$ demands."
   ]
  },
  {
   "cell_type": "markdown",
   "id": "5c2e9999",
   "metadata": {},
   "source": [
    "## Excess Power-to-Weight Objective Function"
   ]
  },
  {
   "cell_type": "markdown",
   "id": "c0b17737",
   "metadata": {},
   "source": [
    "Using the relationship $P = F \\times V$ we find that the flight power requirement is related to the acceleration and velocity of the vehicle.\n",
    "Recalling that $V \\sin \\left( \\gamma \\right) \\equiv \\dot z$ and the results from the previous notebook, we make an educated guess at the composition of the appropriate specific excess power expression during takeoff.\n",
    "Start by collecting terms to do with energy expenditure (now including a loss from energy spent overcoming friction)"
   ]
  },
  {
   "cell_type": "markdown",
   "id": "0ce78371",
   "metadata": {},
   "source": [
    "Streamwise:"
   ]
  },
  {
   "cell_type": "markdown",
   "id": "e06598e7",
   "metadata": {},
   "source": [
    "$$\n",
    "\\begin{eqnarray}\n",
    "\\frac{\\dot V}{g} \\times W\n",
    "= &T& \\times \\big[ &\\cos(\\alpha + \\varepsilon) &+& \\left( \\mu \\cos(\\alpha) + \\sin(\\alpha) \\right) \\cdot \\sin (\\varepsilon) &\\big] + \\\\\n",
    "&D& \\times \\big[ &-1 &+& \\left( \\mu \\cos(\\alpha) + \\sin(\\alpha) \\right) \\cdot \\sin(\\alpha) &\\big] + \\\\\n",
    "&L& \\times \\big[ &0 &+& \\left( \\mu \\cos(\\alpha) + \\sin(\\alpha) \\right) \\cdot \\cos(\\alpha) &\\big] + \\\\\n",
    "&W& \\times \\big[ &-\\sin(\\gamma) &-& \\left( \\mu \\cos(\\alpha) + \\sin(\\alpha) \\right) \\cdot \\cos(\\theta) &\\big]\n",
    "\\end{eqnarray}\n",
    "$$"
   ]
  },
  {
   "cell_type": "markdown",
   "id": "857deafb",
   "metadata": {},
   "source": [
    "$$\n",
    "\\begin{eqnarray}\n",
    "\\longrightarrow \\qquad\n",
    "\\frac{\\dot V}{g}\n",
    "+ \\frac{\\dot z}{V} + \\left( \\mu \\cos(\\alpha) + \\sin(\\alpha) \\right) \\cdot \\cos(\\theta)\n",
    "= &\\frac{T}{W}& \\times \\big[ &\\cos(\\alpha + \\varepsilon) &+& \\left( \\mu \\cos(\\alpha) + \\sin(\\alpha) \\right) \\cdot \\sin (\\varepsilon) &\\big] + \\\\\n",
    "&\\frac{D}{W}& \\times \\big[ &-1 &+& \\left( \\mu \\cos(\\alpha) + \\sin(\\alpha) \\right) \\cdot \\sin(\\alpha) &\\big] + \\\\\n",
    "&\\frac{L}{W}& \\times \\big[ &0 &+& \\left( \\mu \\cos(\\alpha) + \\sin(\\alpha) \\right) \\cdot \\cos(\\alpha) &\\big]\n",
    "\\end{eqnarray}\n",
    "$$"
   ]
  },
  {
   "cell_type": "markdown",
   "id": "6e864fa0",
   "metadata": {},
   "source": [
    "$$\n",
    "\\longrightarrow \\qquad\n",
    "\\frac{P}{W}\n",
    "= \\dot z\n",
    "+ \\frac{\\dot V}{g}V\n",
    "+ (\\mu \\cos(\\alpha) + \\sin(\\alpha)) \\cdot \\cos(\\theta) \\cdot V\n",
    "$$"
   ]
  },
  {
   "cell_type": "markdown",
   "id": "f77445ec",
   "metadata": {},
   "source": [
    "Streamnormal:"
   ]
  },
  {
   "cell_type": "markdown",
   "id": "7eca4361",
   "metadata": {},
   "source": [
    "$$\n",
    "\\begin{eqnarray}\n",
    "\\frac{\\dot V_n}{g} \\times W\n",
    "= &T& \\times \\big[ &\\sin(\\alpha + \\varepsilon) &+& \\left( \\mu \\sin(\\alpha) - \\cos(\\alpha) \\right) \\cdot \\sin (\\varepsilon) &\\big] + \\\\\n",
    "&D& \\times \\big[ &0 &+& \\left( \\mu \\sin(\\alpha) - \\cos(\\alpha) \\right) \\cdot \\sin(\\alpha) &\\big] + \\\\\n",
    "&L& \\times \\big[ &1 &+& \\left( \\mu \\sin(\\alpha) - \\cos(\\alpha) \\right) \\cdot \\cos(\\alpha) &\\big] + \\\\\n",
    "&W& \\times \\big[ &-\\cos(\\gamma) &-& \\left( \\mu \\sin(\\alpha) - \\cos(\\alpha) \\right) \\cdot \\cos(\\theta) &\\big]\n",
    "\\end{eqnarray}\n",
    "$$"
   ]
  },
  {
   "cell_type": "markdown",
   "id": "2b4531a3",
   "metadata": {},
   "source": [
    "$$\n",
    "\\begin{eqnarray}\n",
    "\\longrightarrow \\qquad\n",
    "\\frac{\\dot V_n}{g}\n",
    "+ \\sqrt{1 - \\left( \\frac{\\dot z}{V} \\right)^2} + \\left( \\mu \\sin(\\alpha) - \\cos(\\alpha) \\right) \\cdot \\cos(\\theta)\n",
    "= &\\frac{T}{W}& \\times \\big[ &\\sin(\\alpha + \\varepsilon) &+& \\left( \\mu \\sin(\\alpha) - \\cos(\\alpha) \\right) \\cdot \\sin (\\varepsilon) &\\big] + \\\\\n",
    "&\\frac{D}{W}& \\times \\big[ &0 &+& \\left( \\mu \\sin(\\alpha) - \\cos(\\alpha) \\right) \\cdot \\sin(\\alpha) &\\big] + \\\\\n",
    "&\\frac{L}{W}& \\times \\big[ &1 &+& \\left( \\mu \\sin(\\alpha) - \\cos(\\alpha) \\right) \\cdot \\cos(\\alpha) &\\big]\n",
    "\\end{eqnarray}\n",
    "$$"
   ]
  },
  {
   "cell_type": "markdown",
   "id": "50b47030",
   "metadata": {},
   "source": [
    "$$\n",
    "\\longrightarrow \\qquad\n",
    "\\frac{P}{W}\n",
    "= \\sqrt{V^2 - {\\dot z}^2}\n",
    "+ \\frac{\\dot V_n}{g}V\n",
    "+ \\left( \\mu \\sin(\\alpha) - \\cos(\\alpha) \\right) \\cdot \\cos(\\theta) \\times V\n",
    "$$"
   ]
  },
  {
   "cell_type": "markdown",
   "id": "f57d376f",
   "metadata": {},
   "source": [
    "Specific Excess Power in 2D (with takeoff friction):"
   ]
  },
  {
   "cell_type": "markdown",
   "id": "f75431a6",
   "metadata": {},
   "source": [
    "$$\n",
    "P_{s}\n",
    "= \\frac{\\dot W}{W} \\times \\left( z + \\frac{V^2}{2g} \\right)\n",
    "+ \\left(\n",
    "    \\frac{\\dot z + \\sqrt{V^2 - {\\dot z}^2}}{V}\n",
    "    + \\frac{\\dot V + \\dot V_n}{g}\n",
    "    + \\left\\{ \\mu \\left[ \\sin(\\alpha) + \\cos(\\alpha) \\right] + \\left[ \\sin(\\alpha) - \\cos(\\alpha) \\right] \\right\\} \\cdot \\cos(\\theta)\n",
    "\\right) \\times V\n",
    "$$"
   ]
  },
  {
   "cell_type": "markdown",
   "id": "eb43eaf1",
   "metadata": {},
   "source": [
    "Alternatively, using the identity for linear combinations of trigonometric functions"
   ]
  },
  {
   "cell_type": "markdown",
   "id": "449997ad",
   "metadata": {},
   "source": [
    "$$\n",
    "(\\mu - 1) \\cos(\\alpha) + (\\mu + 1) \\sin(\\alpha)\n",
    "\\qquad \\text{with} \\qquad\n",
    "\\mu << 1\n",
    "$$"
   ]
  },
  {
   "cell_type": "markdown",
   "id": "db32b0bd",
   "metadata": {},
   "source": [
    "$$\n",
    "\\begin{eqnarray}\n",
    "&=& - \\sqrt{(\\mu-1)^2 + (\\mu +1)^2} \\cdot \\cos \\left(\\alpha + \\arctan \\left( \\frac{1 + \\mu}{1 - \\mu} \\right)\\right) \\\\ \\\\\n",
    "&=& - \\sqrt{2\\mu^2 + 2} \\cdot \\cos \\left(\\alpha + \\arctan \\left( \\frac{1 + \\mu}{1 - \\mu} \\right)\\right)\n",
    "\\end{eqnarray}\n",
    "$$"
   ]
  },
  {
   "cell_type": "markdown",
   "id": "9d84cc66",
   "metadata": {},
   "source": [
    "$$\n",
    "P_{s}\n",
    "= \\frac{\\dot W}{W} \\times \\left( z + \\frac{V^2}{2g} \\right)\n",
    "+ \\left(\n",
    "    \\frac{\\dot z + \\sqrt{V^2 - {\\dot z}^2}}{V}\n",
    "    + \\frac{\\dot V + \\dot V_n}{g}\n",
    "    - \\sqrt{2\\mu^2 + 2} \\cdot \\cos \\left(\\alpha + \\arctan \\left( \\frac{1 + \\mu}{1 - \\mu} \\right)\\right) \\cdot \\cos(\\theta)\n",
    "\\right) \\times V\n",
    "$$"
   ]
  },
  {
   "cell_type": "code",
   "execution_count": 41,
   "id": "b20505b0",
   "metadata": {
    "scrolled": false
   },
   "outputs": [
    {
     "data": {
      "image/png": "[encoded data removed]",
      "text/plain": [
       "<Figure size 560x420 with 1 Axes>"
      ]
     },
     "metadata": {},
     "output_type": "display_data"
    }
   ],
   "source": [
    "from matplotlib import pyplot as plt\n",
    "import numpy as np\n",
    "\n",
    "mus = np.linspace(1e-3, 1e-1)\n",
    "alphas = np.linspace(np.radians(-2), np.radians(5))\n",
    "\n",
    "X, Y = np.meshgrid(mus, alphas)\n",
    "\n",
    "Z = X * (np.sin(Y) + np.cos(Y)) + np.sin(Y) - np.cos(Y)\n",
    "# Z = -(2 * X**2 + 2)**0.5 * np.cos(Y + np.arctan((1 + X) / (1 - X)))  # This is the same expression\n",
    "\n",
    "fig, ax = plt.subplots(1, dpi=140, figsize=(4, 3))\n",
    "fig.suptitle(r\"$\\mu (\\sin(\\alpha) +\\cos(\\alpha)) + \\sin(\\alpha) - \\cos(\\alpha)$\")\n",
    "fig.subplots_adjust(top=0.9)\n",
    "\n",
    "ax.pcolormesh(X, np.degrees(Y), Z, cmap=\"GnBu\")\n",
    "CS = ax.contour(X, np.degrees(Y), Z, cmap=\"binary_r\")\n",
    "ax.clabel(CS, CS.levels)\n",
    "\n",
    "ax.set_xlabel(r\"Coefficient of rolling resistance, $\\mu$\")\n",
    "ax.set_ylabel(r\"Angle of Attack, $\\alpha$ [deg]\")\n",
    "\n",
    "plt.show()"
   ]
  },
  {
   "cell_type": "markdown",
   "id": "128a12e9",
   "metadata": {},
   "source": [
    "For typical values of $\\alpha$ and $\\mu$, (it's not quite clear to me what this means) "
   ]
  },
  {
   "cell_type": "code",
   "execution_count": null,
   "id": "5276354e",
   "metadata": {},
   "outputs": [],
   "source": []
  }
 ],
 "metadata": {
  "kernelspec": {
   "display_name": "Python 3 (ipykernel)",
   "language": "python",
   "name": "python3"
  },
  "language_info": {
   "codemirror_mode": {
    "name": "ipython",
    "version": 3
   },
   "file_extension": ".py",
   "mimetype": "text/x-python",
   "name": "python",
   "nbconvert_exporter": "python",
   "pygments_lexer": "ipython3",
   "version": "3.9.5"
  }
 },
 "nbformat": 4,
 "nbformat_minor": 5
}
