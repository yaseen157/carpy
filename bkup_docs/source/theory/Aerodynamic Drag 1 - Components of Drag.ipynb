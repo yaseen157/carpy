{
 "cells": [
  {
   "cell_type": "markdown",
   "id": "6a7798f0",
   "metadata": {},
   "source": [
    "# Aerodynamic Drag 1 - Components of Drag"
   ]
  },
  {
   "cell_type": "markdown",
   "id": "41f1e3da",
   "metadata": {},
   "source": [
    "This notebook explores how we can breakdown the complex process of drag estimation into more manageable chunks."
   ]
  },
  {
   "cell_type": "markdown",
   "id": "f0c9e326",
   "metadata": {},
   "source": [
    "## Coarse Formulation of Drag"
   ]
  },
  {
   "cell_type": "markdown",
   "id": "3f988c4b",
   "metadata": {},
   "source": [
    "The force of drag acting on an aircraft can be broken down into linear contributions from many sources"
   ]
  },
  {
   "cell_type": "markdown",
   "id": "79de1f85",
   "metadata": {},
   "source": [
    "$$D = \\Sigma_{j=0}^{N} D_j \\qquad \\text{with} \\qquad N \\,\\, \\text{sources}$$"
   ]
  },
  {
   "cell_type": "markdown",
   "id": "4cb9ffc8",
   "metadata": {},
   "source": [
    "It's helpful to non-dimensionalise the drag force into a linear sum of coefficients of drag"
   ]
  },
  {
   "cell_type": "markdown",
   "id": "4e993eb1",
   "metadata": {},
   "source": [
    "$$D = \\frac{1}{2}\\rho V^2 S C_D \\qquad \\text{where} \\qquad C_D = \\Sigma_{j=0}^N C_{D_{j}}$$"
   ]
  },
  {
   "cell_type": "markdown",
   "id": "bd1cddd6",
   "metadata": {},
   "source": [
    "and now, we can break up this drag coefficient $C_D$ into one of the following categories"
   ]
  },
  {
   "cell_type": "markdown",
   "id": "4c07f3ae",
   "metadata": {},
   "source": [
    "$$\n",
    "\\begin{eqnarray}\n",
    "C_D &=& C_{D_0} &+& C_{D_f} &+& C_{D_i} &+& C_{D_w} &+& C_{D_{\\text{misc}}} \\\\\n",
    "\\uparrow && \\uparrow && \\uparrow && \\uparrow && \\uparrow  && \\uparrow \\\\\n",
    "\\text{Total} &=& \\text{Basic} &+& \\text{Friction} &+& \\text{Induced} &+& \\text{Wave} &+& \\text{Miscellaneous}\n",
    "\\end{eqnarray}\n",
    "$$"
   ]
  },
  {
   "cell_type": "markdown",
   "id": "3b62f79c",
   "metadata": {},
   "source": [
    "The **total** drag force an aircraft is subject to is now described as the summation of..."
   ]
  },
  {
   "cell_type": "markdown",
   "id": "453e28ac",
   "metadata": {},
   "source": [
    "- **basic** drag:\n",
    "Pressure acting over a surface produces a force.\n",
    "Basic drag is the force resisting motion due to the distribution of pressure over the surface of a body.\n",
    "A symmetric aerofoil at $\\alpha=0^{\\circ}$ has a basic drag component of zero, as the pressure is distributed equally on upper and lower surfaces.\n",
    "Increasing angle of attack has a proclivity to grow regions of separated flow, in which the loss of pressure energy further imbalances the pressure distribution."
   ]
  },
  {
   "cell_type": "markdown",
   "id": "5145b5df",
   "metadata": {},
   "source": [
    "- **friction** drag:\n",
    "The drag due to viscous effects and roughness of the aerodynamic surface.\n",
    "The freestream air quality and laminar-turbulent interactions with the aerodynamic surface affect this type of drag."
   ]
  },
  {
   "cell_type": "markdown",
   "id": "3935cf87",
   "metadata": {},
   "source": [
    "- **induced** drag:\n",
    "This is drag predicted by Lanchester-Prandtl wing theory (a.k.a Prandtl lifting-line theory), in which 3D flow effects increase the effective wing angle of attack over naive 2D predictions.\n",
    "This tilts the lift-vector backwards (contributing to drag *and* reducing useful lift) and the drag-vector downwards (a further penalty to lift)."
   ]
  },
  {
   "cell_type": "markdown",
   "id": "4ada38f1",
   "metadata": {},
   "source": [
    "- **wave** drag:\n",
    "Drag associated with the formation of shockwaves.\n",
    "Designers look to either delay the onset of shockwaves to higher Mach numbers, or shaping the aircraft geometry to minimise the prevalence of shocks."
   ]
  },
  {
   "cell_type": "markdown",
   "id": "16d5af4f",
   "metadata": {},
   "source": [
    "- **miscellaneous** drag:\n",
    "An additive, constant component of drag.\n",
    "Often useful to quantise interference drag (due to the interaction of flowfields between bodies such as the fuselage, stores, pylons, antennae, etc.) and any other miscellaneous penalties that don't fit the other categories."
   ]
  },
  {
   "cell_type": "markdown",
   "id": "8863c7ae",
   "metadata": {},
   "source": [
    "A common analysis technique is to separate the drag components by those dependent and independent of lift.\n",
    "Terms independent of lift are often collected into the term $C_{D_{\\text{min}}}$, which can be referred to as *minimum drag*, *profile drag*, *parasitic drag*, or even *zero-lift drag*."
   ]
  },
  {
   "cell_type": "markdown",
   "id": "99dfeb9f",
   "metadata": {},
   "source": [
    "$$C_{D_{\\text{min}}} = C_{D_0} + C_{D_f} + C_{D_w} + C_{D_{\\text{misc}}}$$"
   ]
  },
  {
   "cell_type": "markdown",
   "id": "72ce8580",
   "metadata": {},
   "source": [
    "The drag component induced by lifting action according to Prandtl lifting line theory is"
   ]
  },
  {
   "cell_type": "markdown",
   "id": "a69f35f1",
   "metadata": {},
   "source": [
    "$$C_{D_i} = \\frac{{C_L}^2}{\\pi e \\text{AR}}$$"
   ]
  },
  {
   "cell_type": "markdown",
   "id": "90dd91c6",
   "metadata": {},
   "source": [
    "where the induced drag $C_{D_i}$ is the function of the lift coefficient $C_L$, the planform span efficiency $e$, and the effective aspect ratio of the wing $\\text{AR}$."
   ]
  },
  {
   "cell_type": "markdown",
   "id": "d9ef6deb",
   "metadata": {},
   "source": [
    "In this library, we also consider the drag due to flow separation as a function of the lift coefficient.\n",
    "For model simplification purposes, we assume that the relationship is quadratic."
   ]
  },
  {
   "cell_type": "markdown",
   "id": "48cb3cf5",
   "metadata": {},
   "source": [
    "$$C_{D_0} \\doteq \\langle C_{D_0} \\rangle + m \\cdot {C_L}^2$$"
   ]
  },
  {
   "cell_type": "markdown",
   "id": "aee08c85",
   "metadata": {},
   "source": [
    "where we now understand $\\langle C_{D_0} \\rangle$ to represent the constant component of basic drag.\n",
    "This should be fairly easy to estimate as the $C_{D_0}$ value in ideal operating conditions (little-to-no flow separation).\n",
    "Redefining $C_{D_{\\text{min}}}$ with this constant term allows us to consider $C_{D_{\\text{min}}}$ as independent of lift."
   ]
  },
  {
   "cell_type": "markdown",
   "id": "5dddbefa",
   "metadata": {},
   "source": [
    "One further modification we make to this drag model is to consider that the quadratic dependence of lift-induced drag on lift is not usually symmetric about $C_L = 0$.\n",
    "To account for this, we shift the induced drag term by the coefficient of lift at which minimum drag is achieved, $C_{L_{\\text{minD}}}$."
   ]
  },
  {
   "cell_type": "markdown",
   "id": "25f52dc7",
   "metadata": {},
   "source": [
    "The drag coefficient is now given by"
   ]
  },
  {
   "cell_type": "markdown",
   "id": "9b33db08",
   "metadata": {},
   "source": [
    "$$C_D = C_{D_{\\text{min}}} + C_{D_i} $$"
   ]
  },
  {
   "cell_type": "markdown",
   "id": "bbb845a5",
   "metadata": {},
   "source": [
    "$$\n",
    "\\begin{eqnarray}\n",
    "\\text{with} &\\quad& C_{D_{\\text{min}}}\n",
    "&=& \\langle C_{D_0} \\rangle\n",
    "+ C_{D_f} + C_{D_w} + C_{D_{\\text{misc}}} \\\\ \\\\\n",
    "\\text{and} &\\quad& C_{D_i}\n",
    "&=& \\left(m + \\frac{1}{\\pi e \\text{AR}}\\right) \\cdot \\left(C_L - C_{L_{\\text{minD}}}\\right)^2\n",
    "\\end{eqnarray}\n",
    "$$"
   ]
  },
  {
   "cell_type": "markdown",
   "id": "5554287c",
   "metadata": {},
   "source": [
    "It is common to find the constant of proportionality between lift coefficient and induced drag termed $k$, such that"
   ]
  },
  {
   "cell_type": "markdown",
   "id": "6e73bbcf",
   "metadata": {},
   "source": [
    "$$C_{D_i} = k \\cdot \\left(C_L - C_{L_{\\text{minD}}}\\right)^2$$"
   ]
  },
  {
   "cell_type": "markdown",
   "id": "b288a6c4",
   "metadata": {},
   "source": [
    "$$\n",
    "\\begin{eqnarray}\n",
    "\\text{with}&\\quad& k\n",
    "&=& m + \\frac{1}{\\pi e \\text{AR}}\n",
    "= \\frac{1}{\\pi e_0 \\text{AR}} \\\\ \\\\\n",
    "\\text{where}&\\quad& e_0\n",
    "&\\doteq& m + \\frac{e}{1 _ m \\cdot \\pi e \\text{AR}}\n",
    "\\end{eqnarray}\n",
    "$$"
   ]
  },
  {
   "cell_type": "markdown",
   "id": "ac02212d",
   "metadata": {},
   "source": [
    "and $e_0$ is known as the Oswald (span) efficiency."
   ]
  }
 ],
 "metadata": {
  "kernelspec": {
   "display_name": "Python 3 (ipykernel)",
   "language": "python",
   "name": "python3"
  },
  "language_info": {
   "codemirror_mode": {
    "name": "ipython",
    "version": 3
   },
   "file_extension": ".py",
   "mimetype": "text/x-python",
   "name": "python",
   "nbconvert_exporter": "python",
   "pygments_lexer": "ipython3",
   "version": "3.9.5"
  }
 },
 "nbformat": 4,
 "nbformat_minor": 5
}
